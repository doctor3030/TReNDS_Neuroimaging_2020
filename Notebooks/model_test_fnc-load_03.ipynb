{
 "cells": [
  {
   "cell_type": "code",
   "execution_count": 1,
   "metadata": {
    "scrolled": true
   },
   "outputs": [
    {
     "name": "stderr",
     "output_type": "stream",
     "text": [
      "Using TensorFlow backend.\n"
     ]
    }
   ],
   "source": [
    "%config IPCompleter.greedy=True\n",
    "from IPython.display import IFrame\n",
    "\n",
    "import pandas as pd\n",
    "import numpy as np\n",
    "import string\n",
    "import math\n",
    "\n",
    "import scipy.stats as sts\n",
    "\n",
    "import matplotlib.pyplot as plt\n",
    "import matplotlib.gridspec as gridspec\n",
    "import seaborn as sns\n",
    "\n",
    "from sklearn import preprocessing as prep\n",
    "import sklearn.metrics as metrics\n",
    "import sklearn.model_selection as model_selection\n",
    "from sklearn import discriminant_analysis as disan\n",
    "from sklearn import calibration as calib\n",
    "from sklearn import linear_model as lm\n",
    "from sklearn import svm\n",
    "from sklearn import gaussian_process as gaup\n",
    "from sklearn import mixture as mix\n",
    "from sklearn import tree\n",
    "from sklearn import ensemble as ens\n",
    "\n",
    "import tensorflow as tf\n",
    "from tensorflow import keras\n",
    "\n",
    "# from keras import models as kermdls\n",
    "# from keras import layers as kerlrs\n",
    "# from keras import metrics as kmetrics\n",
    "\n",
    "from hyperas import optim\n",
    "from hyperas.distributions import choice, uniform\n",
    "from hyperopt import Trials, STATUS_OK, tpe\n",
    "\n",
    "import pickle\n",
    "\n",
    "import nilearn as nl\n",
    "from nilearn import plotting, image\n",
    "from nilearn import datasets\n",
    "import nibabel as nb\n",
    "import h5py\n",
    "\n",
    "import os\n",
    "\n",
    "import time"
   ]
  },
  {
   "cell_type": "code",
   "execution_count": 2,
   "metadata": {},
   "outputs": [
    {
     "data": {
      "text/plain": [
       "True"
      ]
     },
     "execution_count": 2,
     "metadata": {},
     "output_type": "execute_result"
    }
   ],
   "source": [
    "tf.test.is_built_with_cuda()"
   ]
  },
  {
   "cell_type": "code",
   "execution_count": 3,
   "metadata": {},
   "outputs": [
    {
     "data": {
      "text/plain": [
       "[PhysicalDevice(name='/physical_device:CPU:0', device_type='CPU'),\n",
       " PhysicalDevice(name='/physical_device:XLA_CPU:0', device_type='XLA_CPU'),\n",
       " PhysicalDevice(name='/physical_device:GPU:0', device_type='GPU'),\n",
       " PhysicalDevice(name='/physical_device:XLA_GPU:0', device_type='XLA_GPU')]"
      ]
     },
     "execution_count": 3,
     "metadata": {},
     "output_type": "execute_result"
    }
   ],
   "source": [
    "tf.config.list_physical_devices()"
   ]
  },
  {
   "cell_type": "code",
   "execution_count": 4,
   "metadata": {},
   "outputs": [
    {
     "name": "stdout",
     "output_type": "stream",
     "text": [
      "[name: \"/device:CPU:0\"\n",
      "device_type: \"CPU\"\n",
      "memory_limit: 268435456\n",
      "locality {\n",
      "}\n",
      "incarnation: 13827716485705903716\n",
      ", name: \"/device:XLA_CPU:0\"\n",
      "device_type: \"XLA_CPU\"\n",
      "memory_limit: 17179869184\n",
      "locality {\n",
      "}\n",
      "incarnation: 2133445818355254324\n",
      "physical_device_desc: \"device: XLA_CPU device\"\n",
      ", name: \"/device:GPU:0\"\n",
      "device_type: \"GPU\"\n",
      "memory_limit: 6589725830\n",
      "locality {\n",
      "  bus_id: 1\n",
      "  links {\n",
      "  }\n",
      "}\n",
      "incarnation: 5865600031146029838\n",
      "physical_device_desc: \"device: 0, name: GeForce GTX 1070 Ti, pci bus id: 0000:01:00.0, compute capability: 6.1\"\n",
      ", name: \"/device:XLA_GPU:0\"\n",
      "device_type: \"XLA_GPU\"\n",
      "memory_limit: 17179869184\n",
      "locality {\n",
      "}\n",
      "incarnation: 16353154038129554916\n",
      "physical_device_desc: \"device: XLA_GPU device\"\n",
      "]\n"
     ]
    }
   ],
   "source": [
    "from tensorflow.python.client import device_lib \n",
    "print(device_lib.list_local_devices())"
   ]
  },
  {
   "cell_type": "code",
   "execution_count": 5,
   "metadata": {},
   "outputs": [
    {
     "name": "stdout",
     "output_type": "stream",
     "text": [
      "SCN(53)_vs_SCN(69)    0.368580\n",
      "SCN(98)_vs_SCN(69)    0.166876\n",
      "SCN(99)_vs_SCN(69)    0.438148\n",
      "SCN(45)_vs_SCN(69)    0.341007\n",
      "ADN(21)_vs_SCN(69)   -0.186251\n",
      "                        ...   \n",
      "CBN(4)_vs_CBN(13)    -0.042853\n",
      "CBN(7)_vs_CBN(13)     0.124627\n",
      "CBN(4)_vs_CBN(18)    -0.060712\n",
      "CBN(7)_vs_CBN(18)     0.515964\n",
      "CBN(7)_vs_CBN(4)      0.290488\n",
      "Name: 0, Length: 1378, dtype: float64\n",
      "SCN(53)_vs_SCN(69)    0.151696\n",
      "SCN(98)_vs_SCN(69)   -0.024819\n",
      "SCN(99)_vs_SCN(69)    0.217504\n",
      "SCN(45)_vs_SCN(69)    0.418072\n",
      "ADN(21)_vs_SCN(69)   -0.227234\n",
      "                        ...   \n",
      "CBN(4)_vs_CBN(13)     0.444231\n",
      "CBN(7)_vs_CBN(13)     0.592438\n",
      "CBN(4)_vs_CBN(18)     0.028649\n",
      "CBN(7)_vs_CBN(18)     0.705524\n",
      "CBN(7)_vs_CBN(4)      0.248327\n",
      "Name: 1, Length: 1378, dtype: float64\n",
      "SCN(53)_vs_SCN(69)    0.343415\n",
      "SCN(98)_vs_SCN(69)    0.109974\n",
      "SCN(99)_vs_SCN(69)    0.741641\n",
      "SCN(45)_vs_SCN(69)    0.578558\n",
      "ADN(21)_vs_SCN(69)   -0.676446\n",
      "                        ...   \n",
      "CBN(4)_vs_CBN(13)     0.409412\n",
      "CBN(7)_vs_CBN(13)     0.563892\n",
      "CBN(4)_vs_CBN(18)     0.438684\n",
      "CBN(7)_vs_CBN(18)     0.618204\n",
      "CBN(7)_vs_CBN(4)      0.284474\n",
      "Name: 2, Length: 1378, dtype: float64\n",
      "SCN(53)_vs_SCN(69)    0.132793\n",
      "SCN(98)_vs_SCN(69)    0.258255\n",
      "SCN(99)_vs_SCN(69)    0.490769\n",
      "SCN(45)_vs_SCN(69)    0.342717\n",
      "ADN(21)_vs_SCN(69)    0.091112\n",
      "                        ...   \n",
      "CBN(4)_vs_CBN(13)     0.214097\n",
      "CBN(7)_vs_CBN(13)     0.317556\n",
      "CBN(4)_vs_CBN(18)     0.012435\n",
      "CBN(7)_vs_CBN(18)     0.665937\n",
      "CBN(7)_vs_CBN(4)      0.081358\n",
      "Name: 3, Length: 1378, dtype: float64\n",
      "SCN(53)_vs_SCN(69)    0.291921\n",
      "SCN(98)_vs_SCN(69)    0.251254\n",
      "SCN(99)_vs_SCN(69)    0.416470\n",
      "SCN(45)_vs_SCN(69)    0.511719\n",
      "ADN(21)_vs_SCN(69)   -0.362626\n",
      "                        ...   \n",
      "CBN(4)_vs_CBN(13)     0.266755\n",
      "CBN(7)_vs_CBN(13)     0.227379\n",
      "CBN(4)_vs_CBN(18)     0.028984\n",
      "CBN(7)_vs_CBN(18)     0.752343\n",
      "CBN(7)_vs_CBN(4)      0.087898\n",
      "Name: 4, Length: 1378, dtype: float64\n"
     ]
    }
   ],
   "source": [
    "fnc_10 = pd.read_csv('00_Data/fnc.csv')\n",
    "fnc_10 = fnc_10.head(5)\n",
    "for row in fnc_10.iterrows():\n",
    "    idx = int(row[1][0])\n",
    "    row = row[1][1:]\n",
    "    print(row)\n",
    "#     row.to_csv('00_Data/fnc_csv_norm/{0}.csv'.format(idx))"
   ]
  },
  {
   "cell_type": "code",
   "execution_count": 6,
   "metadata": {},
   "outputs": [],
   "source": [
    "TEST_IDS = [map_id.split('.')[0] for map_id in sorted(os.listdir('00_Data/fMRI_test'))]\n",
    "TRAIN_IDS = [map_id.split('.')[0] for map_id in sorted(os.listdir('00_Data/fMRI_train'))]"
   ]
  },
  {
   "cell_type": "code",
   "execution_count": 7,
   "metadata": {},
   "outputs": [
    {
     "data": {
      "text/html": [
       "<div>\n",
       "<style scoped>\n",
       "    .dataframe tbody tr th:only-of-type {\n",
       "        vertical-align: middle;\n",
       "    }\n",
       "\n",
       "    .dataframe tbody tr th {\n",
       "        vertical-align: top;\n",
       "    }\n",
       "\n",
       "    .dataframe thead th {\n",
       "        text-align: right;\n",
       "    }\n",
       "</style>\n",
       "<table border=\"1\" class=\"dataframe\">\n",
       "  <thead>\n",
       "    <tr style=\"text-align: right;\">\n",
       "      <th></th>\n",
       "      <th>Id</th>\n",
       "      <th>age</th>\n",
       "      <th>domain1_var1</th>\n",
       "      <th>domain1_var2</th>\n",
       "      <th>domain2_var1</th>\n",
       "      <th>domain2_var2</th>\n",
       "    </tr>\n",
       "  </thead>\n",
       "  <tbody>\n",
       "    <tr>\n",
       "      <th>0</th>\n",
       "      <td>10001</td>\n",
       "      <td>57.436077</td>\n",
       "      <td>30.571975</td>\n",
       "      <td>62.553736</td>\n",
       "      <td>53.325130</td>\n",
       "      <td>51.427998</td>\n",
       "    </tr>\n",
       "    <tr>\n",
       "      <th>1</th>\n",
       "      <td>10002</td>\n",
       "      <td>59.580851</td>\n",
       "      <td>50.969456</td>\n",
       "      <td>67.470628</td>\n",
       "      <td>60.651856</td>\n",
       "      <td>58.311361</td>\n",
       "    </tr>\n",
       "    <tr>\n",
       "      <th>2</th>\n",
       "      <td>10004</td>\n",
       "      <td>71.413018</td>\n",
       "      <td>53.152498</td>\n",
       "      <td>58.012103</td>\n",
       "      <td>52.418389</td>\n",
       "      <td>62.536641</td>\n",
       "    </tr>\n",
       "    <tr>\n",
       "      <th>3</th>\n",
       "      <td>10005</td>\n",
       "      <td>66.532630</td>\n",
       "      <td>NaN</td>\n",
       "      <td>NaN</td>\n",
       "      <td>52.108977</td>\n",
       "      <td>69.993075</td>\n",
       "    </tr>\n",
       "    <tr>\n",
       "      <th>4</th>\n",
       "      <td>10007</td>\n",
       "      <td>38.617381</td>\n",
       "      <td>49.197021</td>\n",
       "      <td>65.674285</td>\n",
       "      <td>40.151376</td>\n",
       "      <td>34.096421</td>\n",
       "    </tr>\n",
       "    <tr>\n",
       "      <th>...</th>\n",
       "      <td>...</td>\n",
       "      <td>...</td>\n",
       "      <td>...</td>\n",
       "      <td>...</td>\n",
       "      <td>...</td>\n",
       "      <td>...</td>\n",
       "    </tr>\n",
       "    <tr>\n",
       "      <th>5872</th>\n",
       "      <td>21746</td>\n",
       "      <td>14.257265</td>\n",
       "      <td>21.358872</td>\n",
       "      <td>61.165998</td>\n",
       "      <td>51.778483</td>\n",
       "      <td>54.640179</td>\n",
       "    </tr>\n",
       "    <tr>\n",
       "      <th>5873</th>\n",
       "      <td>21747</td>\n",
       "      <td>55.456978</td>\n",
       "      <td>68.169675</td>\n",
       "      <td>29.907995</td>\n",
       "      <td>55.349257</td>\n",
       "      <td>54.019517</td>\n",
       "    </tr>\n",
       "    <tr>\n",
       "      <th>5874</th>\n",
       "      <td>21750</td>\n",
       "      <td>48.948756</td>\n",
       "      <td>55.114811</td>\n",
       "      <td>60.878271</td>\n",
       "      <td>38.617246</td>\n",
       "      <td>50.679885</td>\n",
       "    </tr>\n",
       "    <tr>\n",
       "      <th>5875</th>\n",
       "      <td>21752</td>\n",
       "      <td>66.532630</td>\n",
       "      <td>59.844808</td>\n",
       "      <td>72.303110</td>\n",
       "      <td>55.458281</td>\n",
       "      <td>46.870235</td>\n",
       "    </tr>\n",
       "    <tr>\n",
       "      <th>5876</th>\n",
       "      <td>21754</td>\n",
       "      <td>68.820928</td>\n",
       "      <td>56.594193</td>\n",
       "      <td>34.605868</td>\n",
       "      <td>49.922535</td>\n",
       "      <td>50.383078</td>\n",
       "    </tr>\n",
       "  </tbody>\n",
       "</table>\n",
       "<p>5877 rows × 6 columns</p>\n",
       "</div>"
      ],
      "text/plain": [
       "         Id        age  domain1_var1  domain1_var2  domain2_var1  domain2_var2\n",
       "0     10001  57.436077     30.571975     62.553736     53.325130     51.427998\n",
       "1     10002  59.580851     50.969456     67.470628     60.651856     58.311361\n",
       "2     10004  71.413018     53.152498     58.012103     52.418389     62.536641\n",
       "3     10005  66.532630           NaN           NaN     52.108977     69.993075\n",
       "4     10007  38.617381     49.197021     65.674285     40.151376     34.096421\n",
       "...     ...        ...           ...           ...           ...           ...\n",
       "5872  21746  14.257265     21.358872     61.165998     51.778483     54.640179\n",
       "5873  21747  55.456978     68.169675     29.907995     55.349257     54.019517\n",
       "5874  21750  48.948756     55.114811     60.878271     38.617246     50.679885\n",
       "5875  21752  66.532630     59.844808     72.303110     55.458281     46.870235\n",
       "5876  21754  68.820928     56.594193     34.605868     49.922535     50.383078\n",
       "\n",
       "[5877 rows x 6 columns]"
      ]
     },
     "execution_count": 7,
     "metadata": {},
     "output_type": "execute_result"
    }
   ],
   "source": [
    "data = pd.read_csv('00_Data/train_scores.csv')\n",
    "data"
   ]
  },
  {
   "cell_type": "code",
   "execution_count": 8,
   "metadata": {},
   "outputs": [
    {
     "data": {
      "text/plain": [
       "Id                0\n",
       "age               0\n",
       "domain1_var1    438\n",
       "domain1_var2    438\n",
       "domain2_var1     39\n",
       "domain2_var2     39\n",
       "dtype: int64"
      ]
     },
     "execution_count": 8,
     "metadata": {},
     "output_type": "execute_result"
    }
   ],
   "source": [
    "data.isnull().sum()"
   ]
  },
  {
   "cell_type": "code",
   "execution_count": 9,
   "metadata": {},
   "outputs": [],
   "source": [
    "# nulls = data.isnull().sum()\n",
    "# l = len(data.index)\n",
    "\n",
    "# nulls['domain1_var1'] / l"
   ]
  },
  {
   "cell_type": "code",
   "execution_count": 10,
   "metadata": {},
   "outputs": [],
   "source": [
    "data = data.dropna()"
   ]
  },
  {
   "cell_type": "code",
   "execution_count": 11,
   "metadata": {},
   "outputs": [
    {
     "name": "stdout",
     "output_type": "stream",
     "text": [
      "Dataset length:  5434\n"
     ]
    }
   ],
   "source": [
    "print('Dataset length: ', len(data.index))"
   ]
  },
  {
   "cell_type": "code",
   "execution_count": 12,
   "metadata": {},
   "outputs": [],
   "source": [
    "# def get_inputs_fnc(idx, labels):\n",
    "#     df = pd.read_csv('00_Data/fnc_csv/{0}.csv'.format(idx), index_col=0)\n",
    "#     X = np.array(df.values).reshape(-1)\n",
    "#     return X, labels"
   ]
  },
  {
   "cell_type": "code",
   "execution_count": 13,
   "metadata": {},
   "outputs": [],
   "source": [
    "# def get_inputs_loading(idx, labels):\n",
    "#     df = pd.read_csv('00_Data/loading_csv/{0}.csv'.format(idx), index_col=0)\n",
    "#     X = np.array(df.values).reshape(-1)\n",
    "#     return X, labels"
   ]
  },
  {
   "cell_type": "code",
   "execution_count": 14,
   "metadata": {},
   "outputs": [],
   "source": [
    "def get_inputs(idx, labels):\n",
    "    df_fnc = pd.read_csv('00_Data/fnc_csv/{0}.csv'.format(idx), index_col=0)\n",
    "    X_fnc = np.array(df_fnc.values).reshape(-1)\n",
    "    \n",
    "    df_loading = pd.read_csv('00_Data/loading_csv/{0}.csv'.format(idx), index_col=0)\n",
    "    X_loading = np.array(df_loading.values).reshape(-1)\n",
    "#     print(X_fnc[0])\n",
    "#     print(X_loading[0])\n",
    "#     print(labels[0])\n",
    "#     print(X_fnc.shape)\n",
    "#     print(X_loading.shape)\n",
    "#     print(labels.shape)\n",
    "\n",
    "#     X_fnc = tf.convert_to_tensor(X_fnc, dtype=tf.float64)\n",
    "#     X_loading = tf.convert_to_tensor(X_loading, dtype=tf.float64)\n",
    "#     labels = tf.convert_to_tensor(labels, dtype=tf.float64)\n",
    "#     X = tf.tuple([X_fnc, X_loading])\n",
    "\n",
    "#     X = dict()\n",
    "#     X['input_1'] = X_fnc\n",
    "#     X['input_2'] = X_loading\n",
    "    X = (X_fnc, X_loading)\n",
    "    return X, labels"
   ]
  },
  {
   "cell_type": "code",
   "execution_count": 15,
   "metadata": {},
   "outputs": [],
   "source": [
    "def map_decorator(func):\n",
    "    def wrapper(idx, labels):\n",
    "        # Use a tf.py_function to prevent auto-graph from compiling the method\n",
    "        return tf.py_function(func,\n",
    "                              inp=(idx, labels),\n",
    "                              Tout=tf.float64)\n",
    "    return wrapper"
   ]
  },
  {
   "cell_type": "code",
   "execution_count": 16,
   "metadata": {},
   "outputs": [],
   "source": [
    "def new_py_function(func, inp, Tout, name=None):\n",
    "    \n",
    "    def wrapped_func(*flat_inp):\n",
    "        reconstructed_inp = tf.nest.pack_sequence_as(inp, flat_inp,\n",
    "                                                     expand_composites=True)\n",
    "        out = func(*reconstructed_inp)\n",
    "        return tf.nest.flatten(out, expand_composites=True)\n",
    "    \n",
    "    flat_Tout = tf.nest.flatten(Tout, expand_composites=True)\n",
    "    flat_out = tf.py_function(func=wrapped_func, \n",
    "                              inp=tf.nest.flatten(inp, expand_composites=True),\n",
    "                              Tout=[_tensor_spec_to_dtype(v) for v in flat_Tout],\n",
    "                              name=name)\n",
    "    spec_out = tf.nest.map_structure(_dtype_to_tensor_spec, Tout, expand_composites=True)\n",
    "    out = tf.nest.pack_sequence_as(spec_out, flat_out, expand_composites=True)\n",
    "    return out\n",
    "\n",
    "def _dtype_to_tensor_spec(v):\n",
    "    return tf.TensorSpec(None, v) if isinstance(v, tf.dtypes.DType) else v\n",
    "\n",
    "def _tensor_spec_to_dtype(v):\n",
    "    return v.dtype if isinstance(v, tf.TensorSpec) else v"
   ]
  },
  {
   "cell_type": "code",
   "execution_count": 17,
   "metadata": {},
   "outputs": [],
   "source": [
    "# def get_dataset(data, batch_size):\n",
    "#     data = tf.data.Dataset.from_tensor_slices((data['Id'].values, \n",
    "#                                                data[['age', 'domain1_var1', 'domain1_var2', 'domain2_var1', 'domain2_var2']].values))\n",
    "#     data = data.shuffle(buffer_size=5500, seed=30, reshuffle_each_iteration=True)\n",
    "    \n",
    "#     data_fnc = data.map(map_decorator(get_inputs_fnc), \n",
    "#                      num_parallel_calls=tf.data.experimental.AUTOTUNE, \n",
    "#                      deterministic=True)\n",
    "#     data_loading = data.map(map_decorator(get_inputs_loading), \n",
    "#                      num_parallel_calls=tf.data.experimental.AUTOTUNE, \n",
    "#                      deterministic=True)\n",
    "\n",
    "#     data_fnc = data_fnc.batch(batch_size, drop_remainder=True)\n",
    "#     data_fnc = data_fnc.prefetch(tf.data.experimental.AUTOTUNE)\n",
    "    \n",
    "#     data_loading = data_loading.batch(batch_size, drop_remainder=True)\n",
    "#     data_loading = data_loading.prefetch(tf.data.experimental.AUTOTUNE)\n",
    "#     return (data_fnc, data_loading)"
   ]
  },
  {
   "cell_type": "code",
   "execution_count": 18,
   "metadata": {},
   "outputs": [],
   "source": [
    "def get_dataset(data, batch_size):\n",
    "    data = tf.data.Dataset.from_tensor_slices((data['Id'].values, \n",
    "                                               data[['age', 'domain1_var1', 'domain1_var2', 'domain2_var1', 'domain2_var2']].values))\n",
    "    data = data.shuffle(buffer_size=5500, seed=30, reshuffle_each_iteration=True)\n",
    "    \n",
    "    data = data.map(lambda idx, lbl:new_py_function(get_inputs, inp=(idx, lbl), Tout=((tf.float64, tf.float64), tf.float64), name=None), \n",
    "                     num_parallel_calls=tf.data.experimental.AUTOTUNE, \n",
    "                     deterministic=True)\n",
    "    data = data.batch(batch_size, drop_remainder=True)\n",
    "    data = data.prefetch(tf.data.experimental.AUTOTUNE)\n",
    "    return data"
   ]
  },
  {
   "cell_type": "code",
   "execution_count": 19,
   "metadata": {},
   "outputs": [],
   "source": [
    "train, test = model_selection.train_test_split(data, test_size=0.2, shuffle=True, random_state=30)\n",
    "train, val = model_selection.train_test_split(train, test_size=0.2, shuffle=True, random_state=30)"
   ]
  },
  {
   "cell_type": "code",
   "execution_count": 20,
   "metadata": {},
   "outputs": [],
   "source": [
    "# batch_size = 64\n",
    "\n",
    "# ds_train_fnc, ds_train_loading = get_dataset(train, batch_size)\n",
    "# ds_val_fnc, ds_val_loading = get_dataset(val, batch_size)\n",
    "# ds_test_fnc, ds_test_loading = get_dataset(test, batch_size)"
   ]
  },
  {
   "cell_type": "code",
   "execution_count": 21,
   "metadata": {},
   "outputs": [],
   "source": [
    "batch_size = 64\n",
    "\n",
    "ds_train = get_dataset(train, batch_size)\n",
    "ds_val = get_dataset(val, batch_size)\n",
    "ds_test = get_dataset(test, batch_size)"
   ]
  },
  {
   "cell_type": "code",
   "execution_count": 22,
   "metadata": {},
   "outputs": [],
   "source": [
    "# start_time = time.perf_counter()\n",
    "# for f in ds_train.take(1):\n",
    "#     pass\n",
    "# tf.print(\"Execution time:\", time.perf_counter() - start_time)"
   ]
  },
  {
   "cell_type": "code",
   "execution_count": 23,
   "metadata": {},
   "outputs": [],
   "source": [
    "INPUT_SHAPE_fnc = (1378,)"
   ]
  },
  {
   "cell_type": "code",
   "execution_count": 24,
   "metadata": {},
   "outputs": [],
   "source": [
    "INPUT_SHAPE_loading = (26,)"
   ]
  },
  {
   "cell_type": "code",
   "execution_count": 25,
   "metadata": {},
   "outputs": [],
   "source": [
    "inputs_fnc = keras.layers.Input(shape=INPUT_SHAPE_fnc, name='inp_fnc')\n",
    "\n",
    "x = keras.layers.BatchNormalization(axis=-1, momentum=0.99, epsilon=0.001, center=True, scale=True, \n",
    "                                          beta_initializer='zeros', gamma_initializer='ones', moving_mean_initializer='zeros',\n",
    "                                          moving_variance_initializer='ones', beta_regularizer=None, gamma_regularizer=None, \n",
    "                                          beta_constraint=None, gamma_constraint=None)(inputs_fnc)\n",
    "x = keras.layers.Dense(2048,\n",
    "                           kernel_initializer=keras.initializers.he_normal(seed=30),\n",
    "                           bias_initializer=keras.initializers.Constant(5.))(x)\n",
    "x = tf.keras.layers.PReLU(alpha_initializer=keras.initializers.Constant(0.5))(x)\n",
    "# x = keras.layers.Dropout(rate=0.2, seed=30)(x)\n",
    "\n",
    "x1 = keras.layers.Dense(512,\n",
    "                           kernel_initializer=keras.initializers.he_normal(seed=30),\n",
    "                           bias_initializer=keras.initializers.Constant(5.))(x)\n",
    "x1 = tf.keras.layers.PReLU(alpha_initializer=keras.initializers.Constant(0.5))(x1)\n",
    "# x1 = keras.layers.Dropout(rate=0.2, seed=30)(x1)\n",
    "\n",
    "x2 = keras.layers.Dense(512,\n",
    "                           kernel_initializer=keras.initializers.he_normal(seed=30),\n",
    "                           bias_initializer=keras.initializers.Constant(5.))(x)\n",
    "x2 = tf.keras.layers.PReLU(alpha_initializer=keras.initializers.Constant(0.5))(x2)\n",
    "# x2 = keras.layers.Dropout(rate=0.2, seed=30)(x2)\n",
    "\n",
    "x = keras.layers.concatenate([x1, x2])\n",
    "\n",
    "x = keras.layers.Dense(256,\n",
    "                           kernel_initializer=keras.initializers.he_normal(seed=30),\n",
    "                           bias_initializer=keras.initializers.Constant(5.))(x)\n",
    "x = tf.keras.layers.PReLU(alpha_initializer=keras.initializers.Constant(0.5))(x)\n",
    "# x = keras.layers.Dropout(rate=0.2, seed=30)(x)\n",
    "\n",
    "# output\n",
    "x = keras.Model(inputs=inputs_fnc, outputs=x, name='model_fnc')\n",
    "# print(x)"
   ]
  },
  {
   "cell_type": "code",
   "execution_count": 26,
   "metadata": {},
   "outputs": [],
   "source": [
    "inputs_loading = keras.layers.Input(shape=INPUT_SHAPE_loading, name='inp_load')\n",
    "\n",
    "y = keras.layers.BatchNormalization(axis=-1, momentum=0.99, epsilon=0.001, center=True, scale=True, \n",
    "                                          beta_initializer='zeros', gamma_initializer='ones', moving_mean_initializer='zeros',\n",
    "                                          moving_variance_initializer='ones', beta_regularizer=None, gamma_regularizer=None, \n",
    "                                          beta_constraint=None, gamma_constraint=None)(inputs_loading)\n",
    "\n",
    "y = keras.layers.Dense(256,\n",
    "                           kernel_initializer=keras.initializers.he_normal(seed=30),\n",
    "                           bias_initializer=keras.initializers.Constant(5.))(y)\n",
    "y = tf.keras.layers.PReLU(alpha_initializer=keras.initializers.Constant(0.5))(y)\n",
    "# y = keras.layers.Dropout(rate=0.2, seed=30)(y)\n",
    "\n",
    "y1 = keras.layers.Dense(128,\n",
    "                           kernel_initializer=keras.initializers.he_normal(seed=30),\n",
    "                           bias_initializer=keras.initializers.Constant(5.))(y)\n",
    "y1 = tf.keras.layers.PReLU(alpha_initializer=keras.initializers.Constant(0.5))(y1)\n",
    "# x1 = keras.layers.Dropout(rate=0.2, seed=30)(x1)\n",
    "\n",
    "y2 = keras.layers.Dense(128,\n",
    "                           kernel_initializer=keras.initializers.he_normal(seed=30),\n",
    "                           bias_initializer=keras.initializers.Constant(5.))(y)\n",
    "y2 = tf.keras.layers.PReLU(alpha_initializer=keras.initializers.Constant(0.5))(y2)\n",
    "# x2 = keras.layers.Dropout(rate=0.2, seed=30)(x2)\n",
    "\n",
    "y = keras.layers.concatenate([y1, y2])\n",
    "\n",
    "y = keras.layers.Dense(256,\n",
    "                           kernel_initializer=keras.initializers.he_normal(seed=30),\n",
    "                           bias_initializer=keras.initializers.Constant(5.))(y)\n",
    "y = tf.keras.layers.PReLU(alpha_initializer=keras.initializers.Constant(0.5))(y)\n",
    "# x = keras.layers.Dropout(rate=0.2, seed=30)(x)\n",
    "\n",
    "# output\n",
    "y = keras.Model(inputs=inputs_loading, outputs=y, name='model_loading')"
   ]
  },
  {
   "cell_type": "code",
   "execution_count": 27,
   "metadata": {},
   "outputs": [],
   "source": [
    "concat = keras.layers.concatenate([x.output, y.output])\n",
    "\n",
    "z = keras.layers.Dense(256, \n",
    "                       kernel_initializer=keras.initializers.he_normal(seed=30),\n",
    "                       bias_initializer=keras.initializers.Constant(5.))(concat)\n",
    "z = tf.keras.layers.PReLU(alpha_initializer=keras.initializers.Constant(0.5))(z)\n",
    "# z = keras.layers.Dropout(rate=0.2, seed=30)(z)\n",
    "\n",
    "# z = keras.layers.Dense(256, \n",
    "#                        kernel_initializer=keras.initializers.he_normal(seed=30),\n",
    "#                        bias_initializer=keras.initializers.Constant(5.))(z)\n",
    "# z = tf.keras.layers.PReLU(alpha_initializer=keras.initializers.Constant(0.5))(z)\n",
    "# z = keras.layers.Dropout(rate=0.2, seed=30)(z)\n",
    "\n",
    "outputs = keras.layers.Dense(5, activation='linear')(z)\n",
    "\n",
    "model = keras.Model(inputs=[x.input, y.input], outputs=outputs, name='model_combined')"
   ]
  },
  {
   "cell_type": "code",
   "execution_count": 28,
   "metadata": {},
   "outputs": [
    {
     "name": "stdout",
     "output_type": "stream",
     "text": [
      "Model: \"model_combined\"\n",
      "__________________________________________________________________________________________________\n",
      "Layer (type)                    Output Shape         Param #     Connected to                     \n",
      "==================================================================================================\n",
      "inp_fnc (InputLayer)            [(None, 1378)]       0                                            \n",
      "__________________________________________________________________________________________________\n",
      "batch_normalization (BatchNorma (None, 1378)         5512        inp_fnc[0][0]                    \n",
      "__________________________________________________________________________________________________\n",
      "inp_load (InputLayer)           [(None, 26)]         0                                            \n",
      "__________________________________________________________________________________________________\n",
      "dense (Dense)                   (None, 2048)         2824192     batch_normalization[0][0]        \n",
      "__________________________________________________________________________________________________\n",
      "dense_4 (Dense)                 (None, 256)          6912        inp_load[0][0]                   \n",
      "__________________________________________________________________________________________________\n",
      "p_re_lu (PReLU)                 (None, 2048)         2048        dense[0][0]                      \n",
      "__________________________________________________________________________________________________\n",
      "p_re_lu_4 (PReLU)               (None, 256)          256         dense_4[0][0]                    \n",
      "__________________________________________________________________________________________________\n",
      "dense_1 (Dense)                 (None, 512)          1049088     p_re_lu[0][0]                    \n",
      "__________________________________________________________________________________________________\n",
      "dense_2 (Dense)                 (None, 512)          1049088     p_re_lu[0][0]                    \n",
      "__________________________________________________________________________________________________\n",
      "dense_5 (Dense)                 (None, 128)          32896       p_re_lu_4[0][0]                  \n",
      "__________________________________________________________________________________________________\n",
      "dense_6 (Dense)                 (None, 128)          32896       p_re_lu_4[0][0]                  \n",
      "__________________________________________________________________________________________________\n",
      "p_re_lu_1 (PReLU)               (None, 512)          512         dense_1[0][0]                    \n",
      "__________________________________________________________________________________________________\n",
      "p_re_lu_2 (PReLU)               (None, 512)          512         dense_2[0][0]                    \n",
      "__________________________________________________________________________________________________\n",
      "p_re_lu_5 (PReLU)               (None, 128)          128         dense_5[0][0]                    \n",
      "__________________________________________________________________________________________________\n",
      "p_re_lu_6 (PReLU)               (None, 128)          128         dense_6[0][0]                    \n",
      "__________________________________________________________________________________________________\n",
      "concatenate (Concatenate)       (None, 1024)         0           p_re_lu_1[0][0]                  \n",
      "                                                                 p_re_lu_2[0][0]                  \n",
      "__________________________________________________________________________________________________\n",
      "concatenate_1 (Concatenate)     (None, 256)          0           p_re_lu_5[0][0]                  \n",
      "                                                                 p_re_lu_6[0][0]                  \n",
      "__________________________________________________________________________________________________\n",
      "dense_3 (Dense)                 (None, 256)          262400      concatenate[0][0]                \n",
      "__________________________________________________________________________________________________\n",
      "dense_7 (Dense)                 (None, 256)          65792       concatenate_1[0][0]              \n",
      "__________________________________________________________________________________________________\n",
      "p_re_lu_3 (PReLU)               (None, 256)          256         dense_3[0][0]                    \n",
      "__________________________________________________________________________________________________\n",
      "p_re_lu_7 (PReLU)               (None, 256)          256         dense_7[0][0]                    \n",
      "__________________________________________________________________________________________________\n",
      "concatenate_2 (Concatenate)     (None, 512)          0           p_re_lu_3[0][0]                  \n",
      "                                                                 p_re_lu_7[0][0]                  \n",
      "__________________________________________________________________________________________________\n",
      "dense_8 (Dense)                 (None, 256)          131328      concatenate_2[0][0]              \n",
      "__________________________________________________________________________________________________\n",
      "p_re_lu_8 (PReLU)               (None, 256)          256         dense_8[0][0]                    \n",
      "__________________________________________________________________________________________________\n",
      "dense_9 (Dense)                 (None, 5)            1285        p_re_lu_8[0][0]                  \n",
      "==================================================================================================\n",
      "Total params: 5,465,741\n",
      "Trainable params: 5,462,985\n",
      "Non-trainable params: 2,756\n",
      "__________________________________________________________________________________________________\n"
     ]
    }
   ],
   "source": [
    "model.summary()"
   ]
  },
  {
   "cell_type": "code",
   "execution_count": 29,
   "metadata": {},
   "outputs": [],
   "source": [
    "# optim = keras.optimizers.Adam(lr=0.000001,\n",
    "#                                  beta_1=0.99,\n",
    "#                                  beta_2=0.999,\n",
    "#                                  amsgrad=False)\n",
    "\n",
    "optim = tf.keras.optimizers.Adadelta(learning_rate=0.001, rho=0.95)\n",
    "        \n",
    "METRICS = [keras.metrics.RootMeanSquaredError(name='rmse'),\n",
    "           keras.metrics.MeanSquaredError(name='mse'),\n",
    "           keras.metrics.MeanAbsoluteError(name='mae')]"
   ]
  },
  {
   "cell_type": "code",
   "execution_count": 30,
   "metadata": {},
   "outputs": [],
   "source": [
    "# def weighted_mae(y_true, y_pred):\n",
    "# #     tf.print(y_true)\n",
    "#     W = tf.constant([[0.2, 0.2, 0.2, 0.2, 0.2]])\n",
    "# #     tf.print(W / tf.math.reduce_mean(y_true, axis=0))\n",
    "#     return tf.math.reduce_mean(tf.linalg.matmul(tf.math.abs(y_pred - y_true), tf.transpose(W / tf.math.reduce_mean(y_true, axis=0))), axis=0)"
   ]
  },
  {
   "cell_type": "code",
   "execution_count": 31,
   "metadata": {},
   "outputs": [],
   "source": [
    "model.compile(loss='mae', metrics=METRICS, optimizer=optim)"
   ]
  },
  {
   "cell_type": "code",
   "execution_count": 32,
   "metadata": {},
   "outputs": [],
   "source": [
    "# Define the checkpoint directory to store the checkpoints\n",
    "# Name of the checkpoint files\n",
    "# checkpoint_prefix = os.path.join('./99_Training_checkpoints/fnc-loading', \"ckpt_{epoch}\")"
   ]
  },
  {
   "cell_type": "code",
   "execution_count": 33,
   "metadata": {},
   "outputs": [],
   "source": [
    "# callbacks = [tf.keras.callbacks.TensorBoard(log_dir='./99_Logs/fnc-loading'),\n",
    "#              tf.keras.callbacks.ModelCheckpoint(filepath=checkpoint_prefix,\n",
    "#                                                 save_weights_only=False),\n",
    "#              tf.keras.callbacks.ReduceLROnPlateau(monitor='val_loss', \n",
    "#                                                   factor=0.7, \n",
    "#                                                   patience=2, \n",
    "#                                                   verbose=1, \n",
    "#                                                   mode='min',\n",
    "#                                                   min_delta=0.01, \n",
    "#                                                   cooldown=5, \n",
    "#                                                   min_lr=0.00000001),\n",
    "#              tf.keras.callbacks.EarlyStopping(monitor='val_loss', \n",
    "#                                               min_delta=0.001, \n",
    "#                                               patience=10, \n",
    "#                                               verbose=1, \n",
    "#                                               mode='min',\n",
    "#                                               baseline=None, \n",
    "#                                               restore_best_weights=True)]"
   ]
  },
  {
   "cell_type": "code",
   "execution_count": 34,
   "metadata": {},
   "outputs": [],
   "source": [
    "# callbacks = [tf.keras.callbacks.TensorBoard(log_dir='./99_Logs/fnc-loading'),\n",
    "#              tf.keras.callbacks.ReduceLROnPlateau(monitor='val_loss', \n",
    "#                                                   factor=0.7, \n",
    "#                                                   patience=2, \n",
    "#                                                   verbose=1, \n",
    "#                                                   mode='min',\n",
    "#                                                   min_delta=0.01, \n",
    "#                                                   cooldown=5, \n",
    "#                                                   min_lr=0.00000001),\n",
    "#              tf.keras.callbacks.EarlyStopping(monitor='val_loss', \n",
    "#                                               min_delta=0.001, \n",
    "#                                               patience=10, \n",
    "#                                               verbose=1, \n",
    "#                                               mode='min',\n",
    "#                                               baseline=None, \n",
    "#                                               restore_best_weights=True)]"
   ]
  },
  {
   "cell_type": "code",
   "execution_count": 36,
   "metadata": {},
   "outputs": [],
   "source": [
    "callbacks = [tf.keras.callbacks.TensorBoard(log_dir='./99_Logs/fnc-loading'),\n",
    "             tf.keras.callbacks.EarlyStopping(monitor='val_loss', \n",
    "                                              min_delta=0.001, \n",
    "                                              patience=10, \n",
    "                                              verbose=1, \n",
    "                                              mode='min',\n",
    "                                              baseline=None, \n",
    "                                              restore_best_weights=True)]"
   ]
  },
  {
   "cell_type": "code",
   "execution_count": 37,
   "metadata": {},
   "outputs": [],
   "source": [
    "# def decay(epoch):\n",
    "#     if epoch < 2:\n",
    "#         return 0.01\n",
    "#     elif epoch >= 2 and epoch < 10:\n",
    "#         return 0.005\n",
    "#     else:\n",
    "#         return 1e-4"
   ]
  },
  {
   "cell_type": "code",
   "execution_count": 38,
   "metadata": {},
   "outputs": [],
   "source": [
    "# callbacks = [tf.keras.callbacks.LearningRateScheduler(decay)]"
   ]
  },
  {
   "cell_type": "code",
   "execution_count": 39,
   "metadata": {},
   "outputs": [
    {
     "name": "stdout",
     "output_type": "stream",
     "text": [
      "Epoch 1/200\n",
      "54/54 [==============================] - 16s 290ms/step - loss: 32.1104 - rmse: 38.2889 - mse: 1466.0375 - mae: 32.1104 - val_loss: 23.3817 - val_rmse: 28.2813 - val_mse: 799.8344 - val_mae: 23.3817\n",
      "Epoch 2/200\n",
      "54/54 [==============================] - 14s 259ms/step - loss: 16.3063 - rmse: 20.4325 - mse: 417.4865 - mae: 16.3063 - val_loss: 10.4120 - val_rmse: 12.9089 - val_mse: 166.6407 - val_mae: 10.4120\n",
      "Epoch 3/200\n",
      "54/54 [==============================] - 14s 258ms/step - loss: 9.6088 - rmse: 12.0555 - mse: 145.3353 - mae: 9.6088 - val_loss: 9.2851 - val_rmse: 11.7746 - val_mse: 138.6419 - val_mae: 9.2851\n",
      "Epoch 4/200\n",
      "54/54 [==============================] - 14s 259ms/step - loss: 9.3182 - rmse: 11.7979 - mse: 139.1901 - mae: 9.3182 - val_loss: 9.3051 - val_rmse: 11.8159 - val_mse: 139.6162 - val_mae: 9.3051\n",
      "Epoch 5/200\n",
      "54/54 [==============================] - 14s 267ms/step - loss: 9.2874 - rmse: 11.7652 - mse: 138.4191 - mae: 9.2874 - val_loss: 9.2701 - val_rmse: 11.7400 - val_mse: 137.8279 - val_mae: 9.2701\n",
      "Epoch 6/200\n",
      "54/54 [==============================] - 15s 272ms/step - loss: 9.2771 - rmse: 11.7542 - mse: 138.1611 - mae: 9.2771 - val_loss: 9.3105 - val_rmse: 11.8097 - val_mse: 139.4683 - val_mae: 9.3105\n",
      "Epoch 7/200\n",
      "54/54 [==============================] - 15s 270ms/step - loss: 9.2476 - rmse: 11.7242 - mse: 137.4572 - mae: 9.2476 - val_loss: 9.2981 - val_rmse: 11.8296 - val_mse: 139.9401 - val_mae: 9.2981\n",
      "Epoch 8/200\n",
      "54/54 [==============================] - 14s 258ms/step - loss: 9.2291 - rmse: 11.7016 - mse: 136.9277 - mae: 9.2291 - val_loss: 9.2851 - val_rmse: 11.8032 - val_mse: 139.3157 - val_mae: 9.2851\n",
      "Epoch 9/200\n",
      "54/54 [==============================] - 15s 269ms/step - loss: 9.2146 - rmse: 11.6874 - mse: 136.5943 - mae: 9.2146 - val_loss: 9.2334 - val_rmse: 11.7255 - val_mse: 137.4866 - val_mae: 9.2334\n",
      "Epoch 10/200\n",
      "54/54 [==============================] - 14s 258ms/step - loss: 9.2034 - rmse: 11.6698 - mse: 136.1834 - mae: 9.2034 - val_loss: 9.2669 - val_rmse: 11.7728 - val_mse: 138.5982 - val_mae: 9.2669\n",
      "Epoch 11/200\n",
      "54/54 [==============================] - 14s 259ms/step - loss: 9.1876 - rmse: 11.6574 - mse: 135.8954 - mae: 9.1876 - val_loss: 9.2663 - val_rmse: 11.7642 - val_mse: 138.3971 - val_mae: 9.2663\n",
      "Epoch 12/200\n",
      "54/54 [==============================] - 14s 258ms/step - loss: 9.1658 - rmse: 11.6352 - mse: 135.3774 - mae: 9.1658 - val_loss: 9.2859 - val_rmse: 11.7851 - val_mse: 138.8893 - val_mae: 9.2859\n",
      "Epoch 13/200\n",
      "54/54 [==============================] - 14s 258ms/step - loss: 9.1573 - rmse: 11.6276 - mse: 135.2017 - mae: 9.1573 - val_loss: 9.2436 - val_rmse: 11.7563 - val_mse: 138.2098 - val_mae: 9.2436\n",
      "Epoch 14/200\n",
      "54/54 [==============================] - 14s 256ms/step - loss: 9.1346 - rmse: 11.6018 - mse: 134.6023 - mae: 9.1346 - val_loss: 9.2362 - val_rmse: 11.7562 - val_mse: 138.2083 - val_mae: 9.2362 rmse: 11.5884 - mse: 134.2913 - m - ETA: 5s - loss: 9.1145 - rmse: 11.5587 - mse: 133.6043 - ma - ETA: 3s - loss: 9.1026 - rmse: 11.5602 - mse: 133.\n",
      "Epoch 15/200\n",
      "54/54 [==============================] - 14s 256ms/step - loss: 9.1220 - rmse: 11.5866 - mse: 134.2505 - mae: 9.1220 - val_loss: 9.2102 - val_rmse: 11.7032 - val_mse: 136.9652 - val_mae: 9.21029577 - rmse: \n",
      "Epoch 16/200\n",
      "54/54 [==============================] - 14s 258ms/step - loss: 9.1158 - rmse: 11.5788 - mse: 134.0693 - mae: 9.1158 - val_loss: 9.2140 - val_rmse: 11.7242 - val_mse: 137.4579 - val_mae: 9.2140\n",
      "Epoch 17/200\n",
      "54/54 [==============================] - 14s 257ms/step - loss: 9.0956 - rmse: 11.5653 - mse: 133.7551 - mae: 9.0956 - val_loss: 9.2047 - val_rmse: 11.7258 - val_mse: 137.4945 - val_mae: 9.2047 - rmse: 11.5568 - mse: 133.5602\n",
      "Epoch 18/200\n",
      "54/54 [==============================] - 14s 259ms/step - loss: 9.0900 - rmse: 11.5517 - mse: 133.4424 - mae: 9.0900 - val_loss: 9.1893 - val_rmse: 11.7142 - val_mse: 137.2231 - val_mae: 9.1893\n",
      "Epoch 19/200\n",
      "54/54 [==============================] - 14s 258ms/step - loss: 9.0747 - rmse: 11.5398 - mse: 133.1676 - mae: 9.0747 - val_loss: 9.2062 - val_rmse: 11.6863 - val_mse: 136.5688 - val_mae: 9.2062\n",
      "Epoch 20/200\n",
      "54/54 [==============================] - 14s 257ms/step - loss: 9.0653 - rmse: 11.5315 - mse: 132.9744 - mae: 9.0653 - val_loss: 9.1934 - val_rmse: 11.6811 - val_mse: 136.4479 - val_mae: 9.19340654 - rmse: 11.4990 - mse: 132.22\n",
      "Epoch 21/200\n",
      "54/54 [==============================] - 14s 265ms/step - loss: 9.0465 - rmse: 11.4980 - mse: 132.2036 - mae: 9.0465 - val_loss: 9.1674 - val_rmse: 11.6686 - val_mse: 136.1573 - val_mae: 9.1674\n",
      "Epoch 22/200\n",
      "54/54 [==============================] - 14s 267ms/step - loss: 9.0389 - rmse: 11.4930 - mse: 132.0897 - mae: 9.0389 - val_loss: 9.1885 - val_rmse: 11.7209 - val_mse: 137.3806 - val_mae: 9.1885\n",
      "Epoch 23/200\n",
      "54/54 [==============================] - 14s 263ms/step - loss: 9.0285 - rmse: 11.4883 - mse: 131.9812 - mae: 9.0285 - val_loss: 9.1606 - val_rmse: 11.6635 - val_mse: 136.0379 - val_mae: 9.1606\n",
      "Epoch 24/200\n",
      "54/54 [==============================] - 14s 267ms/step - loss: 9.0214 - rmse: 11.4718 - mse: 131.6015 - mae: 9.0214 - val_loss: 9.1413 - val_rmse: 11.6291 - val_mse: 135.2370 - val_mae: 9.1413\n",
      "Epoch 25/200\n",
      "54/54 [==============================] - 14s 259ms/step - loss: 9.0085 - rmse: 11.4677 - mse: 131.5090 - mae: 9.0085 - val_loss: 9.1992 - val_rmse: 11.6895 - val_mse: 136.6439 - val_mae: 9.1992\n",
      "Epoch 26/200\n",
      "54/54 [==============================] - 15s 270ms/step - loss: 9.0131 - rmse: 11.4763 - mse: 131.7046 - mae: 9.0131 - val_loss: 9.1403 - val_rmse: 11.6094 - val_mse: 134.7774 - val_mae: 9.1403\n",
      "Epoch 27/200\n",
      "54/54 [==============================] - 14s 260ms/step - loss: 8.9865 - rmse: 11.4482 - mse: 131.0604 - mae: 8.9865 - val_loss: 9.1188 - val_rmse: 11.6192 - val_mse: 135.0049 - val_mae: 9.1188\n",
      "Epoch 28/200\n",
      "54/54 [==============================] - 14s 265ms/step - loss: 8.9818 - rmse: 11.4397 - mse: 130.8676 - mae: 8.9818 - val_loss: 9.1391 - val_rmse: 11.6141 - val_mse: 134.8882 - val_mae: 9.1391\n",
      "Epoch 29/200\n",
      "54/54 [==============================] - 14s 257ms/step - loss: 8.9821 - rmse: 11.4309 - mse: 130.6658 - mae: 8.9821 - val_loss: 9.1218 - val_rmse: 11.5951 - val_mse: 134.4466 - val_mae: 9.1218\n",
      "Epoch 30/200\n",
      "54/54 [==============================] - 14s 257ms/step - loss: 8.9753 - rmse: 11.4234 - mse: 130.4938 - mae: 8.9753 - val_loss: 9.1357 - val_rmse: 11.6193 - val_mse: 135.0093 - val_mae: 9.1357 rmse: 1\n",
      "Epoch 31/200\n",
      "54/54 [==============================] - 14s 258ms/step - loss: 8.9574 - rmse: 11.4067 - mse: 130.1123 - mae: 8.9574 - val_loss: 9.1020 - val_rmse: 11.5791 - val_mse: 134.0761 - val_mae: 9.1020\n",
      "Epoch 32/200\n",
      "54/54 [==============================] - 14s 257ms/step - loss: 8.9493 - rmse: 11.4066 - mse: 130.1099 - mae: 8.9493 - val_loss: 9.1198 - val_rmse: 11.6287 - val_mse: 135.2268 - val_mae: 9.1198\n",
      "Epoch 33/200\n",
      "54/54 [==============================] - 14s 263ms/step - loss: 8.9479 - rmse: 11.4001 - mse: 129.9618 - mae: 8.9479 - val_loss: 9.0665 - val_rmse: 11.5750 - val_mse: 133.9810 - val_mae: 9.0665\n",
      "Epoch 34/200\n",
      "54/54 [==============================] - 14s 259ms/step - loss: 8.9312 - rmse: 11.3813 - mse: 129.5331 - mae: 8.9312 - val_loss: 9.0875 - val_rmse: 11.5856 - val_mse: 134.2254 - val_mae: 9.0875\n",
      "Epoch 35/200\n",
      "54/54 [==============================] - 14s 258ms/step - loss: 8.9073 - rmse: 11.3541 - mse: 128.9158 - mae: 8.9073 - val_loss: 9.0938 - val_rmse: 11.5683 - val_mse: 133.8249 - val_mae: 9.0938\n",
      "Epoch 36/200\n",
      "54/54 [==============================] - 14s 264ms/step - loss: 8.9151 - rmse: 11.3658 - mse: 129.1812 - mae: 8.9151 - val_loss: 9.1131 - val_rmse: 11.5912 - val_mse: 134.3570 - val_mae: 9.1131\n",
      "Epoch 37/200\n",
      "54/54 [==============================] - 14s 263ms/step - loss: 8.9128 - rmse: 11.3673 - mse: 129.2152 - mae: 8.9128 - val_loss: 9.0575 - val_rmse: 11.5457 - val_mse: 133.3043 - val_mae: 9.0575\n",
      "Epoch 38/200\n",
      "54/54 [==============================] - 14s 258ms/step - loss: 8.8916 - rmse: 11.3461 - mse: 128.7330 - mae: 8.8916 - val_loss: 9.0466 - val_rmse: 11.5207 - val_mse: 132.7261 - val_mae: 9.0466\n",
      "Epoch 39/200\n",
      "54/54 [==============================] - 14s 267ms/step - loss: 8.8972 - rmse: 11.3443 - mse: 128.6921 - mae: 8.8972 - val_loss: 9.1083 - val_rmse: 11.5983 - val_mse: 134.5195 - val_mae: 9.1083\n",
      "Epoch 40/200\n",
      "54/54 [==============================] - 14s 257ms/step - loss: 8.8879 - rmse: 11.3375 - mse: 128.5382 - mae: 8.8879 - val_loss: 9.0728 - val_rmse: 11.5287 - val_mse: 132.9117 - val_mae: 9.0728\n",
      "Epoch 41/200\n",
      "54/54 [==============================] - 14s 266ms/step - loss: 8.8737 - rmse: 11.3259 - mse: 128.2755 - mae: 8.8737 - val_loss: 9.0888 - val_rmse: 11.5694 - val_mse: 133.8509 - val_mae: 9.0888\n",
      "Epoch 42/200\n",
      "54/54 [==============================] - 14s 261ms/step - loss: 8.8557 - rmse: 11.3134 - mse: 127.9920 - mae: 8.8557 - val_loss: 9.0792 - val_rmse: 11.5460 - val_mse: 133.3105 - val_mae: 9.0792\n",
      "Epoch 43/200\n",
      "54/54 [==============================] - 15s 271ms/step - loss: 8.8497 - rmse: 11.3012 - mse: 127.7175 - mae: 8.8497 - val_loss: 9.0913 - val_rmse: 11.5882 - val_mse: 134.2869 - val_mae: 9.0913\n",
      "Epoch 44/200\n",
      "54/54 [==============================] - 14s 267ms/step - loss: 8.8561 - rmse: 11.3109 - mse: 127.9366 - mae: 8.8561 - val_loss: 9.0256 - val_rmse: 11.5015 - val_mse: 132.2850 - val_mae: 9.0256\n",
      "Epoch 45/200\n",
      "54/54 [==============================] - 14s 263ms/step - loss: 8.8452 - rmse: 11.2932 - mse: 127.5357 - mae: 8.8452 - val_loss: 9.0777 - val_rmse: 11.5613 - val_mse: 133.6636 - val_mae: 9.0777\n",
      "Epoch 46/200\n",
      "54/54 [==============================] - 15s 272ms/step - loss: 8.8368 - rmse: 11.2893 - mse: 127.4472 - mae: 8.8368 - val_loss: 9.0692 - val_rmse: 11.5497 - val_mse: 133.3944 - val_mae: 9.0692\n",
      "Epoch 47/200\n",
      "54/54 [==============================] - 14s 262ms/step - loss: 8.8446 - rmse: 11.2988 - mse: 127.6637 - mae: 8.8446 - val_loss: 9.0722 - val_rmse: 11.5522 - val_mse: 133.4526 - val_mae: 9.0722\n",
      "Epoch 48/200\n",
      "54/54 [==============================] - 14s 260ms/step - loss: 8.8263 - rmse: 11.2731 - mse: 127.0829 - mae: 8.8263 - val_loss: 9.0031 - val_rmse: 11.4607 - val_mse: 131.3477 - val_mae: 9.0031\n",
      "Epoch 49/200\n",
      "54/54 [==============================] - 14s 264ms/step - loss: 8.8189 - rmse: 11.2697 - mse: 127.0073 - mae: 8.8189 - val_loss: 9.0361 - val_rmse: 11.5059 - val_mse: 132.3869 - val_mae: 9.0361\n",
      "Epoch 50/200\n",
      "54/54 [==============================] - 14s 265ms/step - loss: 8.8235 - rmse: 11.2770 - mse: 127.1716 - mae: 8.8235 - val_loss: 9.0458 - val_rmse: 11.5070 - val_mse: 132.4117 - val_mae: 9.0458\n",
      "Epoch 51/200\n",
      "54/54 [==============================] - 14s 257ms/step - loss: 8.8054 - rmse: 11.2597 - mse: 126.7799 - mae: 8.8054 - val_loss: 9.0148 - val_rmse: 11.4844 - val_mse: 131.8906 - val_mae: 9.0148\n",
      "Epoch 52/200\n",
      "54/54 [==============================] - 14s 265ms/step - loss: 8.7992 - rmse: 11.2446 - mse: 126.4415 - mae: 8.7992 - val_loss: 9.0044 - val_rmse: 11.4791 - val_mse: 131.7708 - val_mae: 9.0044\n",
      "Epoch 53/200\n",
      "54/54 [==============================] - 14s 258ms/step - loss: 8.8041 - rmse: 11.2550 - mse: 126.6761 - mae: 8.8041 - val_loss: 9.0102 - val_rmse: 11.4759 - val_mse: 131.6956 - val_mae: 9.0102\n",
      "Epoch 54/200\n",
      "54/54 [==============================] - 14s 262ms/step - loss: 8.7841 - rmse: 11.2309 - mse: 126.1341 - mae: 8.7841 - val_loss: 9.0648 - val_rmse: 11.5258 - val_mse: 132.8444 - val_mae: 9.0648\n",
      "Epoch 55/200\n",
      "54/54 [==============================] - 14s 262ms/step - loss: 8.7746 - rmse: 11.2289 - mse: 126.0888 - mae: 8.7746 - val_loss: 9.0435 - val_rmse: 11.5048 - val_mse: 132.3605 - val_mae: 9.0435\n",
      "Epoch 56/200\n",
      "54/54 [==============================] - 14s 266ms/step - loss: 8.7783 - rmse: 11.2258 - mse: 126.0181 - mae: 8.7783 - val_loss: 9.0506 - val_rmse: 11.5072 - val_mse: 132.4158 - val_mae: 9.0506\n",
      "Epoch 57/200\n",
      "54/54 [==============================] - 14s 266ms/step - loss: 8.7687 - rmse: 11.2133 - mse: 125.7380 - mae: 8.7687 - val_loss: 9.0331 - val_rmse: 11.5299 - val_mse: 132.9380 - val_mae: 9.0331\n",
      "Epoch 58/200\n",
      "54/54 [==============================] - ETA: 0s - loss: 8.7578 - rmse: 11.2085 - mse: 125.6303 - mae: 8.7578Restoring model weights from the end of the best epoch.\n",
      "54/54 [==============================] - 14s 263ms/step - loss: 8.7578 - rmse: 11.2085 - mse: 125.6303 - mae: 8.7578 - val_loss: 9.0189 - val_rmse: 11.4661 - val_mse: 131.4720 - val_mae: 9.0189\n",
      "Epoch 00058: early stopping\n"
     ]
    }
   ],
   "source": [
    "with tf.device('/GPU:0'):\n",
    "    hist = model.fit(ds_train,\n",
    "                     validation_data=ds_val,\n",
    "                     callbacks=callbacks,\n",
    "                     epochs=200,\n",
    "                     verbose=1)"
   ]
  },
  {
   "cell_type": "code",
   "execution_count": 40,
   "metadata": {},
   "outputs": [
    {
     "name": "stdout",
     "output_type": "stream",
     "text": [
      "16/16 [==============================] - 3s 211ms/step - loss: 9.0318 - rmse: 11.4307 - mse: 130.6617 - mae: 9.0318\n"
     ]
    }
   ],
   "source": [
    "with tf.device('/GPU:0'):\n",
    "    results = model.evaluate(ds_test, verbose=1)"
   ]
  },
  {
   "cell_type": "code",
   "execution_count": 41,
   "metadata": {},
   "outputs": [
    {
     "data": {
      "text/plain": [
       "Text(0.5, 1.0, 'Metric')"
      ]
     },
     "execution_count": 41,
     "metadata": {},
     "output_type": "execute_result"
    },
    {
     "data": {
      "image/png": "[encoded data removed]",
      "text/plain": [
       "<Figure size 1152x1152 with 4 Axes>"
      ]
     },
     "metadata": {
      "needs_background": "light"
     },
     "output_type": "display_data"
    }
   ],
   "source": [
    "    fig = plt.figure()\n",
    "    fig.set_size_inches(16,16)\n",
    "\n",
    "    ax=fig.add_subplot(3,2,1)\n",
    "    ax.plot(hist.history['rmse'])\n",
    "    ax.plot(hist.history['mse'])\n",
    "    ax.legend(['Metric', 'Loss'])\n",
    "    ax.set_title('Train')\n",
    "\n",
    "    ax=fig.add_subplot(3,2,2)\n",
    "    ax.plot(hist.history['val_rmse'])\n",
    "    ax.plot(hist.history['val_mse'])\n",
    "    ax.legend(['Metric', 'Loss'])\n",
    "    ax.set_title('Test')\n",
    "\n",
    "    ax=fig.add_subplot(3,2,3)\n",
    "    ax.plot(hist.history['loss'])\n",
    "    ax.plot(hist.history['val_loss'])\n",
    "    ax.legend(['Train', 'Test'])\n",
    "    ax.set_title('Loss')\n",
    "\n",
    "    ax=fig.add_subplot(3,2,4)\n",
    "    ax.plot(hist.history['mse'])\n",
    "    ax.plot(hist.history['val_mse'])\n",
    "    ax.legend(['Train', 'Test'])\n",
    "    ax.set_title('Metric')"
   ]
  },
  {
   "cell_type": "code",
   "execution_count": 42,
   "metadata": {},
   "outputs": [],
   "source": [
    "X1_test = pd.read_csv('00_Data/fnc.csv')\n",
    "X1_test = X1_test[X1_test['Id'].isin(TEST_IDS)]\n",
    "X1_test = X1_test.to_numpy()\n",
    "X1_test = X1_test[:,1:]"
   ]
  },
  {
   "cell_type": "code",
   "execution_count": 43,
   "metadata": {},
   "outputs": [],
   "source": [
    "X2_test = pd.read_csv('00_Data/loading.csv')\n",
    "X2_test = X2_test[X2_test['Id'].isin(TEST_IDS)]\n",
    "X2_test = X2_test.to_numpy()\n",
    "X2_test = X2_test[:,1:]"
   ]
  },
  {
   "cell_type": "code",
   "execution_count": 44,
   "metadata": {},
   "outputs": [],
   "source": [
    "y_preds = model.predict([X1_test, X2_test])"
   ]
  },
  {
   "cell_type": "code",
   "execution_count": 45,
   "metadata": {},
   "outputs": [],
   "source": [
    "y_preds = y_preds.flatten()"
   ]
  },
  {
   "cell_type": "code",
   "execution_count": 46,
   "metadata": {},
   "outputs": [],
   "source": [
    "df_submission = []\n",
    "i = 0\n",
    "for idx in TEST_IDS:\n",
    "    df_submission.append(['{0}_age'.format(idx), y_preds[i]])\n",
    "    df_submission.append(['{0}_domain1_var1'.format(idx), y_preds[i+1]])\n",
    "    df_submission.append(['{0}_domain1_var2'.format(idx), y_preds[i+2]])\n",
    "    df_submission.append(['{0}_domain2_var1'.format(idx), y_preds[i+3]])\n",
    "    df_submission.append(['{0}_domain2_var2'.format(idx), y_preds[i+4]])\n",
    "    i += 5\n",
    "\n",
    "df_submission = pd.DataFrame(df_submission, columns=['Id', 'Predicted'])"
   ]
  },
  {
   "cell_type": "code",
   "execution_count": 47,
   "metadata": {},
   "outputs": [],
   "source": [
    "df_submission.to_csv('submission_fnc-load_mae_04.csv', index=False)"
   ]
  },
  {
   "cell_type": "code",
   "execution_count": 7,
   "metadata": {},
   "outputs": [
    {
     "data": {
      "text/html": [
       "<div>\n",
       "<style scoped>\n",
       "    .dataframe tbody tr th:only-of-type {\n",
       "        vertical-align: middle;\n",
       "    }\n",
       "\n",
       "    .dataframe tbody tr th {\n",
       "        vertical-align: top;\n",
       "    }\n",
       "\n",
       "    .dataframe thead th {\n",
       "        text-align: right;\n",
       "    }\n",
       "</style>\n",
       "<table border=\"1\" class=\"dataframe\">\n",
       "  <thead>\n",
       "    <tr style=\"text-align: right;\">\n",
       "      <th></th>\n",
       "      <th>Id</th>\n",
       "      <th>age</th>\n",
       "      <th>domain1_var1</th>\n",
       "      <th>domain1_var2</th>\n",
       "      <th>domain2_var1</th>\n",
       "      <th>domain2_var2</th>\n",
       "    </tr>\n",
       "  </thead>\n",
       "  <tbody>\n",
       "    <tr>\n",
       "      <th>0</th>\n",
       "      <td>10001</td>\n",
       "      <td>57.436077</td>\n",
       "      <td>30.571975</td>\n",
       "      <td>62.553736</td>\n",
       "      <td>53.325130</td>\n",
       "      <td>51.427998</td>\n",
       "    </tr>\n",
       "    <tr>\n",
       "      <th>1</th>\n",
       "      <td>10002</td>\n",
       "      <td>59.580851</td>\n",
       "      <td>50.969456</td>\n",
       "      <td>67.470628</td>\n",
       "      <td>60.651856</td>\n",
       "      <td>58.311361</td>\n",
       "    </tr>\n",
       "    <tr>\n",
       "      <th>2</th>\n",
       "      <td>10004</td>\n",
       "      <td>71.413018</td>\n",
       "      <td>53.152498</td>\n",
       "      <td>58.012103</td>\n",
       "      <td>52.418389</td>\n",
       "      <td>62.536641</td>\n",
       "    </tr>\n",
       "    <tr>\n",
       "      <th>3</th>\n",
       "      <td>10005</td>\n",
       "      <td>66.532630</td>\n",
       "      <td>NaN</td>\n",
       "      <td>NaN</td>\n",
       "      <td>52.108977</td>\n",
       "      <td>69.993075</td>\n",
       "    </tr>\n",
       "    <tr>\n",
       "      <th>4</th>\n",
       "      <td>10007</td>\n",
       "      <td>38.617381</td>\n",
       "      <td>49.197021</td>\n",
       "      <td>65.674285</td>\n",
       "      <td>40.151376</td>\n",
       "      <td>34.096421</td>\n",
       "    </tr>\n",
       "    <tr>\n",
       "      <th>...</th>\n",
       "      <td>...</td>\n",
       "      <td>...</td>\n",
       "      <td>...</td>\n",
       "      <td>...</td>\n",
       "      <td>...</td>\n",
       "      <td>...</td>\n",
       "    </tr>\n",
       "    <tr>\n",
       "      <th>5872</th>\n",
       "      <td>21746</td>\n",
       "      <td>14.257265</td>\n",
       "      <td>21.358872</td>\n",
       "      <td>61.165998</td>\n",
       "      <td>51.778483</td>\n",
       "      <td>54.640179</td>\n",
       "    </tr>\n",
       "    <tr>\n",
       "      <th>5873</th>\n",
       "      <td>21747</td>\n",
       "      <td>55.456978</td>\n",
       "      <td>68.169675</td>\n",
       "      <td>29.907995</td>\n",
       "      <td>55.349257</td>\n",
       "      <td>54.019517</td>\n",
       "    </tr>\n",
       "    <tr>\n",
       "      <th>5874</th>\n",
       "      <td>21750</td>\n",
       "      <td>48.948756</td>\n",
       "      <td>55.114811</td>\n",
       "      <td>60.878271</td>\n",
       "      <td>38.617246</td>\n",
       "      <td>50.679885</td>\n",
       "    </tr>\n",
       "    <tr>\n",
       "      <th>5875</th>\n",
       "      <td>21752</td>\n",
       "      <td>66.532630</td>\n",
       "      <td>59.844808</td>\n",
       "      <td>72.303110</td>\n",
       "      <td>55.458281</td>\n",
       "      <td>46.870235</td>\n",
       "    </tr>\n",
       "    <tr>\n",
       "      <th>5876</th>\n",
       "      <td>21754</td>\n",
       "      <td>68.820928</td>\n",
       "      <td>56.594193</td>\n",
       "      <td>34.605868</td>\n",
       "      <td>49.922535</td>\n",
       "      <td>50.383078</td>\n",
       "    </tr>\n",
       "  </tbody>\n",
       "</table>\n",
       "<p>5877 rows × 6 columns</p>\n",
       "</div>"
      ],
      "text/plain": [
       "         Id        age  domain1_var1  domain1_var2  domain2_var1  domain2_var2\n",
       "0     10001  57.436077     30.571975     62.553736     53.325130     51.427998\n",
       "1     10002  59.580851     50.969456     67.470628     60.651856     58.311361\n",
       "2     10004  71.413018     53.152498     58.012103     52.418389     62.536641\n",
       "3     10005  66.532630           NaN           NaN     52.108977     69.993075\n",
       "4     10007  38.617381     49.197021     65.674285     40.151376     34.096421\n",
       "...     ...        ...           ...           ...           ...           ...\n",
       "5872  21746  14.257265     21.358872     61.165998     51.778483     54.640179\n",
       "5873  21747  55.456978     68.169675     29.907995     55.349257     54.019517\n",
       "5874  21750  48.948756     55.114811     60.878271     38.617246     50.679885\n",
       "5875  21752  66.532630     59.844808     72.303110     55.458281     46.870235\n",
       "5876  21754  68.820928     56.594193     34.605868     49.922535     50.383078\n",
       "\n",
       "[5877 rows x 6 columns]"
      ]
     },
     "execution_count": 7,
     "metadata": {},
     "output_type": "execute_result"
    }
   ],
   "source": [
    "data = pd.read_csv('00_Data/train_scores.csv')\n",
    "data"
   ]
  },
  {
   "cell_type": "code",
   "execution_count": 28,
   "metadata": {},
   "outputs": [],
   "source": [
    "data_nulls = data[data.isnull().any(axis=1)]\n",
    "NULL_IDS = list(data_nulls['Id'].values)"
   ]
  },
  {
   "cell_type": "code",
   "execution_count": null,
   "metadata": {},
   "outputs": [],
   "source": []
  }
 ],
 "metadata": {
  "kernelspec": {
   "display_name": "Python 3",
   "language": "python",
   "name": "python3"
  },
  "language_info": {
   "codemirror_mode": {
    "name": "ipython",
    "version": 3
   },
   "file_extension": ".py",
   "mimetype": "text/x-python",
   "name": "python",
   "nbconvert_exporter": "python",
   "pygments_lexer": "ipython3",
   "version": "3.8.1"
  }
 },
 "nbformat": 4,
 "nbformat_minor": 4
}
