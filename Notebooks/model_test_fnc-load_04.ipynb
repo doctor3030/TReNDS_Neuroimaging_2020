{
 "cells": [
  {
   "cell_type": "code",
   "execution_count": 1,
   "metadata": {
    "scrolled": true
   },
   "outputs": [
    {
     "name": "stderr",
     "output_type": "stream",
     "text": [
      "Using TensorFlow backend.\n"
     ]
    }
   ],
   "source": [
    "%config IPCompleter.greedy=True\n",
    "from IPython.display import IFrame\n",
    "\n",
    "import pandas as pd\n",
    "import numpy as np\n",
    "import string\n",
    "import math\n",
    "\n",
    "import scipy.stats as sts\n",
    "\n",
    "import matplotlib.pyplot as plt\n",
    "import matplotlib.gridspec as gridspec\n",
    "import seaborn as sns\n",
    "\n",
    "from sklearn import preprocessing as prep\n",
    "import sklearn.metrics as metrics\n",
    "import sklearn.model_selection as model_selection\n",
    "from sklearn import discriminant_analysis as disan\n",
    "from sklearn import calibration as calib\n",
    "from sklearn import linear_model as lm\n",
    "from sklearn import svm\n",
    "from sklearn import gaussian_process as gaup\n",
    "from sklearn import mixture as mix\n",
    "from sklearn import tree\n",
    "from sklearn import ensemble as ens\n",
    "\n",
    "import tensorflow as tf\n",
    "from tensorflow import keras\n",
    "\n",
    "# from keras import models as kermdls\n",
    "# from keras import layers as kerlrs\n",
    "# from keras import metrics as kmetrics\n",
    "\n",
    "from hyperas import optim\n",
    "from hyperas.distributions import choice, uniform\n",
    "from hyperopt import Trials, STATUS_OK, tpe\n",
    "\n",
    "import pickle\n",
    "\n",
    "import nilearn as nl\n",
    "from nilearn import plotting, image\n",
    "from nilearn import datasets\n",
    "import nibabel as nb\n",
    "import h5py\n",
    "\n",
    "import os\n",
    "\n",
    "import time"
   ]
  },
  {
   "cell_type": "code",
   "execution_count": 2,
   "metadata": {},
   "outputs": [
    {
     "data": {
      "text/plain": [
       "True"
      ]
     },
     "execution_count": 2,
     "metadata": {},
     "output_type": "execute_result"
    }
   ],
   "source": [
    "tf.test.is_built_with_cuda()"
   ]
  },
  {
   "cell_type": "code",
   "execution_count": 3,
   "metadata": {},
   "outputs": [
    {
     "data": {
      "text/plain": [
       "[PhysicalDevice(name='/physical_device:CPU:0', device_type='CPU'),\n",
       " PhysicalDevice(name='/physical_device:XLA_CPU:0', device_type='XLA_CPU'),\n",
       " PhysicalDevice(name='/physical_device:GPU:0', device_type='GPU'),\n",
       " PhysicalDevice(name='/physical_device:XLA_GPU:0', device_type='XLA_GPU')]"
      ]
     },
     "execution_count": 3,
     "metadata": {},
     "output_type": "execute_result"
    }
   ],
   "source": [
    "tf.config.list_physical_devices()"
   ]
  },
  {
   "cell_type": "code",
   "execution_count": 4,
   "metadata": {},
   "outputs": [
    {
     "name": "stdout",
     "output_type": "stream",
     "text": [
      "[name: \"/device:CPU:0\"\n",
      "device_type: \"CPU\"\n",
      "memory_limit: 268435456\n",
      "locality {\n",
      "}\n",
      "incarnation: 15474937434967889849\n",
      ", name: \"/device:XLA_CPU:0\"\n",
      "device_type: \"XLA_CPU\"\n",
      "memory_limit: 17179869184\n",
      "locality {\n",
      "}\n",
      "incarnation: 17745570188292419646\n",
      "physical_device_desc: \"device: XLA_CPU device\"\n",
      ", name: \"/device:GPU:0\"\n",
      "device_type: \"GPU\"\n",
      "memory_limit: 6589725830\n",
      "locality {\n",
      "  bus_id: 1\n",
      "  links {\n",
      "  }\n",
      "}\n",
      "incarnation: 15953200508334506861\n",
      "physical_device_desc: \"device: 0, name: GeForce GTX 1070 Ti, pci bus id: 0000:01:00.0, compute capability: 6.1\"\n",
      ", name: \"/device:XLA_GPU:0\"\n",
      "device_type: \"XLA_GPU\"\n",
      "memory_limit: 17179869184\n",
      "locality {\n",
      "}\n",
      "incarnation: 6781894280378530570\n",
      "physical_device_desc: \"device: XLA_GPU device\"\n",
      "]\n"
     ]
    }
   ],
   "source": [
    "from tensorflow.python.client import device_lib \n",
    "print(device_lib.list_local_devices())"
   ]
  },
  {
   "cell_type": "code",
   "execution_count": 5,
   "metadata": {},
   "outputs": [
    {
     "name": "stdout",
     "output_type": "stream",
     "text": [
      "SCN(53)_vs_SCN(69)    0.368580\n",
      "SCN(98)_vs_SCN(69)    0.166876\n",
      "SCN(99)_vs_SCN(69)    0.438148\n",
      "SCN(45)_vs_SCN(69)    0.341007\n",
      "ADN(21)_vs_SCN(69)   -0.186251\n",
      "                        ...   \n",
      "CBN(4)_vs_CBN(13)    -0.042853\n",
      "CBN(7)_vs_CBN(13)     0.124627\n",
      "CBN(4)_vs_CBN(18)    -0.060712\n",
      "CBN(7)_vs_CBN(18)     0.515964\n",
      "CBN(7)_vs_CBN(4)      0.290488\n",
      "Name: 0, Length: 1378, dtype: float64\n",
      "SCN(53)_vs_SCN(69)    0.151696\n",
      "SCN(98)_vs_SCN(69)   -0.024819\n",
      "SCN(99)_vs_SCN(69)    0.217504\n",
      "SCN(45)_vs_SCN(69)    0.418072\n",
      "ADN(21)_vs_SCN(69)   -0.227234\n",
      "                        ...   \n",
      "CBN(4)_vs_CBN(13)     0.444231\n",
      "CBN(7)_vs_CBN(13)     0.592438\n",
      "CBN(4)_vs_CBN(18)     0.028649\n",
      "CBN(7)_vs_CBN(18)     0.705524\n",
      "CBN(7)_vs_CBN(4)      0.248327\n",
      "Name: 1, Length: 1378, dtype: float64\n",
      "SCN(53)_vs_SCN(69)    0.343415\n",
      "SCN(98)_vs_SCN(69)    0.109974\n",
      "SCN(99)_vs_SCN(69)    0.741641\n",
      "SCN(45)_vs_SCN(69)    0.578558\n",
      "ADN(21)_vs_SCN(69)   -0.676446\n",
      "                        ...   \n",
      "CBN(4)_vs_CBN(13)     0.409412\n",
      "CBN(7)_vs_CBN(13)     0.563892\n",
      "CBN(4)_vs_CBN(18)     0.438684\n",
      "CBN(7)_vs_CBN(18)     0.618204\n",
      "CBN(7)_vs_CBN(4)      0.284474\n",
      "Name: 2, Length: 1378, dtype: float64\n",
      "SCN(53)_vs_SCN(69)    0.132793\n",
      "SCN(98)_vs_SCN(69)    0.258255\n",
      "SCN(99)_vs_SCN(69)    0.490769\n",
      "SCN(45)_vs_SCN(69)    0.342717\n",
      "ADN(21)_vs_SCN(69)    0.091112\n",
      "                        ...   \n",
      "CBN(4)_vs_CBN(13)     0.214097\n",
      "CBN(7)_vs_CBN(13)     0.317556\n",
      "CBN(4)_vs_CBN(18)     0.012435\n",
      "CBN(7)_vs_CBN(18)     0.665937\n",
      "CBN(7)_vs_CBN(4)      0.081358\n",
      "Name: 3, Length: 1378, dtype: float64\n",
      "SCN(53)_vs_SCN(69)    0.291921\n",
      "SCN(98)_vs_SCN(69)    0.251254\n",
      "SCN(99)_vs_SCN(69)    0.416470\n",
      "SCN(45)_vs_SCN(69)    0.511719\n",
      "ADN(21)_vs_SCN(69)   -0.362626\n",
      "                        ...   \n",
      "CBN(4)_vs_CBN(13)     0.266755\n",
      "CBN(7)_vs_CBN(13)     0.227379\n",
      "CBN(4)_vs_CBN(18)     0.028984\n",
      "CBN(7)_vs_CBN(18)     0.752343\n",
      "CBN(7)_vs_CBN(4)      0.087898\n",
      "Name: 4, Length: 1378, dtype: float64\n"
     ]
    }
   ],
   "source": [
    "fnc_10 = pd.read_csv('00_Data/fnc.csv')\n",
    "fnc_10 = fnc_10.head(5)\n",
    "for row in fnc_10.iterrows():\n",
    "    idx = int(row[1][0])\n",
    "    row = row[1][1:]\n",
    "    print(row)\n",
    "#     row.to_csv('00_Data/fnc_csv_norm/{0}.csv'.format(idx))"
   ]
  },
  {
   "cell_type": "code",
   "execution_count": 6,
   "metadata": {},
   "outputs": [],
   "source": [
    "TEST_IDS = [map_id.split('.')[0] for map_id in sorted(os.listdir('00_Data/fMRI_test'))]\n",
    "TRAIN_IDS = [map_id.split('.')[0] for map_id in sorted(os.listdir('00_Data/fMRI_train'))]"
   ]
  },
  {
   "cell_type": "code",
   "execution_count": 7,
   "metadata": {},
   "outputs": [
    {
     "data": {
      "text/html": [
       "<div>\n",
       "<style scoped>\n",
       "    .dataframe tbody tr th:only-of-type {\n",
       "        vertical-align: middle;\n",
       "    }\n",
       "\n",
       "    .dataframe tbody tr th {\n",
       "        vertical-align: top;\n",
       "    }\n",
       "\n",
       "    .dataframe thead th {\n",
       "        text-align: right;\n",
       "    }\n",
       "</style>\n",
       "<table border=\"1\" class=\"dataframe\">\n",
       "  <thead>\n",
       "    <tr style=\"text-align: right;\">\n",
       "      <th></th>\n",
       "      <th>Id</th>\n",
       "      <th>age</th>\n",
       "      <th>domain1_var1</th>\n",
       "      <th>domain1_var2</th>\n",
       "      <th>domain2_var1</th>\n",
       "      <th>domain2_var2</th>\n",
       "    </tr>\n",
       "  </thead>\n",
       "  <tbody>\n",
       "    <tr>\n",
       "      <th>0</th>\n",
       "      <td>10001</td>\n",
       "      <td>57.436077</td>\n",
       "      <td>30.571975</td>\n",
       "      <td>62.553736</td>\n",
       "      <td>53.325130</td>\n",
       "      <td>51.427998</td>\n",
       "    </tr>\n",
       "    <tr>\n",
       "      <th>1</th>\n",
       "      <td>10002</td>\n",
       "      <td>59.580851</td>\n",
       "      <td>50.969456</td>\n",
       "      <td>67.470628</td>\n",
       "      <td>60.651856</td>\n",
       "      <td>58.311361</td>\n",
       "    </tr>\n",
       "    <tr>\n",
       "      <th>2</th>\n",
       "      <td>10004</td>\n",
       "      <td>71.413018</td>\n",
       "      <td>53.152498</td>\n",
       "      <td>58.012103</td>\n",
       "      <td>52.418389</td>\n",
       "      <td>62.536641</td>\n",
       "    </tr>\n",
       "    <tr>\n",
       "      <th>3</th>\n",
       "      <td>10005</td>\n",
       "      <td>66.532630</td>\n",
       "      <td>NaN</td>\n",
       "      <td>NaN</td>\n",
       "      <td>52.108977</td>\n",
       "      <td>69.993075</td>\n",
       "    </tr>\n",
       "    <tr>\n",
       "      <th>4</th>\n",
       "      <td>10007</td>\n",
       "      <td>38.617381</td>\n",
       "      <td>49.197021</td>\n",
       "      <td>65.674285</td>\n",
       "      <td>40.151376</td>\n",
       "      <td>34.096421</td>\n",
       "    </tr>\n",
       "    <tr>\n",
       "      <th>...</th>\n",
       "      <td>...</td>\n",
       "      <td>...</td>\n",
       "      <td>...</td>\n",
       "      <td>...</td>\n",
       "      <td>...</td>\n",
       "      <td>...</td>\n",
       "    </tr>\n",
       "    <tr>\n",
       "      <th>5872</th>\n",
       "      <td>21746</td>\n",
       "      <td>14.257265</td>\n",
       "      <td>21.358872</td>\n",
       "      <td>61.165998</td>\n",
       "      <td>51.778483</td>\n",
       "      <td>54.640179</td>\n",
       "    </tr>\n",
       "    <tr>\n",
       "      <th>5873</th>\n",
       "      <td>21747</td>\n",
       "      <td>55.456978</td>\n",
       "      <td>68.169675</td>\n",
       "      <td>29.907995</td>\n",
       "      <td>55.349257</td>\n",
       "      <td>54.019517</td>\n",
       "    </tr>\n",
       "    <tr>\n",
       "      <th>5874</th>\n",
       "      <td>21750</td>\n",
       "      <td>48.948756</td>\n",
       "      <td>55.114811</td>\n",
       "      <td>60.878271</td>\n",
       "      <td>38.617246</td>\n",
       "      <td>50.679885</td>\n",
       "    </tr>\n",
       "    <tr>\n",
       "      <th>5875</th>\n",
       "      <td>21752</td>\n",
       "      <td>66.532630</td>\n",
       "      <td>59.844808</td>\n",
       "      <td>72.303110</td>\n",
       "      <td>55.458281</td>\n",
       "      <td>46.870235</td>\n",
       "    </tr>\n",
       "    <tr>\n",
       "      <th>5876</th>\n",
       "      <td>21754</td>\n",
       "      <td>68.820928</td>\n",
       "      <td>56.594193</td>\n",
       "      <td>34.605868</td>\n",
       "      <td>49.922535</td>\n",
       "      <td>50.383078</td>\n",
       "    </tr>\n",
       "  </tbody>\n",
       "</table>\n",
       "<p>5877 rows × 6 columns</p>\n",
       "</div>"
      ],
      "text/plain": [
       "         Id        age  domain1_var1  domain1_var2  domain2_var1  domain2_var2\n",
       "0     10001  57.436077     30.571975     62.553736     53.325130     51.427998\n",
       "1     10002  59.580851     50.969456     67.470628     60.651856     58.311361\n",
       "2     10004  71.413018     53.152498     58.012103     52.418389     62.536641\n",
       "3     10005  66.532630           NaN           NaN     52.108977     69.993075\n",
       "4     10007  38.617381     49.197021     65.674285     40.151376     34.096421\n",
       "...     ...        ...           ...           ...           ...           ...\n",
       "5872  21746  14.257265     21.358872     61.165998     51.778483     54.640179\n",
       "5873  21747  55.456978     68.169675     29.907995     55.349257     54.019517\n",
       "5874  21750  48.948756     55.114811     60.878271     38.617246     50.679885\n",
       "5875  21752  66.532630     59.844808     72.303110     55.458281     46.870235\n",
       "5876  21754  68.820928     56.594193     34.605868     49.922535     50.383078\n",
       "\n",
       "[5877 rows x 6 columns]"
      ]
     },
     "execution_count": 7,
     "metadata": {},
     "output_type": "execute_result"
    }
   ],
   "source": [
    "data = pd.read_csv('00_Data/train_scores.csv')\n",
    "data"
   ]
  },
  {
   "cell_type": "code",
   "execution_count": 8,
   "metadata": {},
   "outputs": [
    {
     "data": {
      "text/plain": [
       "Id                0\n",
       "age               0\n",
       "domain1_var1    438\n",
       "domain1_var2    438\n",
       "domain2_var1     39\n",
       "domain2_var2     39\n",
       "dtype: int64"
      ]
     },
     "execution_count": 8,
     "metadata": {},
     "output_type": "execute_result"
    }
   ],
   "source": [
    "data.isnull().sum()"
   ]
  },
  {
   "cell_type": "code",
   "execution_count": 9,
   "metadata": {},
   "outputs": [],
   "source": [
    "# nulls = data.isnull().sum()\n",
    "# l = len(data.index)\n",
    "\n",
    "# nulls['domain1_var1'] / l"
   ]
  },
  {
   "cell_type": "code",
   "execution_count": 10,
   "metadata": {},
   "outputs": [],
   "source": [
    "data = data.dropna()"
   ]
  },
  {
   "cell_type": "code",
   "execution_count": 11,
   "metadata": {},
   "outputs": [
    {
     "name": "stdout",
     "output_type": "stream",
     "text": [
      "Dataset length:  5434\n"
     ]
    }
   ],
   "source": [
    "print('Dataset length: ', len(data.index))"
   ]
  },
  {
   "cell_type": "code",
   "execution_count": 12,
   "metadata": {},
   "outputs": [],
   "source": [
    "# def get_inputs_fnc(idx, labels):\n",
    "#     df = pd.read_csv('00_Data/fnc_csv/{0}.csv'.format(idx), index_col=0)\n",
    "#     X = np.array(df.values).reshape(-1)\n",
    "#     return X, labels"
   ]
  },
  {
   "cell_type": "code",
   "execution_count": 13,
   "metadata": {},
   "outputs": [],
   "source": [
    "# def get_inputs_loading(idx, labels):\n",
    "#     df = pd.read_csv('00_Data/loading_csv/{0}.csv'.format(idx), index_col=0)\n",
    "#     X = np.array(df.values).reshape(-1)\n",
    "#     return X, labels"
   ]
  },
  {
   "cell_type": "code",
   "execution_count": 14,
   "metadata": {},
   "outputs": [],
   "source": [
    "def get_inputs(idx, labels):\n",
    "    df_fnc = pd.read_csv('00_Data/fnc_csv/{0}.csv'.format(idx), index_col=0)\n",
    "    X_fnc = np.array(df_fnc.values).reshape(-1)\n",
    "    \n",
    "    df_loading = pd.read_csv('00_Data/loading_csv/{0}.csv'.format(idx), index_col=0)\n",
    "    X_loading = np.array(df_loading.values).reshape(-1)\n",
    "#     print(X_fnc[0])\n",
    "#     print(X_loading[0])\n",
    "#     print(labels[0])\n",
    "#     print(X_fnc.shape)\n",
    "#     print(X_loading.shape)\n",
    "#     print(labels.shape)\n",
    "\n",
    "#     X_fnc = tf.convert_to_tensor(X_fnc, dtype=tf.float64)\n",
    "#     X_loading = tf.convert_to_tensor(X_loading, dtype=tf.float64)\n",
    "#     labels = tf.convert_to_tensor(labels, dtype=tf.float64)\n",
    "#     X = tf.tuple([X_fnc, X_loading])\n",
    "\n",
    "#     X = dict()\n",
    "#     X['input_1'] = X_fnc\n",
    "#     X['input_2'] = X_loading\n",
    "    X = (X_fnc, X_loading)\n",
    "    return X, labels"
   ]
  },
  {
   "cell_type": "code",
   "execution_count": 15,
   "metadata": {},
   "outputs": [],
   "source": [
    "def map_decorator(func):\n",
    "    def wrapper(idx, labels):\n",
    "        # Use a tf.py_function to prevent auto-graph from compiling the method\n",
    "        return tf.py_function(func,\n",
    "                              inp=(idx, labels),\n",
    "                              Tout=tf.float64)\n",
    "    return wrapper"
   ]
  },
  {
   "cell_type": "code",
   "execution_count": 16,
   "metadata": {},
   "outputs": [],
   "source": [
    "def new_py_function(func, inp, Tout, name=None):\n",
    "    \n",
    "    def wrapped_func(*flat_inp):\n",
    "        reconstructed_inp = tf.nest.pack_sequence_as(inp, flat_inp,\n",
    "                                                     expand_composites=True)\n",
    "        out = func(*reconstructed_inp)\n",
    "        return tf.nest.flatten(out, expand_composites=True)\n",
    "    \n",
    "    flat_Tout = tf.nest.flatten(Tout, expand_composites=True)\n",
    "    flat_out = tf.py_function(func=wrapped_func, \n",
    "                              inp=tf.nest.flatten(inp, expand_composites=True),\n",
    "                              Tout=[_tensor_spec_to_dtype(v) for v in flat_Tout],\n",
    "                              name=name)\n",
    "    spec_out = tf.nest.map_structure(_dtype_to_tensor_spec, Tout, expand_composites=True)\n",
    "    out = tf.nest.pack_sequence_as(spec_out, flat_out, expand_composites=True)\n",
    "    return out\n",
    "\n",
    "def _dtype_to_tensor_spec(v):\n",
    "    return tf.TensorSpec(None, v) if isinstance(v, tf.dtypes.DType) else v\n",
    "\n",
    "def _tensor_spec_to_dtype(v):\n",
    "    return v.dtype if isinstance(v, tf.TensorSpec) else v"
   ]
  },
  {
   "cell_type": "code",
   "execution_count": 17,
   "metadata": {},
   "outputs": [],
   "source": [
    "# def get_dataset(data, batch_size):\n",
    "#     data = tf.data.Dataset.from_tensor_slices((data['Id'].values, \n",
    "#                                                data[['age', 'domain1_var1', 'domain1_var2', 'domain2_var1', 'domain2_var2']].values))\n",
    "#     data = data.shuffle(buffer_size=5500, seed=30, reshuffle_each_iteration=True)\n",
    "    \n",
    "#     data_fnc = data.map(map_decorator(get_inputs_fnc), \n",
    "#                      num_parallel_calls=tf.data.experimental.AUTOTUNE, \n",
    "#                      deterministic=True)\n",
    "#     data_loading = data.map(map_decorator(get_inputs_loading), \n",
    "#                      num_parallel_calls=tf.data.experimental.AUTOTUNE, \n",
    "#                      deterministic=True)\n",
    "\n",
    "#     data_fnc = data_fnc.batch(batch_size, drop_remainder=True)\n",
    "#     data_fnc = data_fnc.prefetch(tf.data.experimental.AUTOTUNE)\n",
    "    \n",
    "#     data_loading = data_loading.batch(batch_size, drop_remainder=True)\n",
    "#     data_loading = data_loading.prefetch(tf.data.experimental.AUTOTUNE)\n",
    "#     return (data_fnc, data_loading)"
   ]
  },
  {
   "cell_type": "code",
   "execution_count": 18,
   "metadata": {},
   "outputs": [],
   "source": [
    "def get_dataset(data, batch_size):\n",
    "    data = tf.data.Dataset.from_tensor_slices((data['Id'].values, \n",
    "                                               data[['age', 'domain1_var1', 'domain1_var2', 'domain2_var1', 'domain2_var2']].values))\n",
    "    data = data.shuffle(buffer_size=5500, seed=30, reshuffle_each_iteration=True)\n",
    "    \n",
    "    data = data.map(lambda idx, lbl:new_py_function(get_inputs, inp=(idx, lbl), Tout=((tf.float64, tf.float64), tf.float64), name=None), \n",
    "                     num_parallel_calls=tf.data.experimental.AUTOTUNE, \n",
    "                     deterministic=True)\n",
    "    data = data.batch(batch_size, drop_remainder=True)\n",
    "    data = data.prefetch(tf.data.experimental.AUTOTUNE)\n",
    "    return data"
   ]
  },
  {
   "cell_type": "code",
   "execution_count": 19,
   "metadata": {},
   "outputs": [],
   "source": [
    "train, test = model_selection.train_test_split(data, test_size=0.2, shuffle=True, random_state=30)\n",
    "train, val = model_selection.train_test_split(train, test_size=0.2, shuffle=True, random_state=30)"
   ]
  },
  {
   "cell_type": "code",
   "execution_count": 20,
   "metadata": {},
   "outputs": [],
   "source": [
    "# batch_size = 64\n",
    "\n",
    "# ds_train_fnc, ds_train_loading = get_dataset(train, batch_size)\n",
    "# ds_val_fnc, ds_val_loading = get_dataset(val, batch_size)\n",
    "# ds_test_fnc, ds_test_loading = get_dataset(test, batch_size)"
   ]
  },
  {
   "cell_type": "code",
   "execution_count": 21,
   "metadata": {},
   "outputs": [],
   "source": [
    "batch_size = 64\n",
    "\n",
    "ds_train = get_dataset(train, batch_size)\n",
    "ds_val = get_dataset(val, batch_size)\n",
    "ds_test = get_dataset(test, batch_size)"
   ]
  },
  {
   "cell_type": "code",
   "execution_count": 22,
   "metadata": {},
   "outputs": [],
   "source": [
    "# start_time = time.perf_counter()\n",
    "# for f in ds_train.take(1):\n",
    "#     pass\n",
    "# tf.print(\"Execution time:\", time.perf_counter() - start_time)"
   ]
  },
  {
   "cell_type": "code",
   "execution_count": 23,
   "metadata": {},
   "outputs": [],
   "source": [
    "INPUT_SHAPE_fnc = (1378,)"
   ]
  },
  {
   "cell_type": "code",
   "execution_count": 24,
   "metadata": {},
   "outputs": [],
   "source": [
    "INPUT_SHAPE_loading = (26,)"
   ]
  },
  {
   "cell_type": "code",
   "execution_count": 25,
   "metadata": {},
   "outputs": [],
   "source": [
    "inputs_fnc = keras.layers.Input(shape=INPUT_SHAPE_fnc, name='inp_fnc')\n",
    "\n",
    "x = keras.layers.BatchNormalization(axis=-1, momentum=0.99, epsilon=0.001, center=True, scale=True, \n",
    "                                          beta_initializer='zeros', gamma_initializer='ones', moving_mean_initializer='zeros',\n",
    "                                          moving_variance_initializer='ones', beta_regularizer=None, gamma_regularizer=None, \n",
    "                                          beta_constraint=None, gamma_constraint=None)(inputs_fnc)\n",
    "x = keras.layers.Dense(2048,\n",
    "                           kernel_initializer=keras.initializers.he_normal(seed=30),\n",
    "                           bias_initializer=keras.initializers.Constant(5.))(x)\n",
    "x = tf.keras.layers.PReLU(alpha_initializer=keras.initializers.Constant(0.5))(x)\n",
    "# x = keras.layers.Dropout(rate=0.2, seed=30)(x)\n",
    "\n",
    "x1 = keras.layers.Dense(512,\n",
    "                           kernel_initializer=keras.initializers.he_normal(seed=30),\n",
    "                           bias_initializer=keras.initializers.Constant(5.))(x)\n",
    "x1 = tf.keras.layers.PReLU(alpha_initializer=keras.initializers.Constant(0.5))(x1)\n",
    "# x1 = keras.layers.Dropout(rate=0.2, seed=30)(x1)\n",
    "\n",
    "x2 = keras.layers.Dense(512,\n",
    "                           kernel_initializer=keras.initializers.he_normal(seed=30),\n",
    "                           bias_initializer=keras.initializers.Constant(5.))(x)\n",
    "x2 = tf.keras.layers.PReLU(alpha_initializer=keras.initializers.Constant(0.5))(x2)\n",
    "# x2 = keras.layers.Dropout(rate=0.2, seed=30)(x2)\n",
    "\n",
    "x = keras.layers.concatenate([x1, x2])\n",
    "\n",
    "x = keras.layers.Dense(256,\n",
    "                           kernel_initializer=keras.initializers.he_normal(seed=30),\n",
    "                           bias_initializer=keras.initializers.Constant(5.))(x)\n",
    "x = tf.keras.layers.PReLU(alpha_initializer=keras.initializers.Constant(0.5))(x)\n",
    "# x = keras.layers.Dropout(rate=0.2, seed=30)(x)\n",
    "\n",
    "# output\n",
    "x = keras.Model(inputs=inputs_fnc, outputs=x, name='model_fnc')\n",
    "# print(x)"
   ]
  },
  {
   "cell_type": "code",
   "execution_count": 26,
   "metadata": {},
   "outputs": [],
   "source": [
    "inputs_loading = keras.layers.Input(shape=INPUT_SHAPE_loading, name='inp_load')\n",
    "\n",
    "y = keras.layers.BatchNormalization(axis=-1, momentum=0.99, epsilon=0.001, center=True, scale=True, \n",
    "                                          beta_initializer='zeros', gamma_initializer='ones', moving_mean_initializer='zeros',\n",
    "                                          moving_variance_initializer='ones', beta_regularizer=None, gamma_regularizer=None, \n",
    "                                          beta_constraint=None, gamma_constraint=None)(inputs_loading)\n",
    "\n",
    "y = keras.layers.Dense(256,\n",
    "                           kernel_initializer=keras.initializers.he_normal(seed=30),\n",
    "                           bias_initializer=keras.initializers.Constant(5.))(y)\n",
    "y = tf.keras.layers.PReLU(alpha_initializer=keras.initializers.Constant(0.5))(y)\n",
    "# y = keras.layers.Dropout(rate=0.2, seed=30)(y)\n",
    "\n",
    "y1 = keras.layers.Dense(128,\n",
    "                           kernel_initializer=keras.initializers.he_normal(seed=30),\n",
    "                           bias_initializer=keras.initializers.Constant(5.))(y)\n",
    "y1 = tf.keras.layers.PReLU(alpha_initializer=keras.initializers.Constant(0.5))(y1)\n",
    "# x1 = keras.layers.Dropout(rate=0.2, seed=30)(x1)\n",
    "\n",
    "y2 = keras.layers.Dense(128,\n",
    "                           kernel_initializer=keras.initializers.he_normal(seed=30),\n",
    "                           bias_initializer=keras.initializers.Constant(5.))(y)\n",
    "y2 = tf.keras.layers.PReLU(alpha_initializer=keras.initializers.Constant(0.5))(y2)\n",
    "# x2 = keras.layers.Dropout(rate=0.2, seed=30)(x2)\n",
    "\n",
    "y = keras.layers.concatenate([y1, y2])\n",
    "\n",
    "y = keras.layers.Dense(256,\n",
    "                           kernel_initializer=keras.initializers.he_normal(seed=30),\n",
    "                           bias_initializer=keras.initializers.Constant(5.))(y)\n",
    "y = tf.keras.layers.PReLU(alpha_initializer=keras.initializers.Constant(0.5))(y)\n",
    "# x = keras.layers.Dropout(rate=0.2, seed=30)(x)\n",
    "\n",
    "# output\n",
    "y = keras.Model(inputs=inputs_loading, outputs=y, name='model_loading')"
   ]
  },
  {
   "cell_type": "code",
   "execution_count": 27,
   "metadata": {},
   "outputs": [],
   "source": [
    "concat = keras.layers.concatenate([x.output, y.output])\n",
    "\n",
    "z = keras.layers.Dense(512, \n",
    "                       kernel_initializer=keras.initializers.he_normal(seed=30),\n",
    "                       bias_initializer=keras.initializers.Constant(5.))(concat)\n",
    "z = tf.keras.layers.PReLU(alpha_initializer=keras.initializers.Constant(0.5))(z)\n",
    "# z = keras.layers.Dropout(rate=0.2, seed=30)(z)\n",
    "\n",
    "z = keras.layers.Dense(512, \n",
    "                       kernel_initializer=keras.initializers.he_normal(seed=30),\n",
    "                       bias_initializer=keras.initializers.Constant(5.))(z)\n",
    "z = tf.keras.layers.PReLU(alpha_initializer=keras.initializers.Constant(0.5))(z)\n",
    "# z = keras.layers.Dropout(rate=0.2, seed=30)(z)\n",
    "\n",
    "outputs = keras.layers.Dense(5, activation='linear')(z)\n",
    "\n",
    "model = keras.Model(inputs=[x.input, y.input], outputs=outputs, name='model_combined')"
   ]
  },
  {
   "cell_type": "code",
   "execution_count": 28,
   "metadata": {},
   "outputs": [
    {
     "name": "stdout",
     "output_type": "stream",
     "text": [
      "Model: \"model_combined\"\n",
      "__________________________________________________________________________________________________\n",
      "Layer (type)                    Output Shape         Param #     Connected to                     \n",
      "==================================================================================================\n",
      "inp_fnc (InputLayer)            [(None, 1378)]       0                                            \n",
      "__________________________________________________________________________________________________\n",
      "inp_load (InputLayer)           [(None, 26)]         0                                            \n",
      "__________________________________________________________________________________________________\n",
      "batch_normalization (BatchNorma (None, 1378)         5512        inp_fnc[0][0]                    \n",
      "__________________________________________________________________________________________________\n",
      "batch_normalization_1 (BatchNor (None, 26)           104         inp_load[0][0]                   \n",
      "__________________________________________________________________________________________________\n",
      "dense (Dense)                   (None, 2048)         2824192     batch_normalization[0][0]        \n",
      "__________________________________________________________________________________________________\n",
      "dense_4 (Dense)                 (None, 256)          6912        batch_normalization_1[0][0]      \n",
      "__________________________________________________________________________________________________\n",
      "p_re_lu (PReLU)                 (None, 2048)         2048        dense[0][0]                      \n",
      "__________________________________________________________________________________________________\n",
      "p_re_lu_4 (PReLU)               (None, 256)          256         dense_4[0][0]                    \n",
      "__________________________________________________________________________________________________\n",
      "dense_1 (Dense)                 (None, 512)          1049088     p_re_lu[0][0]                    \n",
      "__________________________________________________________________________________________________\n",
      "dense_2 (Dense)                 (None, 512)          1049088     p_re_lu[0][0]                    \n",
      "__________________________________________________________________________________________________\n",
      "dense_5 (Dense)                 (None, 128)          32896       p_re_lu_4[0][0]                  \n",
      "__________________________________________________________________________________________________\n",
      "dense_6 (Dense)                 (None, 128)          32896       p_re_lu_4[0][0]                  \n",
      "__________________________________________________________________________________________________\n",
      "p_re_lu_1 (PReLU)               (None, 512)          512         dense_1[0][0]                    \n",
      "__________________________________________________________________________________________________\n",
      "p_re_lu_2 (PReLU)               (None, 512)          512         dense_2[0][0]                    \n",
      "__________________________________________________________________________________________________\n",
      "p_re_lu_5 (PReLU)               (None, 128)          128         dense_5[0][0]                    \n",
      "__________________________________________________________________________________________________\n",
      "p_re_lu_6 (PReLU)               (None, 128)          128         dense_6[0][0]                    \n",
      "__________________________________________________________________________________________________\n",
      "concatenate (Concatenate)       (None, 1024)         0           p_re_lu_1[0][0]                  \n",
      "                                                                 p_re_lu_2[0][0]                  \n",
      "__________________________________________________________________________________________________\n",
      "concatenate_1 (Concatenate)     (None, 256)          0           p_re_lu_5[0][0]                  \n",
      "                                                                 p_re_lu_6[0][0]                  \n",
      "__________________________________________________________________________________________________\n",
      "dense_3 (Dense)                 (None, 256)          262400      concatenate[0][0]                \n",
      "__________________________________________________________________________________________________\n",
      "dense_7 (Dense)                 (None, 256)          65792       concatenate_1[0][0]              \n",
      "__________________________________________________________________________________________________\n",
      "p_re_lu_3 (PReLU)               (None, 256)          256         dense_3[0][0]                    \n",
      "__________________________________________________________________________________________________\n",
      "p_re_lu_7 (PReLU)               (None, 256)          256         dense_7[0][0]                    \n",
      "__________________________________________________________________________________________________\n",
      "concatenate_2 (Concatenate)     (None, 512)          0           p_re_lu_3[0][0]                  \n",
      "                                                                 p_re_lu_7[0][0]                  \n",
      "__________________________________________________________________________________________________\n",
      "dense_8 (Dense)                 (None, 512)          262656      concatenate_2[0][0]              \n",
      "__________________________________________________________________________________________________\n",
      "p_re_lu_8 (PReLU)               (None, 512)          512         dense_8[0][0]                    \n",
      "__________________________________________________________________________________________________\n",
      "dense_9 (Dense)                 (None, 512)          262656      p_re_lu_8[0][0]                  \n",
      "__________________________________________________________________________________________________\n",
      "p_re_lu_9 (PReLU)               (None, 512)          512         dense_9[0][0]                    \n",
      "__________________________________________________________________________________________________\n",
      "dense_10 (Dense)                (None, 5)            2565        p_re_lu_9[0][0]                  \n",
      "==================================================================================================\n",
      "Total params: 5,861,877\n",
      "Trainable params: 5,859,069\n",
      "Non-trainable params: 2,808\n",
      "__________________________________________________________________________________________________\n"
     ]
    }
   ],
   "source": [
    "model.summary()"
   ]
  },
  {
   "cell_type": "code",
   "execution_count": 29,
   "metadata": {},
   "outputs": [],
   "source": [
    "# optim = keras.optimizers.Adam(lr=0.000001,\n",
    "#                                  beta_1=0.99,\n",
    "#                                  beta_2=0.999,\n",
    "#                                  amsgrad=False)\n",
    "\n",
    "optim = tf.keras.optimizers.Adadelta(learning_rate=0.001, rho=0.95)\n",
    "        \n",
    "METRICS = [keras.metrics.RootMeanSquaredError(name='rmse'),\n",
    "           keras.metrics.MeanSquaredError(name='mse'),\n",
    "           keras.metrics.MeanAbsoluteError(name='mae')]"
   ]
  },
  {
   "cell_type": "code",
   "execution_count": 30,
   "metadata": {},
   "outputs": [],
   "source": [
    "# def weighted_mae(y_true, y_pred):\n",
    "# #     tf.print(y_true)\n",
    "#     W = tf.constant([[0.2, 0.2, 0.2, 0.2, 0.2]])\n",
    "# #     tf.print(W / tf.math.reduce_mean(y_true, axis=0))\n",
    "#     return tf.math.reduce_mean(tf.linalg.matmul(tf.math.abs(y_pred - y_true), tf.transpose(W / tf.math.reduce_mean(y_true, axis=0))), axis=0)"
   ]
  },
  {
   "cell_type": "code",
   "execution_count": 31,
   "metadata": {},
   "outputs": [],
   "source": [
    "model.compile(loss='mae', metrics=METRICS, optimizer=optim)"
   ]
  },
  {
   "cell_type": "code",
   "execution_count": 32,
   "metadata": {},
   "outputs": [],
   "source": [
    "# Define the checkpoint directory to store the checkpoints\n",
    "# Name of the checkpoint files\n",
    "# checkpoint_prefix = os.path.join('./99_Training_checkpoints/fnc-loading', \"ckpt_{epoch}\")"
   ]
  },
  {
   "cell_type": "code",
   "execution_count": 33,
   "metadata": {},
   "outputs": [],
   "source": [
    "# callbacks = [tf.keras.callbacks.TensorBoard(log_dir='./99_Logs/fnc-loading'),\n",
    "#              tf.keras.callbacks.ModelCheckpoint(filepath=checkpoint_prefix,\n",
    "#                                                 save_weights_only=False),\n",
    "#              tf.keras.callbacks.ReduceLROnPlateau(monitor='val_loss', \n",
    "#                                                   factor=0.7, \n",
    "#                                                   patience=2, \n",
    "#                                                   verbose=1, \n",
    "#                                                   mode='min',\n",
    "#                                                   min_delta=0.01, \n",
    "#                                                   cooldown=5, \n",
    "#                                                   min_lr=0.00000001),\n",
    "#              tf.keras.callbacks.EarlyStopping(monitor='val_loss', \n",
    "#                                               min_delta=0.001, \n",
    "#                                               patience=10, \n",
    "#                                               verbose=1, \n",
    "#                                               mode='min',\n",
    "#                                               baseline=None, \n",
    "#                                               restore_best_weights=True)]"
   ]
  },
  {
   "cell_type": "code",
   "execution_count": 34,
   "metadata": {},
   "outputs": [],
   "source": [
    "# callbacks = [tf.keras.callbacks.TensorBoard(log_dir='./99_Logs/fnc-loading'),\n",
    "#              tf.keras.callbacks.ReduceLROnPlateau(monitor='val_loss', \n",
    "#                                                   factor=0.7, \n",
    "#                                                   patience=2, \n",
    "#                                                   verbose=1, \n",
    "#                                                   mode='min',\n",
    "#                                                   min_delta=0.01, \n",
    "#                                                   cooldown=5, \n",
    "#                                                   min_lr=0.00000001),\n",
    "#              tf.keras.callbacks.EarlyStopping(monitor='val_loss', \n",
    "#                                               min_delta=0.001, \n",
    "#                                               patience=10, \n",
    "#                                               verbose=1, \n",
    "#                                               mode='min',\n",
    "#                                               baseline=None, \n",
    "#                                               restore_best_weights=True)]"
   ]
  },
  {
   "cell_type": "code",
   "execution_count": 35,
   "metadata": {},
   "outputs": [],
   "source": [
    "callbacks = [tf.keras.callbacks.TensorBoard(log_dir='./99_Logs/fnc-loading'),\n",
    "             tf.keras.callbacks.EarlyStopping(monitor='val_loss', \n",
    "                                              min_delta=0.001, \n",
    "                                              patience=10, \n",
    "                                              verbose=1, \n",
    "                                              mode='min',\n",
    "                                              baseline=None, \n",
    "                                              restore_best_weights=True)]"
   ]
  },
  {
   "cell_type": "code",
   "execution_count": 36,
   "metadata": {},
   "outputs": [],
   "source": [
    "# def decay(epoch):\n",
    "#     if epoch < 2:\n",
    "#         return 0.01\n",
    "#     elif epoch >= 2 and epoch < 10:\n",
    "#         return 0.005\n",
    "#     else:\n",
    "#         return 1e-4"
   ]
  },
  {
   "cell_type": "code",
   "execution_count": 37,
   "metadata": {},
   "outputs": [],
   "source": [
    "# callbacks = [tf.keras.callbacks.LearningRateScheduler(decay)]"
   ]
  },
  {
   "cell_type": "code",
   "execution_count": 38,
   "metadata": {},
   "outputs": [
    {
     "name": "stdout",
     "output_type": "stream",
     "text": [
      "Epoch 1/200\n",
      "54/54 [==============================] - 15s 273ms/step - loss: 57.3875 - rmse: 70.8973 - mse: 5026.4214 - mae: 57.3875 - val_loss: 42.4253 - val_rmse: 54.8625 - val_mse: 3009.8997 - val_mae: 42.4253\n",
      "Epoch 2/200\n",
      "54/54 [==============================] - 14s 257ms/step - loss: 28.3232 - rmse: 39.8484 - mse: 1587.8990 - mae: 28.3232 - val_loss: 15.9308 - val_rmse: 21.1473 - val_mse: 447.2089 - val_mae: 15.9308\n",
      "Epoch 3/200\n",
      "54/54 [==============================] - 14s 256ms/step - loss: 10.9713 - rmse: 14.1044 - mse: 198.9336 - mae: 10.9713 - val_loss: 9.3150 - val_rmse: 11.8146 - val_mse: 139.5842 - val_mae: 9.3150\n",
      "Epoch 4/200\n",
      "54/54 [==============================] - 14s 257ms/step - loss: 9.4885 - rmse: 11.9709 - mse: 143.3017 - mae: 9.4885 - val_loss: 9.3129 - val_rmse: 11.8161 - val_mse: 139.6196 - val_mae: 9.3129\n",
      "Epoch 5/200\n",
      "54/54 [==============================] - 14s 260ms/step - loss: 9.4385 - rmse: 11.9086 - mse: 141.8153 - mae: 9.4385 - val_loss: 9.3006 - val_rmse: 11.7709 - val_mse: 138.5546 - val_mae: 9.3006\n",
      "Epoch 6/200\n",
      "54/54 [==============================] - 14s 257ms/step - loss: 9.4005 - rmse: 11.8776 - mse: 141.0770 - mae: 9.4005 - val_loss: 9.3604 - val_rmse: 11.8556 - val_mse: 140.5557 - val_mae: 9.3604\n",
      "Epoch 7/200\n",
      "54/54 [==============================] - 14s 256ms/step - loss: 9.3734 - rmse: 11.8494 - mse: 140.4083 - mae: 9.3734 - val_loss: 9.3615 - val_rmse: 11.8699 - val_mse: 140.8956 - val_mae: 9.3615\n",
      "Epoch 8/200\n",
      "54/54 [==============================] - 14s 258ms/step - loss: 9.3352 - rmse: 11.8023 - mse: 139.2953 - mae: 9.3352 - val_loss: 9.3631 - val_rmse: 11.8700 - val_mse: 140.8974 - val_mae: 9.3631\n",
      "Epoch 9/200\n",
      "54/54 [==============================] - 14s 261ms/step - loss: 9.3091 - rmse: 11.7748 - mse: 138.6453 - mae: 9.3091 - val_loss: 9.2760 - val_rmse: 11.7516 - val_mse: 138.0997 - val_mae: 9.2760\n",
      "Epoch 10/200\n",
      "54/54 [==============================] - 14s 259ms/step - loss: 9.2893 - rmse: 11.7444 - mse: 137.9302 - mae: 9.2893 - val_loss: 9.2928 - val_rmse: 11.7755 - val_mse: 138.6624 - val_mae: 9.2928\n",
      "Epoch 11/200\n",
      "54/54 [==============================] - 14s 256ms/step - loss: 9.2615 - rmse: 11.7213 - mse: 137.3878 - mae: 9.2615 - val_loss: 9.3324 - val_rmse: 11.7896 - val_mse: 138.9939 - val_mae: 9.3324\n",
      "Epoch 12/200\n",
      "54/54 [==============================] - 14s 257ms/step - loss: 9.2442 - rmse: 11.6944 - mse: 136.7579 - mae: 9.2442 - val_loss: 9.3852 - val_rmse: 11.8596 - val_mse: 140.6489 - val_mae: 9.3852\n",
      "Epoch 13/200\n",
      "54/54 [==============================] - 14s 259ms/step - loss: 9.2180 - rmse: 11.6693 - mse: 136.1734 - mae: 9.2180 - val_loss: 9.2917 - val_rmse: 11.7826 - val_mse: 138.8299 - val_mae: 9.2917\n",
      "Epoch 14/200\n",
      "54/54 [==============================] - 14s 264ms/step - loss: 9.1871 - rmse: 11.6426 - mse: 135.5510 - mae: 9.1871 - val_loss: 9.2935 - val_rmse: 11.7750 - val_mse: 138.6509 - val_mae: 9.2935\n",
      "Epoch 15/200\n",
      "54/54 [==============================] - 14s 261ms/step - loss: 9.1651 - rmse: 11.6111 - mse: 134.8172 - mae: 9.1651 - val_loss: 9.2485 - val_rmse: 11.7000 - val_mse: 136.8900 - val_mae: 9.2485\n",
      "Epoch 16/200\n",
      "54/54 [==============================] - 14s 256ms/step - loss: 9.1546 - rmse: 11.5950 - mse: 134.4444 - mae: 9.1546 - val_loss: 9.2628 - val_rmse: 11.7309 - val_mse: 137.6150 - val_mae: 9.2628\n",
      "Epoch 17/200\n",
      "54/54 [==============================] - 15s 269ms/step - loss: 9.1436 - rmse: 11.5845 - mse: 134.1998 - mae: 9.1436 - val_loss: 9.2394 - val_rmse: 11.6997 - val_mse: 136.8840 - val_mae: 9.2394\n",
      "Epoch 18/200\n",
      "54/54 [==============================] - 14s 265ms/step - loss: 9.1166 - rmse: 11.5584 - mse: 133.5955 - mae: 9.1166 - val_loss: 9.2469 - val_rmse: 11.7207 - val_mse: 137.3751 - val_mae: 9.2469\n",
      "Epoch 19/200\n",
      "54/54 [==============================] - 15s 275ms/step - loss: 9.1048 - rmse: 11.5416 - mse: 133.2088 - mae: 9.1048 - val_loss: 9.2263 - val_rmse: 11.6517 - val_mse: 135.7612 - val_mae: 9.2263\n",
      "Epoch 20/200\n",
      "54/54 [==============================] - 14s 268ms/step - loss: 9.0868 - rmse: 11.5322 - mse: 132.9911 - mae: 9.0868 - val_loss: 9.2114 - val_rmse: 11.6520 - val_mse: 135.7683 - val_mae: 9.2114\n",
      "Epoch 21/200\n",
      "54/54 [==============================] - 14s 260ms/step - loss: 9.0608 - rmse: 11.4892 - mse: 132.0022 - mae: 9.0608 - val_loss: 9.2182 - val_rmse: 11.6759 - val_mse: 136.3258 - val_mae: 9.2182\n",
      "Epoch 22/200\n",
      "54/54 [==============================] - 15s 276ms/step - loss: 9.0503 - rmse: 11.4765 - mse: 131.7091 - mae: 9.0503 - val_loss: 9.2182 - val_rmse: 11.7028 - val_mse: 136.9553 - val_mae: 9.2182\n",
      "Epoch 23/200\n",
      "54/54 [==============================] - 15s 277ms/step - loss: 9.0331 - rmse: 11.4743 - mse: 131.6606 - mae: 9.0331 - val_loss: 9.1956 - val_rmse: 11.6331 - val_mse: 135.3290 - val_mae: 9.1956\n",
      "Epoch 24/200\n",
      "54/54 [==============================] - 15s 269ms/step - loss: 9.0244 - rmse: 11.4497 - mse: 131.0961 - mae: 9.0244 - val_loss: 9.1637 - val_rmse: 11.6200 - val_mse: 135.0237 - val_mae: 9.1637\n",
      "Epoch 25/200\n",
      "54/54 [==============================] - 15s 269ms/step - loss: 9.0076 - rmse: 11.4492 - mse: 131.0836 - mae: 9.0076 - val_loss: 9.2238 - val_rmse: 11.6608 - val_mse: 135.9733 - val_mae: 9.2238\n",
      "Epoch 26/200\n",
      "54/54 [==============================] - 16s 290ms/step - loss: 9.0089 - rmse: 11.4466 - mse: 131.0244 - mae: 9.0089 - val_loss: 9.1311 - val_rmse: 11.5566 - val_mse: 133.5539 - val_mae: 9.1311\n",
      "Epoch 27/200\n",
      "54/54 [==============================] - 16s 289ms/step - loss: 8.9854 - rmse: 11.4174 - mse: 130.3560 - mae: 8.9854 - val_loss: 9.1574 - val_rmse: 11.6119 - val_mse: 134.8356 - val_mae: 9.1574\n",
      "Epoch 28/200\n",
      "54/54 [==============================] - 15s 275ms/step - loss: 8.9604 - rmse: 11.3911 - mse: 129.7577 - mae: 8.9604 - val_loss: 9.1228 - val_rmse: 11.5503 - val_mse: 133.4088 - val_mae: 9.1228\n",
      "Epoch 29/200\n",
      "54/54 [==============================] - 15s 273ms/step - loss: 8.9677 - rmse: 11.3887 - mse: 129.7017 - mae: 8.9677 - val_loss: 9.1444 - val_rmse: 11.5567 - val_mse: 133.5579 - val_mae: 9.1444\n",
      "Epoch 30/200\n",
      "54/54 [==============================] - 15s 280ms/step - loss: 8.9491 - rmse: 11.3855 - mse: 129.6286 - mae: 8.9491 - val_loss: 9.1329 - val_rmse: 11.5697 - val_mse: 133.8576 - val_mae: 9.1329\n",
      "Epoch 31/200\n",
      "54/54 [==============================] - 15s 270ms/step - loss: 8.9377 - rmse: 11.3585 - mse: 129.0158 - mae: 8.9377 - val_loss: 9.0983 - val_rmse: 11.5251 - val_mse: 132.8282 - val_mae: 9.0983\n",
      "Epoch 32/200\n",
      "54/54 [==============================] - 15s 271ms/step - loss: 8.9183 - rmse: 11.3449 - mse: 128.7072 - mae: 8.9183 - val_loss: 9.1500 - val_rmse: 11.6214 - val_mse: 135.0566 - val_mae: 9.1500\n",
      "Epoch 33/200\n",
      "54/54 [==============================] - 15s 269ms/step - loss: 8.9184 - rmse: 11.3441 - mse: 128.6894 - mae: 8.9184 - val_loss: 9.0707 - val_rmse: 11.5096 - val_mse: 132.4711 - val_mae: 9.0707\n",
      "Epoch 34/200\n",
      "54/54 [==============================] - 15s 270ms/step - loss: 8.8958 - rmse: 11.3161 - mse: 128.0540 - mae: 8.8958 - val_loss: 9.0694 - val_rmse: 11.5034 - val_mse: 132.3283 - val_mae: 9.0694\n",
      "Epoch 35/200\n",
      "54/54 [==============================] - 15s 276ms/step - loss: 8.8709 - rmse: 11.2922 - mse: 127.5141 - mae: 8.8709 - val_loss: 9.0957 - val_rmse: 11.5059 - val_mse: 132.3849 - val_mae: 9.0957\n",
      "Epoch 36/200\n",
      "54/54 [==============================] - 15s 271ms/step - loss: 8.8687 - rmse: 11.2957 - mse: 127.5936 - mae: 8.8687 - val_loss: 9.1077 - val_rmse: 11.5244 - val_mse: 132.8122 - val_mae: 9.1077\n",
      "Epoch 37/200\n",
      "54/54 [==============================] - 14s 260ms/step - loss: 8.8672 - rmse: 11.2888 - mse: 127.4381 - mae: 8.8672 - val_loss: 9.0651 - val_rmse: 11.4955 - val_mse: 132.1459 - val_mae: 9.0651\n",
      "Epoch 38/200\n",
      "54/54 [==============================] - 14s 268ms/step - loss: 8.8457 - rmse: 11.2753 - mse: 127.1320 - mae: 8.8457 - val_loss: 9.0447 - val_rmse: 11.4535 - val_mse: 131.1817 - val_mae: 9.0447: 8.8477 - rmse: 11.2632 - \n",
      "Epoch 39/200\n",
      "54/54 [==============================] - 14s 265ms/step - loss: 8.8527 - rmse: 11.2715 - mse: 127.0478 - mae: 8.8527 - val_loss: 9.1007 - val_rmse: 11.5352 - val_mse: 133.0611 - val_mae: 9.1007\n",
      "Epoch 40/200\n",
      "54/54 [==============================] - 14s 268ms/step - loss: 8.8316 - rmse: 11.2613 - mse: 126.8171 - mae: 8.8316 - val_loss: 9.0666 - val_rmse: 11.4597 - val_mse: 131.3240 - val_mae: 9.0666\n",
      "Epoch 41/200\n",
      "54/54 [==============================] - 14s 258ms/step - loss: 8.8252 - rmse: 11.2523 - mse: 126.6137 - mae: 8.8252 - val_loss: 9.0713 - val_rmse: 11.4997 - val_mse: 132.2440 - val_mae: 9.0713\n",
      "Epoch 42/200\n",
      "54/54 [==============================] - 14s 257ms/step - loss: 8.8054 - rmse: 11.2317 - mse: 126.1505 - mae: 8.8054 - val_loss: 9.0855 - val_rmse: 11.4868 - val_mse: 131.9468 - val_mae: 9.0855\n",
      "Epoch 43/200\n",
      "54/54 [==============================] - 14s 257ms/step - loss: 8.7959 - rmse: 11.2171 - mse: 125.8235 - mae: 8.7959 - val_loss: 9.0575 - val_rmse: 11.4997 - val_mse: 132.2427 - val_mae: 9.0575\n",
      "Epoch 44/200\n",
      "54/54 [==============================] - 14s 257ms/step - loss: 8.7965 - rmse: 11.2247 - mse: 125.9940 - mae: 8.7965 - val_loss: 9.0093 - val_rmse: 11.4167 - val_mse: 130.3415 - val_mae: 9.0093\n",
      "Epoch 45/200\n",
      "54/54 [==============================] - 14s 260ms/step - loss: 8.7795 - rmse: 11.2032 - mse: 125.5125 - mae: 8.7795 - val_loss: 9.0784 - val_rmse: 11.5062 - val_mse: 132.3937 - val_mae: 9.07840 - rmse: 11.1802 - mse: 124.9979\n",
      "Epoch 46/200\n",
      "54/54 [==============================] - 14s 263ms/step - loss: 8.7747 - rmse: 11.2025 - mse: 125.4953 - mae: 8.7747 - val_loss: 9.0442 - val_rmse: 11.4694 - val_mse: 131.5477 - val_mae: 9.0442\n",
      "Epoch 47/200\n",
      "54/54 [==============================] - 14s 260ms/step - loss: 8.7818 - rmse: 11.2063 - mse: 125.5822 - mae: 8.7818 - val_loss: 9.0607 - val_rmse: 11.4804 - val_mse: 131.7990 - val_mae: 9.0607\n",
      "Epoch 48/200\n",
      "54/54 [==============================] - 14s 252ms/step - loss: 8.7605 - rmse: 11.1823 - mse: 125.0443 - mae: 8.7605 - val_loss: 8.9852 - val_rmse: 11.3915 - val_mse: 129.7657 - val_mae: 8.9852mse: 11.2343 - mse: 1\n",
      "Epoch 49/200\n",
      "54/54 [==============================] - 14s 256ms/step - loss: 8.7586 - rmse: 11.1831 - mse: 125.0622 - mae: 8.7586 - val_loss: 9.0148 - val_rmse: 11.4176 - val_mse: 130.3607 - val_mae: 9.0148\n",
      "Epoch 50/200\n",
      "54/54 [==============================] - 14s 262ms/step - loss: 8.7530 - rmse: 11.1746 - mse: 124.8723 - mae: 8.7530 - val_loss: 9.0500 - val_rmse: 11.4673 - val_mse: 131.4991 - val_mae: 9.0500\n",
      "Epoch 51/200\n",
      "54/54 [==============================] - 15s 270ms/step - loss: 8.7372 - rmse: 11.1651 - mse: 124.6595 - mae: 8.7372 - val_loss: 8.9998 - val_rmse: 11.4163 - val_mse: 130.3317 - val_mae: 8.9998\n",
      "Epoch 52/200\n",
      "54/54 [==============================] - 14s 258ms/step - loss: 8.7223 - rmse: 11.1439 - mse: 124.1871 - mae: 8.7223 - val_loss: 8.9820 - val_rmse: 11.3974 - val_mse: 129.9005 - val_mae: 8.9820\n",
      "Epoch 53/200\n",
      "54/54 [==============================] - 14s 261ms/step - loss: 8.7276 - rmse: 11.1485 - mse: 124.2900 - mae: 8.7276 - val_loss: 8.9771 - val_rmse: 11.3853 - val_mse: 129.6253 - val_mae: 8.9771\n",
      "Epoch 54/200\n",
      "54/54 [==============================] - 14s 260ms/step - loss: 8.7030 - rmse: 11.1256 - mse: 123.7786 - mae: 8.7030 - val_loss: 9.0429 - val_rmse: 11.4444 - val_mse: 130.9732 - val_mae: 9.0429\n",
      "Epoch 55/200\n",
      "54/54 [==============================] - 14s 267ms/step - loss: 8.7006 - rmse: 11.1249 - mse: 123.7623 - mae: 8.7006 - val_loss: 9.0253 - val_rmse: 11.4266 - val_mse: 130.5661 - val_mae: 9.0253\n",
      "Epoch 56/200\n",
      "54/54 [==============================] - 14s 257ms/step - loss: 8.7033 - rmse: 11.1159 - mse: 123.5634 - mae: 8.7033 - val_loss: 9.0285 - val_rmse: 11.4402 - val_mse: 130.8789 - val_mae: 9.0285\n",
      "Epoch 57/200\n",
      "54/54 [==============================] - 14s 256ms/step - loss: 8.6899 - rmse: 11.1078 - mse: 123.3830 - mae: 8.6899 - val_loss: 9.0111 - val_rmse: 11.4560 - val_mse: 131.2403 - val_mae: 9.0111\n",
      "Epoch 58/200\n",
      "54/54 [==============================] - 14s 264ms/step - loss: 8.6721 - rmse: 11.0958 - mse: 123.1176 - mae: 8.6721 - val_loss: 8.9909 - val_rmse: 11.3737 - val_mse: 129.3622 - val_mae: 8.9909\n",
      "Epoch 59/200\n",
      "54/54 [==============================] - 14s 258ms/step - loss: 8.6766 - rmse: 11.0961 - mse: 123.1242 - mae: 8.6766 - val_loss: 9.0268 - val_rmse: 11.4297 - val_mse: 130.6381 - val_mae: 9.0268\n",
      "Epoch 60/200\n",
      "54/54 [==============================] - 14s 257ms/step - loss: 8.6802 - rmse: 11.1042 - mse: 123.3040 - mae: 8.6802 - val_loss: 8.9987 - val_rmse: 11.4142 - val_mse: 130.2841 - val_mae: 8.9987: 11.1194 - m\n",
      "Epoch 61/200\n",
      "54/54 [==============================] - 14s 257ms/step - loss: 8.6668 - rmse: 11.0881 - mse: 122.9463 - mae: 8.6668 - val_loss: 8.9325 - val_rmse: 11.3581 - val_mse: 129.0066 - val_mae: 8.9325\n",
      "Epoch 62/200\n",
      "54/54 [==============================] - 15s 269ms/step - loss: 8.6567 - rmse: 11.0808 - mse: 122.7834 - mae: 8.6567 - val_loss: 8.9456 - val_rmse: 11.3390 - val_mse: 128.5725 - val_mae: 8.9456\n",
      "Epoch 63/200\n",
      "54/54 [==============================] - 15s 271ms/step - loss: 8.6492 - rmse: 11.0724 - mse: 122.5974 - mae: 8.6492 - val_loss: 8.9856 - val_rmse: 11.4249 - val_mse: 130.5285 - val_mae: 8.9856\n",
      "Epoch 64/200\n",
      "54/54 [==============================] - 14s 261ms/step - loss: 8.6400 - rmse: 11.0611 - mse: 122.3473 - mae: 8.6400 - val_loss: 8.9368 - val_rmse: 11.3258 - val_mse: 128.2731 - val_mae: 8.9368\n",
      "Epoch 65/200\n",
      "54/54 [==============================] - 14s 266ms/step - loss: 8.6238 - rmse: 11.0430 - mse: 121.9473 - mae: 8.6238 - val_loss: 8.9949 - val_rmse: 11.4328 - val_mse: 130.7085 - val_mae: 8.9949\n",
      "Epoch 66/200\n",
      "54/54 [==============================] - 14s 258ms/step - loss: 8.6273 - rmse: 11.0479 - mse: 122.0551 - mae: 8.6273 - val_loss: 8.9442 - val_rmse: 11.3449 - val_mse: 128.7069 - val_mae: 8.9442\n",
      "Epoch 67/200\n",
      "54/54 [==============================] - 15s 271ms/step - loss: 8.6266 - rmse: 11.0504 - mse: 122.1112 - mae: 8.6266 - val_loss: 8.9099 - val_rmse: 11.3142 - val_mse: 128.0108 - val_mae: 8.9099\n",
      "Epoch 68/200\n",
      "54/54 [==============================] - 14s 262ms/step - loss: 8.6179 - rmse: 11.0422 - mse: 121.9301 - mae: 8.6179 - val_loss: 8.9444 - val_rmse: 11.3239 - val_mse: 128.2311 - val_mae: 8.9444\n",
      "Epoch 69/200\n",
      "54/54 [==============================] - 14s 267ms/step - loss: 8.6132 - rmse: 11.0382 - mse: 121.8426 - mae: 8.6132 - val_loss: 8.9815 - val_rmse: 11.4007 - val_mse: 129.9753 - val_mae: 8.9815\n",
      "Epoch 70/200\n",
      "54/54 [==============================] - 14s 256ms/step - loss: 8.5981 - rmse: 11.0227 - mse: 121.4994 - mae: 8.5981 - val_loss: 8.9558 - val_rmse: 11.3274 - val_mse: 128.3090 - val_mae: 8.9558\n",
      "Epoch 71/200\n",
      "54/54 [==============================] - 14s 259ms/step - loss: 8.6022 - rmse: 11.0283 - mse: 121.6228 - mae: 8.6022 - val_loss: 8.9528 - val_rmse: 11.3521 - val_mse: 128.8698 - val_mae: 8.9528\n",
      "Epoch 72/200\n",
      "54/54 [==============================] - 14s 260ms/step - loss: 8.5757 - rmse: 10.9993 - mse: 120.9838 - mae: 8.5757 - val_loss: 8.9507 - val_rmse: 11.3848 - val_mse: 129.6134 - val_mae: 8.9507\n",
      "Epoch 73/200\n",
      "54/54 [==============================] - 14s 267ms/step - loss: 8.5645 - rmse: 10.9850 - mse: 120.6697 - mae: 8.5645 - val_loss: 8.9728 - val_rmse: 11.4020 - val_mse: 130.0060 - val_mae: 8.9728\n",
      "Epoch 74/200\n",
      "54/54 [==============================] - 14s 259ms/step - loss: 8.5789 - rmse: 10.9993 - mse: 120.9853 - mae: 8.5789 - val_loss: 8.9571 - val_rmse: 11.3685 - val_mse: 129.2424 - val_mae: 8.9571\n",
      "Epoch 75/200\n",
      "54/54 [==============================] - 14s 258ms/step - loss: 8.5698 - rmse: 11.0034 - mse: 121.0756 - mae: 8.5698 - val_loss: 8.9105 - val_rmse: 11.3003 - val_mse: 127.6975 - val_mae: 8.9105\n",
      "Epoch 76/200\n",
      "54/54 [==============================] - 14s 268ms/step - loss: 8.5623 - rmse: 10.9867 - mse: 120.7066 - mae: 8.5623 - val_loss: 8.9590 - val_rmse: 11.3485 - val_mse: 128.7895 - val_mae: 8.9590\n",
      "Epoch 77/200\n",
      "54/54 [==============================] - ETA: 0s - loss: 8.5549 - rmse: 10.9818 - mse: 120.6003 - mae: 8.5549- ETA: 5s - loss: 8.5306 - rmse: 11.0150 - mRestoring model weights from the end of the best epoch.\n",
      "54/54 [==============================] - 14s 260ms/step - loss: 8.5549 - rmse: 10.9818 - mse: 120.6003 - mae: 8.5549 - val_loss: 8.9235 - val_rmse: 11.2981 - val_mse: 127.6466 - val_mae: 8.9235\n",
      "Epoch 00077: early stopping\n"
     ]
    }
   ],
   "source": [
    "with tf.device('/GPU:0'):\n",
    "    hist = model.fit(ds_train,\n",
    "                     validation_data=ds_val,\n",
    "                     callbacks=callbacks,\n",
    "                     epochs=200,\n",
    "                     verbose=1)"
   ]
  },
  {
   "cell_type": "code",
   "execution_count": 39,
   "metadata": {},
   "outputs": [
    {
     "name": "stdout",
     "output_type": "stream",
     "text": [
      "16/16 [==============================] - 3s 197ms/step - loss: 8.8845 - rmse: 11.2428 - mse: 126.4005 - mae: 8.8845 0s - loss: 8.8692 - rmse: 11.2089 - mse: 125.6403 - mae: 8.86\n"
     ]
    }
   ],
   "source": [
    "with tf.device('/GPU:0'):\n",
    "    results = model.evaluate(ds_test, verbose=1)"
   ]
  },
  {
   "cell_type": "code",
   "execution_count": 40,
   "metadata": {},
   "outputs": [
    {
     "data": {
      "text/plain": [
       "Text(0.5, 1.0, 'Metric')"
      ]
     },
     "execution_count": 40,
     "metadata": {},
     "output_type": "execute_result"
    },
    {
     "data": {
      "image/png": "[encoded data removed]",
      "text/plain": [
       "<Figure size 1152x1152 with 4 Axes>"
      ]
     },
     "metadata": {
      "needs_background": "light"
     },
     "output_type": "display_data"
    }
   ],
   "source": [
    "    fig = plt.figure()\n",
    "    fig.set_size_inches(16,16)\n",
    "\n",
    "    ax=fig.add_subplot(3,2,1)\n",
    "    ax.plot(hist.history['rmse'])\n",
    "    ax.plot(hist.history['mse'])\n",
    "    ax.legend(['Metric', 'Loss'])\n",
    "    ax.set_title('Train')\n",
    "\n",
    "    ax=fig.add_subplot(3,2,2)\n",
    "    ax.plot(hist.history['val_rmse'])\n",
    "    ax.plot(hist.history['val_mse'])\n",
    "    ax.legend(['Metric', 'Loss'])\n",
    "    ax.set_title('Test')\n",
    "\n",
    "    ax=fig.add_subplot(3,2,3)\n",
    "    ax.plot(hist.history['loss'])\n",
    "    ax.plot(hist.history['val_loss'])\n",
    "    ax.legend(['Train', 'Test'])\n",
    "    ax.set_title('Loss')\n",
    "\n",
    "    ax=fig.add_subplot(3,2,4)\n",
    "    ax.plot(hist.history['mse'])\n",
    "    ax.plot(hist.history['val_mse'])\n",
    "    ax.legend(['Train', 'Test'])\n",
    "    ax.set_title('Metric')"
   ]
  },
  {
   "cell_type": "code",
   "execution_count": 41,
   "metadata": {},
   "outputs": [],
   "source": [
    "X1_test = pd.read_csv('00_Data/fnc.csv')\n",
    "X1_test = X1_test[X1_test['Id'].isin(TEST_IDS)]\n",
    "X1_test = X1_test.to_numpy()\n",
    "X1_test = X1_test[:,1:]"
   ]
  },
  {
   "cell_type": "code",
   "execution_count": 42,
   "metadata": {},
   "outputs": [],
   "source": [
    "X2_test = pd.read_csv('00_Data/loading.csv')\n",
    "X2_test = X2_test[X2_test['Id'].isin(TEST_IDS)]\n",
    "X2_test = X2_test.to_numpy()\n",
    "X2_test = X2_test[:,1:]"
   ]
  },
  {
   "cell_type": "code",
   "execution_count": 43,
   "metadata": {},
   "outputs": [],
   "source": [
    "y_preds = model.predict([X1_test, X2_test])"
   ]
  },
  {
   "cell_type": "code",
   "execution_count": 44,
   "metadata": {},
   "outputs": [],
   "source": [
    "y_preds = y_preds.flatten()"
   ]
  },
  {
   "cell_type": "code",
   "execution_count": 45,
   "metadata": {},
   "outputs": [],
   "source": [
    "df_submission = []\n",
    "i = 0\n",
    "for idx in TEST_IDS:\n",
    "    df_submission.append(['{0}_age'.format(idx), y_preds[i]])\n",
    "    df_submission.append(['{0}_domain1_var1'.format(idx), y_preds[i+1]])\n",
    "    df_submission.append(['{0}_domain1_var2'.format(idx), y_preds[i+2]])\n",
    "    df_submission.append(['{0}_domain2_var1'.format(idx), y_preds[i+3]])\n",
    "    df_submission.append(['{0}_domain2_var2'.format(idx), y_preds[i+4]])\n",
    "    i += 5\n",
    "\n",
    "df_submission = pd.DataFrame(df_submission, columns=['Id', 'Predicted'])"
   ]
  },
  {
   "cell_type": "code",
   "execution_count": 46,
   "metadata": {},
   "outputs": [],
   "source": [
    "df_submission.to_csv('submission_fnc-load_mae_05.csv', index=False)"
   ]
  },
  {
   "cell_type": "code",
   "execution_count": 7,
   "metadata": {},
   "outputs": [
    {
     "data": {
      "text/html": [
       "<div>\n",
       "<style scoped>\n",
       "    .dataframe tbody tr th:only-of-type {\n",
       "        vertical-align: middle;\n",
       "    }\n",
       "\n",
       "    .dataframe tbody tr th {\n",
       "        vertical-align: top;\n",
       "    }\n",
       "\n",
       "    .dataframe thead th {\n",
       "        text-align: right;\n",
       "    }\n",
       "</style>\n",
       "<table border=\"1\" class=\"dataframe\">\n",
       "  <thead>\n",
       "    <tr style=\"text-align: right;\">\n",
       "      <th></th>\n",
       "      <th>Id</th>\n",
       "      <th>age</th>\n",
       "      <th>domain1_var1</th>\n",
       "      <th>domain1_var2</th>\n",
       "      <th>domain2_var1</th>\n",
       "      <th>domain2_var2</th>\n",
       "    </tr>\n",
       "  </thead>\n",
       "  <tbody>\n",
       "    <tr>\n",
       "      <th>0</th>\n",
       "      <td>10001</td>\n",
       "      <td>57.436077</td>\n",
       "      <td>30.571975</td>\n",
       "      <td>62.553736</td>\n",
       "      <td>53.325130</td>\n",
       "      <td>51.427998</td>\n",
       "    </tr>\n",
       "    <tr>\n",
       "      <th>1</th>\n",
       "      <td>10002</td>\n",
       "      <td>59.580851</td>\n",
       "      <td>50.969456</td>\n",
       "      <td>67.470628</td>\n",
       "      <td>60.651856</td>\n",
       "      <td>58.311361</td>\n",
       "    </tr>\n",
       "    <tr>\n",
       "      <th>2</th>\n",
       "      <td>10004</td>\n",
       "      <td>71.413018</td>\n",
       "      <td>53.152498</td>\n",
       "      <td>58.012103</td>\n",
       "      <td>52.418389</td>\n",
       "      <td>62.536641</td>\n",
       "    </tr>\n",
       "    <tr>\n",
       "      <th>3</th>\n",
       "      <td>10005</td>\n",
       "      <td>66.532630</td>\n",
       "      <td>NaN</td>\n",
       "      <td>NaN</td>\n",
       "      <td>52.108977</td>\n",
       "      <td>69.993075</td>\n",
       "    </tr>\n",
       "    <tr>\n",
       "      <th>4</th>\n",
       "      <td>10007</td>\n",
       "      <td>38.617381</td>\n",
       "      <td>49.197021</td>\n",
       "      <td>65.674285</td>\n",
       "      <td>40.151376</td>\n",
       "      <td>34.096421</td>\n",
       "    </tr>\n",
       "    <tr>\n",
       "      <th>...</th>\n",
       "      <td>...</td>\n",
       "      <td>...</td>\n",
       "      <td>...</td>\n",
       "      <td>...</td>\n",
       "      <td>...</td>\n",
       "      <td>...</td>\n",
       "    </tr>\n",
       "    <tr>\n",
       "      <th>5872</th>\n",
       "      <td>21746</td>\n",
       "      <td>14.257265</td>\n",
       "      <td>21.358872</td>\n",
       "      <td>61.165998</td>\n",
       "      <td>51.778483</td>\n",
       "      <td>54.640179</td>\n",
       "    </tr>\n",
       "    <tr>\n",
       "      <th>5873</th>\n",
       "      <td>21747</td>\n",
       "      <td>55.456978</td>\n",
       "      <td>68.169675</td>\n",
       "      <td>29.907995</td>\n",
       "      <td>55.349257</td>\n",
       "      <td>54.019517</td>\n",
       "    </tr>\n",
       "    <tr>\n",
       "      <th>5874</th>\n",
       "      <td>21750</td>\n",
       "      <td>48.948756</td>\n",
       "      <td>55.114811</td>\n",
       "      <td>60.878271</td>\n",
       "      <td>38.617246</td>\n",
       "      <td>50.679885</td>\n",
       "    </tr>\n",
       "    <tr>\n",
       "      <th>5875</th>\n",
       "      <td>21752</td>\n",
       "      <td>66.532630</td>\n",
       "      <td>59.844808</td>\n",
       "      <td>72.303110</td>\n",
       "      <td>55.458281</td>\n",
       "      <td>46.870235</td>\n",
       "    </tr>\n",
       "    <tr>\n",
       "      <th>5876</th>\n",
       "      <td>21754</td>\n",
       "      <td>68.820928</td>\n",
       "      <td>56.594193</td>\n",
       "      <td>34.605868</td>\n",
       "      <td>49.922535</td>\n",
       "      <td>50.383078</td>\n",
       "    </tr>\n",
       "  </tbody>\n",
       "</table>\n",
       "<p>5877 rows × 6 columns</p>\n",
       "</div>"
      ],
      "text/plain": [
       "         Id        age  domain1_var1  domain1_var2  domain2_var1  domain2_var2\n",
       "0     10001  57.436077     30.571975     62.553736     53.325130     51.427998\n",
       "1     10002  59.580851     50.969456     67.470628     60.651856     58.311361\n",
       "2     10004  71.413018     53.152498     58.012103     52.418389     62.536641\n",
       "3     10005  66.532630           NaN           NaN     52.108977     69.993075\n",
       "4     10007  38.617381     49.197021     65.674285     40.151376     34.096421\n",
       "...     ...        ...           ...           ...           ...           ...\n",
       "5872  21746  14.257265     21.358872     61.165998     51.778483     54.640179\n",
       "5873  21747  55.456978     68.169675     29.907995     55.349257     54.019517\n",
       "5874  21750  48.948756     55.114811     60.878271     38.617246     50.679885\n",
       "5875  21752  66.532630     59.844808     72.303110     55.458281     46.870235\n",
       "5876  21754  68.820928     56.594193     34.605868     49.922535     50.383078\n",
       "\n",
       "[5877 rows x 6 columns]"
      ]
     },
     "execution_count": 7,
     "metadata": {},
     "output_type": "execute_result"
    }
   ],
   "source": [
    "data = pd.read_csv('00_Data/train_scores.csv')\n",
    "data"
   ]
  },
  {
   "cell_type": "code",
   "execution_count": 28,
   "metadata": {},
   "outputs": [],
   "source": [
    "data_nulls = data[data.isnull().any(axis=1)]\n",
    "NULL_IDS = list(data_nulls['Id'].values)"
   ]
  },
  {
   "cell_type": "code",
   "execution_count": null,
   "metadata": {},
   "outputs": [],
   "source": []
  }
 ],
 "metadata": {
  "kernelspec": {
   "display_name": "Python 3",
   "language": "python",
   "name": "python3"
  },
  "language_info": {
   "codemirror_mode": {
    "name": "ipython",
    "version": 3
   },
   "file_extension": ".py",
   "mimetype": "text/x-python",
   "name": "python",
   "nbconvert_exporter": "python",
   "pygments_lexer": "ipython3",
   "version": "3.8.1"
  }
 },
 "nbformat": 4,
 "nbformat_minor": 4
}
