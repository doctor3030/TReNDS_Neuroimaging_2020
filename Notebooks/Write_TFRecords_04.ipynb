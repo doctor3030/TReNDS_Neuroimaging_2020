{
 "cells": [
  {
   "cell_type": "code",
   "execution_count": 1,
   "metadata": {
    "scrolled": true
   },
   "outputs": [],
   "source": [
    "%config IPCompleter.greedy=True\n",
    "from IPython.display import IFrame\n",
    "\n",
    "import pandas as pd\n",
    "import numpy as np\n",
    "# import string\n",
    "import math\n",
    "\n",
    "# import scipy.stats as sts\n",
    "\n",
    "import matplotlib.pyplot as plt\n",
    "import matplotlib.gridspec as gridspec\n",
    "import seaborn as sns\n",
    "\n",
    "from sklearn import preprocessing as prep\n",
    "# import sklearn.metrics as metrics\n",
    "import sklearn.model_selection as model_selection\n",
    "# from sklearn import discriminant_analysis as disan\n",
    "# from sklearn import calibration as calib\n",
    "# from sklearn import linear_model as lm\n",
    "# from sklearn import svm\n",
    "# from sklearn import gaussian_process as gaup\n",
    "# from sklearn import mixture as mix\n",
    "# from sklearn import tree\n",
    "# from sklearn import ensemble as ens\n",
    "\n",
    "import tensorflow as tf\n",
    "from tensorflow import keras\n",
    "\n",
    "# from keras import models as kermdls\n",
    "# from keras import layers as kerlrs\n",
    "# from keras import metrics as kmetrics\n",
    "\n",
    "# from hyperas import optim\n",
    "# from hyperas.distributions import choice, uniform\n",
    "# from hyperopt import Trials, STATUS_OK, tpe\n",
    "\n",
    "# import pickle\n",
    "\n",
    "# import nilearn as nl\n",
    "# from nilearn import plotting, image\n",
    "# from nilearn import datasets\n",
    "# import nibabel as nb\n",
    "import h5py\n",
    "\n",
    "import os\n",
    "\n",
    "import time\n",
    "import progressbar\n",
    "from progress.bar import IncrementalBar\n",
    "from tqdm import tqdm\n",
    "\n",
    "from os import environ\n",
    "from os import listdir\n",
    "from os.path import isfile, join\n",
    "from google.cloud import storage\n",
    "# import gsutil"
   ]
  },
  {
   "cell_type": "code",
   "execution_count": 2,
   "metadata": {},
   "outputs": [],
   "source": [
    "TEST_IDS = [map_id.split('.')[0] for map_id in sorted(os.listdir('00_Data/fMRI_test'))]\n",
    "TRAIN_IDS = [map_id.split('.')[0] for map_id in sorted(os.listdir('00_Data/fMRI_train'))]"
   ]
  },
  {
   "cell_type": "code",
   "execution_count": 3,
   "metadata": {},
   "outputs": [
    {
     "data": {
      "text/html": [
       "<div>\n",
       "<style scoped>\n",
       "    .dataframe tbody tr th:only-of-type {\n",
       "        vertical-align: middle;\n",
       "    }\n",
       "\n",
       "    .dataframe tbody tr th {\n",
       "        vertical-align: top;\n",
       "    }\n",
       "\n",
       "    .dataframe thead th {\n",
       "        text-align: right;\n",
       "    }\n",
       "</style>\n",
       "<table border=\"1\" class=\"dataframe\">\n",
       "  <thead>\n",
       "    <tr style=\"text-align: right;\">\n",
       "      <th></th>\n",
       "      <th>Id</th>\n",
       "      <th>age</th>\n",
       "      <th>domain1_var1</th>\n",
       "      <th>domain1_var2</th>\n",
       "      <th>domain2_var1</th>\n",
       "      <th>domain2_var2</th>\n",
       "    </tr>\n",
       "  </thead>\n",
       "  <tbody>\n",
       "    <tr>\n",
       "      <th>0</th>\n",
       "      <td>10001</td>\n",
       "      <td>57.436077</td>\n",
       "      <td>30.571975</td>\n",
       "      <td>62.553736</td>\n",
       "      <td>53.325130</td>\n",
       "      <td>51.427998</td>\n",
       "    </tr>\n",
       "    <tr>\n",
       "      <th>1</th>\n",
       "      <td>10002</td>\n",
       "      <td>59.580851</td>\n",
       "      <td>50.969456</td>\n",
       "      <td>67.470628</td>\n",
       "      <td>60.651856</td>\n",
       "      <td>58.311361</td>\n",
       "    </tr>\n",
       "    <tr>\n",
       "      <th>2</th>\n",
       "      <td>10004</td>\n",
       "      <td>71.413018</td>\n",
       "      <td>53.152498</td>\n",
       "      <td>58.012103</td>\n",
       "      <td>52.418389</td>\n",
       "      <td>62.536641</td>\n",
       "    </tr>\n",
       "    <tr>\n",
       "      <th>3</th>\n",
       "      <td>10007</td>\n",
       "      <td>38.617381</td>\n",
       "      <td>49.197021</td>\n",
       "      <td>65.674285</td>\n",
       "      <td>40.151376</td>\n",
       "      <td>34.096421</td>\n",
       "    </tr>\n",
       "    <tr>\n",
       "      <th>4</th>\n",
       "      <td>10008</td>\n",
       "      <td>35.326582</td>\n",
       "      <td>15.769168</td>\n",
       "      <td>65.782269</td>\n",
       "      <td>44.643805</td>\n",
       "      <td>50.448485</td>\n",
       "    </tr>\n",
       "    <tr>\n",
       "      <th>...</th>\n",
       "      <td>...</td>\n",
       "      <td>...</td>\n",
       "      <td>...</td>\n",
       "      <td>...</td>\n",
       "      <td>...</td>\n",
       "      <td>...</td>\n",
       "    </tr>\n",
       "    <tr>\n",
       "      <th>5872</th>\n",
       "      <td>21654</td>\n",
       "      <td>53.103634</td>\n",
       "      <td>50.951656</td>\n",
       "      <td>62.168022</td>\n",
       "      <td>49.389400</td>\n",
       "      <td>53.020847</td>\n",
       "    </tr>\n",
       "    <tr>\n",
       "      <th>5873</th>\n",
       "      <td>21665</td>\n",
       "      <td>38.246437</td>\n",
       "      <td>48.018227</td>\n",
       "      <td>59.522285</td>\n",
       "      <td>45.697098</td>\n",
       "      <td>53.208160</td>\n",
       "    </tr>\n",
       "    <tr>\n",
       "      <th>5874</th>\n",
       "      <td>21674</td>\n",
       "      <td>69.414169</td>\n",
       "      <td>58.593918</td>\n",
       "      <td>60.298779</td>\n",
       "      <td>49.865669</td>\n",
       "      <td>47.863167</td>\n",
       "    </tr>\n",
       "    <tr>\n",
       "      <th>5875</th>\n",
       "      <td>21693</td>\n",
       "      <td>62.009209</td>\n",
       "      <td>54.272484</td>\n",
       "      <td>60.474388</td>\n",
       "      <td>52.325031</td>\n",
       "      <td>52.989803</td>\n",
       "    </tr>\n",
       "    <tr>\n",
       "      <th>5876</th>\n",
       "      <td>21734</td>\n",
       "      <td>36.072495</td>\n",
       "      <td>46.474880</td>\n",
       "      <td>61.304012</td>\n",
       "      <td>42.742592</td>\n",
       "      <td>53.425110</td>\n",
       "    </tr>\n",
       "  </tbody>\n",
       "</table>\n",
       "<p>5877 rows × 6 columns</p>\n",
       "</div>"
      ],
      "text/plain": [
       "         Id        age  domain1_var1  domain1_var2  domain2_var1  domain2_var2\n",
       "0     10001  57.436077     30.571975     62.553736     53.325130     51.427998\n",
       "1     10002  59.580851     50.969456     67.470628     60.651856     58.311361\n",
       "2     10004  71.413018     53.152498     58.012103     52.418389     62.536641\n",
       "3     10007  38.617381     49.197021     65.674285     40.151376     34.096421\n",
       "4     10008  35.326582     15.769168     65.782269     44.643805     50.448485\n",
       "...     ...        ...           ...           ...           ...           ...\n",
       "5872  21654  53.103634     50.951656     62.168022     49.389400     53.020847\n",
       "5873  21665  38.246437     48.018227     59.522285     45.697098     53.208160\n",
       "5874  21674  69.414169     58.593918     60.298779     49.865669     47.863167\n",
       "5875  21693  62.009209     54.272484     60.474388     52.325031     52.989803\n",
       "5876  21734  36.072495     46.474880     61.304012     42.742592     53.425110\n",
       "\n",
       "[5877 rows x 6 columns]"
      ]
     },
     "execution_count": 3,
     "metadata": {},
     "output_type": "execute_result"
    }
   ],
   "source": [
    "data = pd.read_csv('00_Data/train_scores_full.csv')\n",
    "data"
   ]
  },
  {
   "cell_type": "code",
   "execution_count": 4,
   "metadata": {},
   "outputs": [
    {
     "data": {
      "text/plain": [
       "Id              0\n",
       "age             0\n",
       "domain1_var1    0\n",
       "domain1_var2    0\n",
       "domain2_var1    0\n",
       "domain2_var2    0\n",
       "dtype: int64"
      ]
     },
     "execution_count": 4,
     "metadata": {},
     "output_type": "execute_result"
    }
   ],
   "source": [
    "data.isnull().sum()"
   ]
  },
  {
   "cell_type": "code",
   "execution_count": 5,
   "metadata": {},
   "outputs": [
    {
     "name": "stdout",
     "output_type": "stream",
     "text": [
      "Dataset length:  5877\n"
     ]
    }
   ],
   "source": [
    "print('Dataset length: ', len(data.index))"
   ]
  },
  {
   "cell_type": "code",
   "execution_count": 6,
   "metadata": {},
   "outputs": [],
   "source": [
    "def inputs_gen(idxs, labels):\n",
    "    for idx, labs in zip(idxs, labels):\n",
    "        # FNC inputs\n",
    "        df_fnc = pd.read_csv('00_Data/fnc_csv/{0}.csv'.format(idx), index_col=0)\n",
    "        X_fnc = np.array(df_fnc.values).reshape(-1)\n",
    "\n",
    "        # Loading inputs\n",
    "        df_loading = pd.read_csv('00_Data/loading_csv/{0}.csv'.format(idx), index_col=0)\n",
    "        X_loading = np.array(df_loading.values).reshape(-1)\n",
    "\n",
    "        #MRI inputs\n",
    "        patient_SM = h5py.File('00_Data/fMRI_train/{0}.mat'.format(idx), mode='r')\n",
    "        patient_SM = np.array(patient_SM.get('SM_feature'))\n",
    "\n",
    "        k = 1\n",
    "        ki_padding = 3\n",
    "\n",
    "        arr_regions = []\n",
    "        for i in range(patient_SM.shape[0]):\n",
    "            sample_map = patient_SM[i,:,:,:]\n",
    "    #         print(len(arr_regions))\n",
    "            # padding MRI map\n",
    "            if k > 1:\n",
    "                map_shape = sample_map.shape\n",
    "                shape_pad = ((map_shape[0]//k + 1)*k - map_shape[0],\n",
    "                             (map_shape[1]//k + 1)*k - map_shape[1],\n",
    "                             (map_shape[2]//k + 1)*k - map_shape[2])\n",
    "\n",
    "                npad = ((shape_pad[0]//2, (shape_pad[0]//2 if shape_pad[0]%2==0 else shape_pad[0]//2+1)),    \n",
    "                        (shape_pad[1]//2, (shape_pad[1]//2 if shape_pad[1]%2==0 else shape_pad[1]//2+1)),    \n",
    "                        (shape_pad[2]//2, (shape_pad[2]//2 if shape_pad[2]%2==0 else shape_pad[2]//2+1)))\n",
    "\n",
    "                sample_map_padded = np.pad(sample_map, pad_width=npad, mode='constant', constant_values=0)\n",
    "\n",
    "                sx = sample_map_padded.shape[0] / k\n",
    "                sy = sample_map_padded.shape[1] / k\n",
    "                sz = sample_map_padded.shape[2] / k\n",
    "                for kz in range(k):\n",
    "                    for ky in range(k):\n",
    "                        for kx in range(k):\n",
    "                            ki_region = sample_map_padded[int(kx*sx): int(kx*sx + sx - 1), \n",
    "                                                         int(ky*sy): int(ky*sy + sy - 1), \n",
    "                                                         int(kz*sz): int(kz*sz + sz - 1)]\n",
    "                            #padding i-th region by 3 pixels\n",
    "                            ki_region_padded = np.pad(ki_region, pad_width=ki_padding, mode='constant', constant_values=0)\n",
    "                            arr_regions.append(ki_region_padded)\n",
    "            else:\n",
    "                map_padded = np.pad(sample_map, pad_width=ki_padding, mode='constant', constant_values=0)\n",
    "                arr_regions.append(map_padded)\n",
    "    #             print(map_padded.shape)\n",
    "        X_mri = np.stack(arr_regions, axis=3)\n",
    "\n",
    "    #     X = (X_mri, X_fnc, X_loading)\n",
    "        yield X_mri, X_fnc, X_loading, labs, idx"
   ]
  },
  {
   "cell_type": "code",
   "execution_count": 7,
   "metadata": {},
   "outputs": [],
   "source": [
    "def _bytes_feature(value):\n",
    "    if isinstance(value, type(tf.constant(0))):\n",
    "        value = value.numpy() # BytesList won't unpack a string from an EagerTensor.\n",
    "    return tf.train.Feature(bytes_list=tf.train.BytesList(value=[value]))"
   ]
  },
  {
   "cell_type": "code",
   "execution_count": 8,
   "metadata": {},
   "outputs": [],
   "source": [
    "def serialize_fullproto(x1, x2, x3, y):\n",
    "    feat_x1 = _bytes_feature(x1.tostring())\n",
    "    feat_x2 = _bytes_feature(x2.tostring())\n",
    "    feat_x3 = _bytes_feature(x3.tostring())\n",
    "    feat_y = _bytes_feature(y.tostring())\n",
    "\n",
    "    sample_protobuf = tf.train.Example(features=tf.train.Features(feature={'x1': feat_x1, 'x2': feat_x2, 'x3': feat_x3, 'y': feat_y}))\n",
    "    return sample_protobuf.SerializeToString()"
   ]
  },
  {
   "cell_type": "code",
   "execution_count": 9,
   "metadata": {},
   "outputs": [
    {
     "name": "stdout",
     "output_type": "stream",
     "text": [
      "3760\n"
     ]
    }
   ],
   "source": [
    "train, test = model_selection.train_test_split(data, test_size=0.2, shuffle=True, random_state=30)\n",
    "train, val = model_selection.train_test_split(train, test_size=0.2, shuffle=True, random_state=30)\n",
    "print(len(train.index))"
   ]
  },
  {
   "cell_type": "code",
   "execution_count": 10,
   "metadata": {},
   "outputs": [],
   "source": [
    "tfr_train = '00_Data/tfr_train_k1/'\n",
    "tfr_val = '00_Data/tfr_val_k1/'\n",
    "tfr_test = '00_Data/tfr_test_k1/'\n",
    "\n",
    "ops = tf.io.TFRecordOptions(compression_type=\"GZIP\")"
   ]
  },
  {
   "cell_type": "code",
   "execution_count": 12,
   "metadata": {},
   "outputs": [
    {
     "name": "stderr",
     "output_type": "stream",
     "text": [
      "100%|████████████████████████████████████████████████████████████████████████████| 3760/3760 [3:51:28<00:00,  3.69s/it]\n"
     ]
    }
   ],
   "source": [
    "with tqdm(total=len(train.index)) as pbar:\n",
    "    for i, (x1, x2, x3, y, idx) in enumerate(inputs_gen(train['Id'].values, train[['age', 'domain1_var1', 'domain1_var2', 'domain2_var1', 'domain2_var2']].values)):\n",
    "        with tf.io.TFRecordWriter('{0}{1}.tfrecord'.format(tfr_train, idx), options=ops) as protowriter:\n",
    "            sample = serialize_fullproto(x1, x2, x3, y)\n",
    "            protowriter.write(sample)\n",
    "            protowriter.flush()\n",
    "        pbar.update(1)"
   ]
  },
  {
   "cell_type": "code",
   "execution_count": 13,
   "metadata": {},
   "outputs": [
    {
     "name": "stderr",
     "output_type": "stream",
     "text": [
      "100%|████████████████████████████████████████████████████████████████████████████████| 941/941 [57:02<00:00,  3.64s/it]\n"
     ]
    }
   ],
   "source": [
    "with tqdm(total=len(val.index)) as pbar:\n",
    "    for i, (x1, x2, x3, y, idx) in enumerate(inputs_gen(val['Id'].values, val[['age', 'domain1_var1', 'domain1_var2', 'domain2_var1', 'domain2_var2']].values)):\n",
    "        with tf.io.TFRecordWriter('{0}{1}.tfrecord'.format(tfr_val, idx), options=ops) as protowriter:\n",
    "            sample = serialize_fullproto(x1, x2, x3, y)\n",
    "            protowriter.write(sample)\n",
    "            protowriter.flush()\n",
    "        pbar.update(1)"
   ]
  },
  {
   "cell_type": "code",
   "execution_count": 14,
   "metadata": {},
   "outputs": [
    {
     "name": "stderr",
     "output_type": "stream",
     "text": [
      "100%|████████████████████████████████████████████████████████████████████████████| 1176/1176 [1:11:23<00:00,  3.64s/it]\n"
     ]
    }
   ],
   "source": [
    "with tqdm(total=len(test.index)) as pbar:\n",
    "    for i, (x1, x2, x3, y, idx) in enumerate(inputs_gen(test['Id'].values, test[['age', 'domain1_var1', 'domain1_var2', 'domain2_var1', 'domain2_var2']].values)):\n",
    "        with tf.io.TFRecordWriter('{0}{1}.tfrecord'.format(tfr_test, idx), options=ops) as protowriter:\n",
    "            sample = serialize_fullproto(x1, x2, x3, y)\n",
    "            protowriter.write(sample)\n",
    "            protowriter.flush()\n",
    "        pbar.update(1)"
   ]
  },
  {
   "cell_type": "code",
   "execution_count": 15,
   "metadata": {},
   "outputs": [],
   "source": [
    "# Google Cloud Storage\n",
    "bucketURL = 'https://console.cloud.google.com/storage/browser/trends_2020_tfr'\n",
    "bucketName = 'trends_2020_tfr'\n",
    "\n",
    "bucket_train = 'train_k1'\n",
    "bucket_val = 'val_k1'\n",
    "bucket_test = 'test_k1'\n",
    "\n",
    "path_train = '00_Data/tfr_train_k1/'\n",
    "path_val = '00_Data/tfr_val_k1/'\n",
    "path_test = '00_Data/tfr_test_k1/'"
   ]
  },
  {
   "cell_type": "code",
   "execution_count": 16,
   "metadata": {},
   "outputs": [],
   "source": [
    "def upload_files(bucket, bucketFolder, localFolder):\n",
    "    files = [f for f in listdir(localFolder)]\n",
    "    with tqdm(total=len(files)) as pbar:\n",
    "        for file in files:\n",
    "            localFile = localFolder + file\n",
    "            blob = bucket.blob(bucketFolder + '/' + file)\n",
    "            blob.upload_from_filename(localFile)\n",
    "            pbar.update(1)"
   ]
  },
  {
   "cell_type": "code",
   "execution_count": 17,
   "metadata": {},
   "outputs": [],
   "source": [
    "storage_client = storage.Client()"
   ]
  },
  {
   "cell_type": "code",
   "execution_count": 18,
   "metadata": {},
   "outputs": [],
   "source": [
    "bucket = storage_client.get_bucket(bucketName)"
   ]
  },
  {
   "cell_type": "code",
   "execution_count": 19,
   "metadata": {},
   "outputs": [
    {
     "name": "stderr",
     "output_type": "stream",
     "text": [
      "100%|████████████████████████████████████████████████████████████████████████████| 3760/3760 [5:25:49<00:00,  5.20s/it]\n"
     ]
    }
   ],
   "source": [
    "upload_files(bucket, bucket_train, path_train)"
   ]
  },
  {
   "cell_type": "code",
   "execution_count": 20,
   "metadata": {},
   "outputs": [
    {
     "name": "stderr",
     "output_type": "stream",
     "text": [
      "100%|██████████████████████████████████████████████████████████████████████████████| 941/941 [1:21:40<00:00,  5.21s/it]\n"
     ]
    }
   ],
   "source": [
    "upload_files(bucket, bucket_val, path_val)"
   ]
  },
  {
   "cell_type": "code",
   "execution_count": 21,
   "metadata": {},
   "outputs": [
    {
     "name": "stderr",
     "output_type": "stream",
     "text": [
      "100%|████████████████████████████████████████████████████████████████████████████| 1176/1176 [1:42:17<00:00,  5.22s/it]\n"
     ]
    }
   ],
   "source": [
    "upload_files(bucket, bucket_test, path_test)"
   ]
  },
  {
   "cell_type": "code",
   "execution_count": null,
   "metadata": {},
   "outputs": [],
   "source": []
  }
 ],
 "metadata": {
  "kernelspec": {
   "display_name": "Python 3",
   "language": "python",
   "name": "python3"
  },
  "language_info": {
   "codemirror_mode": {
    "name": "ipython",
    "version": 3
   },
   "file_extension": ".py",
   "mimetype": "text/x-python",
   "name": "python",
   "nbconvert_exporter": "python",
   "pygments_lexer": "ipython3",
   "version": "3.8.1"
  }
 },
 "nbformat": 4,
 "nbformat_minor": 4
}
