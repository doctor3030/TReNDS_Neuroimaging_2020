{
 "cells": [
  {
   "cell_type": "code",
   "execution_count": 1,
   "metadata": {
    "scrolled": true
   },
   "outputs": [
    {
     "name": "stderr",
     "output_type": "stream",
     "text": [
      "Using TensorFlow backend.\n"
     ]
    }
   ],
   "source": [
    "%config IPCompleter.greedy=True\n",
    "from IPython.display import IFrame\n",
    "\n",
    "import pandas as pd\n",
    "import numpy as np\n",
    "import string\n",
    "import math\n",
    "\n",
    "import scipy.stats as sts\n",
    "\n",
    "import matplotlib.pyplot as plt\n",
    "import matplotlib.gridspec as gridspec\n",
    "import seaborn as sns\n",
    "\n",
    "from sklearn import preprocessing as prep\n",
    "import sklearn.metrics as metrics\n",
    "import sklearn.model_selection as model_selection\n",
    "from sklearn import discriminant_analysis as disan\n",
    "from sklearn import calibration as calib\n",
    "from sklearn import linear_model as lm\n",
    "from sklearn import svm\n",
    "from sklearn import gaussian_process as gaup\n",
    "from sklearn import mixture as mix\n",
    "from sklearn import tree\n",
    "from sklearn import ensemble as ens\n",
    "\n",
    "import tensorflow as tf\n",
    "from tensorflow import keras\n",
    "\n",
    "# from keras import models as kermdls\n",
    "# from keras import layers as kerlrs\n",
    "# from keras import metrics as kmetrics\n",
    "\n",
    "from hyperas import optim\n",
    "from hyperas.distributions import choice, uniform\n",
    "from hyperopt import Trials, STATUS_OK, tpe\n",
    "\n",
    "import pickle\n",
    "\n",
    "import nilearn as nl\n",
    "from nilearn import plotting, image\n",
    "from nilearn import datasets\n",
    "import nibabel as nb\n",
    "import h5py"
   ]
  },
  {
   "cell_type": "code",
   "execution_count": 20,
   "metadata": {},
   "outputs": [
    {
     "data": {
      "text/plain": [
       "True"
      ]
     },
     "execution_count": 20,
     "metadata": {},
     "output_type": "execute_result"
    }
   ],
   "source": [
    "tf.test.is_built_with_cuda()"
   ]
  },
  {
   "cell_type": "code",
   "execution_count": 20,
   "metadata": {},
   "outputs": [],
   "source": [
    "tf.config.list_physical_devices()"
   ]
  },
  {
   "cell_type": "code",
   "execution_count": 3,
   "metadata": {},
   "outputs": [
    {
     "name": "stdout",
     "output_type": "stream",
     "text": [
      "[name: \"/device:CPU:0\"\n",
      "device_type: \"CPU\"\n",
      "memory_limit: 268435456\n",
      "locality {\n",
      "}\n",
      "incarnation: 579350234052576419\n",
      ", name: \"/device:XLA_CPU:0\"\n",
      "device_type: \"XLA_CPU\"\n",
      "memory_limit: 17179869184\n",
      "locality {\n",
      "}\n",
      "incarnation: 5869078703593002555\n",
      "physical_device_desc: \"device: XLA_CPU device\"\n",
      ", name: \"/device:GPU:0\"\n",
      "device_type: \"GPU\"\n",
      "memory_limit: 6589725830\n",
      "locality {\n",
      "  bus_id: 1\n",
      "  links {\n",
      "  }\n",
      "}\n",
      "incarnation: 12037468935284227382\n",
      "physical_device_desc: \"device: 0, name: GeForce GTX 1070 Ti, pci bus id: 0000:01:00.0, compute capability: 6.1\"\n",
      ", name: \"/device:XLA_GPU:0\"\n",
      "device_type: \"XLA_GPU\"\n",
      "memory_limit: 17179869184\n",
      "locality {\n",
      "}\n",
      "incarnation: 1322541900374533386\n",
      "physical_device_desc: \"device: XLA_GPU device\"\n",
      "]\n"
     ]
    }
   ],
   "source": [
    "from tensorflow.python.client import device_lib \n",
    "print(device_lib.list_local_devices())"
   ]
  },
  {
   "cell_type": "code",
   "execution_count": 5,
   "metadata": {},
   "outputs": [
    {
     "data": {
      "text/html": [
       "<div>\n",
       "<style scoped>\n",
       "    .dataframe tbody tr th:only-of-type {\n",
       "        vertical-align: middle;\n",
       "    }\n",
       "\n",
       "    .dataframe tbody tr th {\n",
       "        vertical-align: top;\n",
       "    }\n",
       "\n",
       "    .dataframe thead th {\n",
       "        text-align: right;\n",
       "    }\n",
       "</style>\n",
       "<table border=\"1\" class=\"dataframe\">\n",
       "  <thead>\n",
       "    <tr style=\"text-align: right;\">\n",
       "      <th></th>\n",
       "      <th>Id</th>\n",
       "      <th>age</th>\n",
       "      <th>domain1_var1</th>\n",
       "      <th>domain1_var2</th>\n",
       "      <th>domain2_var1</th>\n",
       "      <th>domain2_var2</th>\n",
       "    </tr>\n",
       "  </thead>\n",
       "  <tbody>\n",
       "    <tr>\n",
       "      <th>0</th>\n",
       "      <td>10001</td>\n",
       "      <td>57.436077</td>\n",
       "      <td>30.571975</td>\n",
       "      <td>62.553736</td>\n",
       "      <td>53.325130</td>\n",
       "      <td>51.427998</td>\n",
       "    </tr>\n",
       "    <tr>\n",
       "      <th>1</th>\n",
       "      <td>10002</td>\n",
       "      <td>59.580851</td>\n",
       "      <td>50.969456</td>\n",
       "      <td>67.470628</td>\n",
       "      <td>60.651856</td>\n",
       "      <td>58.311361</td>\n",
       "    </tr>\n",
       "    <tr>\n",
       "      <th>2</th>\n",
       "      <td>10004</td>\n",
       "      <td>71.413018</td>\n",
       "      <td>53.152498</td>\n",
       "      <td>58.012103</td>\n",
       "      <td>52.418389</td>\n",
       "      <td>62.536641</td>\n",
       "    </tr>\n",
       "    <tr>\n",
       "      <th>3</th>\n",
       "      <td>10005</td>\n",
       "      <td>66.532630</td>\n",
       "      <td>NaN</td>\n",
       "      <td>NaN</td>\n",
       "      <td>52.108977</td>\n",
       "      <td>69.993075</td>\n",
       "    </tr>\n",
       "    <tr>\n",
       "      <th>4</th>\n",
       "      <td>10007</td>\n",
       "      <td>38.617381</td>\n",
       "      <td>49.197021</td>\n",
       "      <td>65.674285</td>\n",
       "      <td>40.151376</td>\n",
       "      <td>34.096421</td>\n",
       "    </tr>\n",
       "    <tr>\n",
       "      <th>...</th>\n",
       "      <td>...</td>\n",
       "      <td>...</td>\n",
       "      <td>...</td>\n",
       "      <td>...</td>\n",
       "      <td>...</td>\n",
       "      <td>...</td>\n",
       "    </tr>\n",
       "    <tr>\n",
       "      <th>5872</th>\n",
       "      <td>21746</td>\n",
       "      <td>14.257265</td>\n",
       "      <td>21.358872</td>\n",
       "      <td>61.165998</td>\n",
       "      <td>51.778483</td>\n",
       "      <td>54.640179</td>\n",
       "    </tr>\n",
       "    <tr>\n",
       "      <th>5873</th>\n",
       "      <td>21747</td>\n",
       "      <td>55.456978</td>\n",
       "      <td>68.169675</td>\n",
       "      <td>29.907995</td>\n",
       "      <td>55.349257</td>\n",
       "      <td>54.019517</td>\n",
       "    </tr>\n",
       "    <tr>\n",
       "      <th>5874</th>\n",
       "      <td>21750</td>\n",
       "      <td>48.948756</td>\n",
       "      <td>55.114811</td>\n",
       "      <td>60.878271</td>\n",
       "      <td>38.617246</td>\n",
       "      <td>50.679885</td>\n",
       "    </tr>\n",
       "    <tr>\n",
       "      <th>5875</th>\n",
       "      <td>21752</td>\n",
       "      <td>66.532630</td>\n",
       "      <td>59.844808</td>\n",
       "      <td>72.303110</td>\n",
       "      <td>55.458281</td>\n",
       "      <td>46.870235</td>\n",
       "    </tr>\n",
       "    <tr>\n",
       "      <th>5876</th>\n",
       "      <td>21754</td>\n",
       "      <td>68.820928</td>\n",
       "      <td>56.594193</td>\n",
       "      <td>34.605868</td>\n",
       "      <td>49.922535</td>\n",
       "      <td>50.383078</td>\n",
       "    </tr>\n",
       "  </tbody>\n",
       "</table>\n",
       "<p>5877 rows × 6 columns</p>\n",
       "</div>"
      ],
      "text/plain": [
       "         Id        age  domain1_var1  domain1_var2  domain2_var1  domain2_var2\n",
       "0     10001  57.436077     30.571975     62.553736     53.325130     51.427998\n",
       "1     10002  59.580851     50.969456     67.470628     60.651856     58.311361\n",
       "2     10004  71.413018     53.152498     58.012103     52.418389     62.536641\n",
       "3     10005  66.532630           NaN           NaN     52.108977     69.993075\n",
       "4     10007  38.617381     49.197021     65.674285     40.151376     34.096421\n",
       "...     ...        ...           ...           ...           ...           ...\n",
       "5872  21746  14.257265     21.358872     61.165998     51.778483     54.640179\n",
       "5873  21747  55.456978     68.169675     29.907995     55.349257     54.019517\n",
       "5874  21750  48.948756     55.114811     60.878271     38.617246     50.679885\n",
       "5875  21752  66.532630     59.844808     72.303110     55.458281     46.870235\n",
       "5876  21754  68.820928     56.594193     34.605868     49.922535     50.383078\n",
       "\n",
       "[5877 rows x 6 columns]"
      ]
     },
     "execution_count": 5,
     "metadata": {},
     "output_type": "execute_result"
    }
   ],
   "source": [
    "data = pd.read_csv('00_Data/train_scores.csv')\n",
    "data"
   ]
  },
  {
   "cell_type": "code",
   "execution_count": 6,
   "metadata": {},
   "outputs": [
    {
     "data": {
      "text/plain": [
       "Id                0\n",
       "age               0\n",
       "domain1_var1    438\n",
       "domain1_var2    438\n",
       "domain2_var1     39\n",
       "domain2_var2     39\n",
       "dtype: int64"
      ]
     },
     "execution_count": 6,
     "metadata": {},
     "output_type": "execute_result"
    }
   ],
   "source": [
    "data.isnull().sum()"
   ]
  },
  {
   "cell_type": "code",
   "execution_count": 1,
   "metadata": {},
   "outputs": [],
   "source": [
    "def load_individual_maps(patient_id, icn_idx, ntw_components):\n",
    "        patient_SM = h5py.File('00_Data/fMRI_train/{0}.mat'.format(patient_id), mode='r')\n",
    "        patient_SM = np.array(patient_SM.get('SM_feature'))\n",
    "\n",
    "        patient_maps = {}\n",
    "        for i in icn_idx.keys():\n",
    "            component_maps = {}\n",
    "            for j, _ in enumerate(icn_idx[i]):\n",
    "                jj = ntw_components[i][j]\n",
    "                component_maps[jj] = patient_SM[icn_idx[i]][j].transpose([2, 1, 0])\n",
    "            patient_maps[i] = component_maps\n",
    "        return patient_maps"
   ]
  },
  {
   "cell_type": "code",
   "execution_count": 8,
   "metadata": {},
   "outputs": [],
   "source": [
    "def get_k_regions(sample_maps, ntw_labs, ntw_components, map_shape, k):\n",
    "    arr_regions = []\n",
    "    for ntw in ntw_labs:\n",
    "        for c in ntw_components[ntw]:\n",
    "            sample_map = sample_maps[ntw][c]\n",
    "            # padding MRI map\n",
    "            shape_pad = ((map_shape[0]//k + 1)*k - map_shape[0],\n",
    "                         (map_shape[1]//k + 1)*k - map_shape[1],\n",
    "                         (map_shape[2]//k + 1)*k - map_shape[2])\n",
    "\n",
    "            npad = ((shape_pad[0]//2, (shape_pad[0]//2 if shape_pad[0]%2==0 else shape_pad[0]//2+1)),    \n",
    "                    (shape_pad[1]//2, (shape_pad[1]//2 if shape_pad[1]%2==0 else shape_pad[1]//2+1)),    \n",
    "                    (shape_pad[2]//2, (shape_pad[2]//2 if shape_pad[2]%2==0 else shape_pad[2]//2+1)))\n",
    "\n",
    "            sample_map_padded = np.pad(sample_map, pad_width=npad, mode='constant', constant_values=0)\n",
    "\n",
    "            sx = sample_map_padded.shape[0] / k\n",
    "            sy = sample_map_padded.shape[1] / k\n",
    "            sz = sample_map_padded.shape[2] / k\n",
    "            for kz in range(k):\n",
    "                for ky in range(k):\n",
    "                    for kx in range(k):\n",
    "                        ki_region = sample_map_padded[int(kx*sx): int(kx*sx + sx - 1), \n",
    "                                                     int(ky*sy): int(ky*sy + sy - 1), \n",
    "                                                     int(kz*sz): int(kz*sz + sz - 1)]\n",
    "                        # padding i-th region by 3 pixels\n",
    "                        ki_region_padded = np.pad(ki_region, pad_width=3, mode='constant', constant_values=0)\n",
    "                        arr_regions.append(ki_region_padded)\n",
    "    return np.stack(arr_regions, axis=3)"
   ]
  },
  {
   "cell_type": "code",
   "execution_count": 9,
   "metadata": {},
   "outputs": [],
   "source": [
    "data = pd.read_csv('00_Data/train_scores.csv')\n",
    "\n",
    "# Nifti MASK image\n",
    "brain_mask = nb.load('00_Data/fMRI_mask.nii')\n",
    "\n",
    "# load functional componets correlation matrix\n",
    "fnc_10 = pd.read_csv('00_Data/fnc.csv')\n",
    "\n",
    "# retrive unique network names with corresponding components\n",
    "fnc10_cols = fnc_10.columns.to_list()[1:]\n",
    "fnc10_cols_filtered = []\n",
    "for i in fnc10_cols:\n",
    "    fnc10_cols_filtered.append(i.split('_')[0])\n",
    "    fnc10_cols_filtered.append(i.split('_')[2])\n",
    "    \n",
    "# Network index:\n",
    "ntw_components = {}\n",
    "ntw_labs = np.unique([i[:3] for i in fnc10_cols_filtered])\n",
    "for ii in ntw_labs:\n",
    "    ntw_components[ii] = np.unique([np.int(i.split('(')[-1].split(')')[0]) for i in fnc10_cols_filtered if ii in i])\n",
    "    \n",
    "# Look up matrix index\n",
    "icn_number = pd.read_csv('00_Data/ICN_numbers.csv')\n",
    "\n",
    "# create dictionary of networks with corresponding components\n",
    "icn_idx = {}\n",
    "for jj in ntw_components.keys():\n",
    "    icn_idx[jj] = np.array(icn_number.index[icn_number['ICN_number'].isin(ntw_components[jj])])"
   ]
  },
  {
   "cell_type": "code",
   "execution_count": 10,
   "metadata": {},
   "outputs": [],
   "source": [
    "target = 'age'\n",
    "\n",
    "train, test = model_selection.train_test_split(data, test_size=0.1)\n",
    "train, val = model_selection.train_test_split(train, test_size=0.2)\n",
    "X_train = train['Id']\n",
    "X_val = val['Id']\n",
    "X_test = test['Id']\n",
    "Y_train = train[target]\n",
    "Y_val = val[target]\n",
    "Y_test = test[target]"
   ]
  },
  {
   "cell_type": "code",
   "execution_count": 11,
   "metadata": {},
   "outputs": [
    {
     "data": {
      "text/html": [
       "<div>\n",
       "<style scoped>\n",
       "    .dataframe tbody tr th:only-of-type {\n",
       "        vertical-align: middle;\n",
       "    }\n",
       "\n",
       "    .dataframe tbody tr th {\n",
       "        vertical-align: top;\n",
       "    }\n",
       "\n",
       "    .dataframe thead th {\n",
       "        text-align: right;\n",
       "    }\n",
       "</style>\n",
       "<table border=\"1\" class=\"dataframe\">\n",
       "  <thead>\n",
       "    <tr style=\"text-align: right;\">\n",
       "      <th></th>\n",
       "      <th>Id</th>\n",
       "      <th>age</th>\n",
       "      <th>domain1_var1</th>\n",
       "      <th>domain1_var2</th>\n",
       "      <th>domain2_var1</th>\n",
       "      <th>domain2_var2</th>\n",
       "    </tr>\n",
       "  </thead>\n",
       "  <tbody>\n",
       "    <tr>\n",
       "      <th>1188</th>\n",
       "      <td>12380</td>\n",
       "      <td>38.617381</td>\n",
       "      <td>44.061580</td>\n",
       "      <td>69.053375</td>\n",
       "      <td>43.488447</td>\n",
       "      <td>59.656328</td>\n",
       "    </tr>\n",
       "    <tr>\n",
       "      <th>2381</th>\n",
       "      <td>14796</td>\n",
       "      <td>51.996514</td>\n",
       "      <td>57.493468</td>\n",
       "      <td>48.005744</td>\n",
       "      <td>38.412873</td>\n",
       "      <td>42.470931</td>\n",
       "    </tr>\n",
       "    <tr>\n",
       "      <th>3168</th>\n",
       "      <td>16392</td>\n",
       "      <td>50.427747</td>\n",
       "      <td>51.969295</td>\n",
       "      <td>59.785820</td>\n",
       "      <td>48.841025</td>\n",
       "      <td>59.685470</td>\n",
       "    </tr>\n",
       "    <tr>\n",
       "      <th>5482</th>\n",
       "      <td>21003</td>\n",
       "      <td>59.580851</td>\n",
       "      <td>NaN</td>\n",
       "      <td>NaN</td>\n",
       "      <td>58.259300</td>\n",
       "      <td>59.327780</td>\n",
       "    </tr>\n",
       "    <tr>\n",
       "      <th>4568</th>\n",
       "      <td>19193</td>\n",
       "      <td>53.583805</td>\n",
       "      <td>55.966272</td>\n",
       "      <td>54.793583</td>\n",
       "      <td>26.257133</td>\n",
       "      <td>43.415771</td>\n",
       "    </tr>\n",
       "  </tbody>\n",
       "</table>\n",
       "</div>"
      ],
      "text/plain": [
       "         Id        age  domain1_var1  domain1_var2  domain2_var1  domain2_var2\n",
       "1188  12380  38.617381     44.061580     69.053375     43.488447     59.656328\n",
       "2381  14796  51.996514     57.493468     48.005744     38.412873     42.470931\n",
       "3168  16392  50.427747     51.969295     59.785820     48.841025     59.685470\n",
       "5482  21003  59.580851           NaN           NaN     58.259300     59.327780\n",
       "4568  19193  53.583805     55.966272     54.793583     26.257133     43.415771"
      ]
     },
     "execution_count": 11,
     "metadata": {},
     "output_type": "execute_result"
    }
   ],
   "source": [
    "train.head()"
   ]
  },
  {
   "cell_type": "code",
   "execution_count": 12,
   "metadata": {},
   "outputs": [],
   "source": [
    "l = list(X_train)\n",
    "mps = load_individual_maps(l[0], icn_idx, ntw_components)\n",
    "regs = get_k_regions(mps, ntw_labs, ntw_components, (53,63,52), 2)"
   ]
  },
  {
   "cell_type": "code",
   "execution_count": 13,
   "metadata": {},
   "outputs": [],
   "source": [
    "INPUT_SHAPE = regs.shape"
   ]
  },
  {
   "cell_type": "code",
   "execution_count": 14,
   "metadata": {},
   "outputs": [],
   "source": [
    "class DataGenerator(keras.utils.Sequence):\n",
    "    'Generates data for Keras'\n",
    "    def __init__(self, data, ntw_labs, ntw_components, icn_idx, mri_map_shape=(53,63,52), k=2, batch_size=32, shuffle=True):\n",
    "        'Initialization'\n",
    "        self.X = list(data['Id'])\n",
    "        self.y = list(data['age'])\n",
    "        self.data = data\n",
    "        self.batch_size = batch_size\n",
    "        self.shuffle = shuffle\n",
    "        self.on_epoch_end()\n",
    "        self.ntw_labs = ntw_labs\n",
    "        self.ntw_components = ntw_components\n",
    "        self.icn_idx = icn_idx\n",
    "        self.sample_shape0 = mri_map_shape\n",
    "        self.k = k\n",
    "        \n",
    "    def __load_individual_maps(self, patient_id, icn_idx, ntw_components):\n",
    "        patient_SM = h5py.File('00_Data/fMRI_train/{0}.mat'.format(patient_id), mode='r')\n",
    "        patient_SM = np.array(patient_SM.get('SM_feature'))\n",
    "\n",
    "        patient_maps = {}\n",
    "        for i in icn_idx.keys():\n",
    "            component_maps = {}\n",
    "            for j, _ in enumerate(icn_idx[i]):\n",
    "                jj = ntw_components[i][j]\n",
    "                component_maps[jj] = patient_SM[icn_idx[i]][j].transpose([2, 1, 0])\n",
    "            patient_maps[i] = component_maps\n",
    "        return patient_maps\n",
    "    \n",
    "    def __get_k_regions(self, sample_maps, ntw_labs, ntw_components, map_shape, k):\n",
    "        # iterate through mri maps of the subject\n",
    "        # split each map by k**3 regions and concatenate these regions along channel dimension\n",
    "        arr_regions = []\n",
    "        for ntw in ntw_labs:\n",
    "            for c in ntw_components[ntw]:\n",
    "                sample_map = sample_maps[ntw][c]\n",
    "                # padding MRI map\n",
    "                shape_pad = ((map_shape[0]//k + 1)*k - map_shape[0],\n",
    "                             (map_shape[1]//k + 1)*k - map_shape[1],\n",
    "                             (map_shape[2]//k + 1)*k - map_shape[2])\n",
    "\n",
    "                npad = ((shape_pad[0]//2, (shape_pad[0]//2 if shape_pad[0]%2==0 else shape_pad[0]//2+1)),    \n",
    "                        (shape_pad[1]//2, (shape_pad[1]//2 if shape_pad[1]%2==0 else shape_pad[1]//2+1)),    \n",
    "                        (shape_pad[2]//2, (shape_pad[2]//2 if shape_pad[2]%2==0 else shape_pad[2]//2+1)))\n",
    "\n",
    "                sample_map_padded = np.pad(sample_map, pad_width=npad, mode='constant', constant_values=0)\n",
    "\n",
    "                sx = sample_map_padded.shape[0] / k\n",
    "                sy = sample_map_padded.shape[1] / k\n",
    "                sz = sample_map_padded.shape[2] / k\n",
    "                for kz in range(k):\n",
    "                    for ky in range(k):\n",
    "                        for kx in range(k):\n",
    "                            ki_region = sample_map_padded[int(kx*sx): int(kx*sx + sx - 1), \n",
    "                                                         int(ky*sy): int(ky*sy + sy - 1), \n",
    "                                                         int(kz*sz): int(kz*sz + sz - 1)]\n",
    "                            \n",
    "                            # padding i-th region by 3 pixels\n",
    "                            ki_region_padded = np.pad(ki_region, pad_width=3, mode='constant', constant_values=0)\n",
    "                            arr_regions.append(ki_region_padded)\n",
    "        return np.stack(arr_regions, axis=3)\n",
    "        \n",
    "\n",
    "    def __len__(self):\n",
    "        'Denotes the number of batches per epoch'\n",
    "        return int(np.floor(len(self.data) / self.batch_size))\n",
    "\n",
    "    def __getitem__(self, index):\n",
    "        'Generate one batch of data'\n",
    "        # Generate indexes of the batch\n",
    "        indexes = self.indexes[index*self.batch_size:(index+1)*self.batch_size]\n",
    "\n",
    "        # Find list of IDs\n",
    "        X_batch = [self.X[i] for i in indexes]\n",
    "        y_batch = [self.y[i] for i in indexes]\n",
    "\n",
    "        # Generate data\n",
    "        X_batch = self.__data_generation(X_batch)\n",
    "\n",
    "        return X_batch, np.array(y_batch)\n",
    "\n",
    "    def on_epoch_end(self):\n",
    "        'Updates indexes after each epoch'\n",
    "        self.indexes = np.arange(len(self.data))\n",
    "        if self.shuffle == True:\n",
    "            np.random.shuffle(self.indexes)\n",
    "\n",
    "    def __data_generation(self, batch_input):\n",
    "        'Generates data containing batch_size samples' # X : (n_samples, *dim, n_channels)\n",
    "        # iterate through subjects in the batch\n",
    "        X = []\n",
    "        for i in batch_input:\n",
    "            sample_maps = self.__load_individual_maps(i, self.icn_idx, self.ntw_components)\n",
    "            X.append(self.__get_k_regions(sample_maps, self.ntw_labs, self.ntw_components, self.sample_shape0, self.k))\n",
    "        return np.array(X)"
   ]
  },
  {
   "cell_type": "code",
   "execution_count": 15,
   "metadata": {},
   "outputs": [
    {
     "name": "stdout",
     "output_type": "stream",
     "text": [
      "Tensor(\"input_1:0\", shape=(None, 32, 37, 32, 424), dtype=float32)\n",
      "Tensor(\"conv3d/Identity:0\", shape=(None, 30, 35, 30, 64), dtype=float32)\n",
      "Tensor(\"conv3d_1/Identity:0\", shape=(None, 28, 33, 28, 64), dtype=float32)\n",
      "Tensor(\"max_pooling3d/Identity:0\", shape=(None, 27, 32, 27, 64), dtype=float32)\n",
      "Tensor(\"batch_normalization/Identity:0\", shape=(None, 27, 32, 27, 64), dtype=float32) \n",
      "\n",
      "Tensor(\"conv3d_2/Identity:0\", shape=(None, 25, 30, 25, 32), dtype=float32)\n",
      "Tensor(\"conv3d_3/Identity:0\", shape=(None, 23, 28, 23, 32), dtype=float32)\n",
      "Tensor(\"max_pooling3d_1/Identity:0\", shape=(None, 22, 27, 22, 32), dtype=float32)\n",
      "Tensor(\"batch_normalization_1/Identity:0\", shape=(None, 22, 27, 22, 32), dtype=float32) \n",
      "\n",
      "Tensor(\"conv3d_4/Identity:0\", shape=(None, 20, 25, 20, 16), dtype=float32)\n",
      "Tensor(\"conv3d_5/Identity:0\", shape=(None, 18, 23, 18, 16), dtype=float32)\n",
      "Tensor(\"max_pooling3d_2/Identity:0\", shape=(None, 17, 22, 17, 16), dtype=float32)\n",
      "Tensor(\"batch_normalization_2/Identity:0\", shape=(None, 17, 22, 17, 16), dtype=float32) \n",
      "\n",
      "Tensor(\"conv3d_6/Identity:0\", shape=(None, 15, 20, 15, 8), dtype=float32)\n",
      "Tensor(\"conv3d_7/Identity:0\", shape=(None, 13, 18, 13, 8), dtype=float32)\n",
      "Tensor(\"max_pooling3d_3/Identity:0\", shape=(None, 12, 17, 12, 8), dtype=float32)\n",
      "Tensor(\"batch_normalization_3/Identity:0\", shape=(None, 12, 17, 12, 8), dtype=float32) \n",
      "\n",
      "Tensor(\"dense/Identity:0\", shape=(None, 256), dtype=float32) \n",
      "\n",
      "Tensor(\"dense_1/Identity:0\", shape=(None, 1), dtype=float32)\n"
     ]
    }
   ],
   "source": [
    "inputs = keras.layers.Input(shape=INPUT_SHAPE)\n",
    "print(inputs)\n",
    "\n",
    "# convolution block #1\n",
    "block_1 = keras.layers.Conv3D(64, kernel_size=(3, 3, 3), strides=(1,1,1), activation='elu')(inputs)\n",
    "print(block_1)\n",
    "block_1 = keras.layers.Conv3D(64, kernel_size=(3, 3, 3), strides=(1,1,1), activation='elu')(block_1)\n",
    "print(block_1)\n",
    "block_1 = keras.layers.MaxPooling3D(pool_size=(2, 2, 2), strides=(1,1,1))(block_1)\n",
    "print(block_1)\n",
    "block_1 = keras.layers.BatchNormalization(axis=-1, momentum=0.99, epsilon=0.001, center=True, scale=True, \n",
    "                                          beta_initializer='zeros', gamma_initializer='ones', moving_mean_initializer='zeros',\n",
    "                                          moving_variance_initializer='ones', beta_regularizer=None, gamma_regularizer=None, \n",
    "                                          beta_constraint=None, gamma_constraint=None)(block_1)\n",
    "print(block_1, '\\n')\n",
    "\n",
    "\n",
    "# convolution block #2\n",
    "block_2 = keras.layers.Conv3D(32, kernel_size=(3, 3, 3), strides=(1,1,1), activation='elu')(block_1)\n",
    "print(block_2)\n",
    "block_2 = keras.layers.Conv3D(32, kernel_size=(3, 3, 3), strides=(1,1,1), activation='elu')(block_2)\n",
    "print(block_2)\n",
    "block_2 = keras.layers.MaxPooling3D(pool_size=(2, 2, 2), strides=(1,1,1))(block_2)\n",
    "print(block_2)\n",
    "block_2 = keras.layers.BatchNormalization(axis=-1, momentum=0.99, epsilon=0.001, center=True, scale=True, \n",
    "                                          beta_initializer='zeros', gamma_initializer='ones', moving_mean_initializer='zeros',\n",
    "                                          moving_variance_initializer='ones', beta_regularizer=None, gamma_regularizer=None, \n",
    "                                          beta_constraint=None, gamma_constraint=None)(block_2)\n",
    "print(block_2, '\\n')\n",
    "\n",
    "# convolution block #3\n",
    "block_3 = keras.layers.Conv3D(16, kernel_size=(3, 3, 3), strides=(1,1,1), activation='elu')(block_2)\n",
    "print(block_3)\n",
    "block_3 = keras.layers.Conv3D(16, kernel_size=(3, 3, 3), strides=(1,1,1), activation='elu')(block_3)\n",
    "print(block_3)\n",
    "block_3 = keras.layers.MaxPooling3D(pool_size=(2, 2, 2), strides=(1,1,1))(block_3)\n",
    "print(block_3)\n",
    "block_3 = keras.layers.BatchNormalization(axis=-1, momentum=0.99, epsilon=0.001, center=True, scale=True, \n",
    "                                          beta_initializer='zeros', gamma_initializer='ones', moving_mean_initializer='zeros',\n",
    "                                          moving_variance_initializer='ones', beta_regularizer=None, gamma_regularizer=None, \n",
    "                                          beta_constraint=None, gamma_constraint=None)(block_3)\n",
    "print(block_3, '\\n')\n",
    "\n",
    "# convolution block #4\n",
    "block_4 = keras.layers.Conv3D(8, kernel_size=(3, 3, 3), strides=(1,1,1), activation='elu')(block_3)\n",
    "print(block_4)\n",
    "block_4 = keras.layers.Conv3D(8, kernel_size=(3, 3, 3), strides=(1,1,1), activation='elu')(block_4)\n",
    "print(block_4)\n",
    "block_4 = keras.layers.MaxPooling3D(pool_size=(2, 2, 2), strides=(1,1,1))(block_4)\n",
    "print(block_4)\n",
    "block_4 = keras.layers.BatchNormalization(axis=-1, momentum=0.99, epsilon=0.001, center=True, scale=True, \n",
    "                                          beta_initializer='zeros', gamma_initializer='ones', moving_mean_initializer='zeros',\n",
    "                                          moving_variance_initializer='ones', beta_regularizer=None, gamma_regularizer=None, \n",
    "                                          beta_constraint=None, gamma_constraint=None)(block_4)\n",
    "print(block_4, '\\n')\n",
    "\n",
    "flatten = keras.layers.Flatten(data_format='channels_last')(block_4)\n",
    "\n",
    "# hidden layer\n",
    "dense = keras.layers.Dense(256, activation='elu')(flatten)\n",
    "print(dense, '\\n')\n",
    "\n",
    "# output\n",
    "outputs = keras.layers.Dense(1, activation='linear')(dense)\n",
    "print(outputs)"
   ]
  },
  {
   "cell_type": "code",
   "execution_count": 16,
   "metadata": {},
   "outputs": [],
   "source": [
    "model = keras.Model(inputs=inputs, outputs=outputs, name='test_model')"
   ]
  },
  {
   "cell_type": "code",
   "execution_count": 17,
   "metadata": {},
   "outputs": [],
   "source": [
    "optim = keras.optimizers.Adam(lr=0.0001,\n",
    "                                 beta_1=0.99,\n",
    "                                 beta_2=0.999,\n",
    "                                 amsgrad=False)\n",
    "        \n",
    "METRICS = [keras.metrics.RootMeanSquaredError(name='rmse'),\n",
    "           keras.metrics.MeanSquaredError(name='mse'),\n",
    "           keras.metrics.MeanAbsoluteError(name='mae')]"
   ]
  },
  {
   "cell_type": "code",
   "execution_count": 18,
   "metadata": {},
   "outputs": [],
   "source": [
    "model.compile(loss='mean_squared_error', metrics=METRICS, optimizer=optim)"
   ]
  },
  {
   "cell_type": "code",
   "execution_count": 23,
   "metadata": {},
   "outputs": [],
   "source": [
    "train, test = model_selection.train_test_split(data, test_size=0.1)\n",
    "train, val = model_selection.train_test_split(train, test_size=0.2)\n",
    "\n",
    "# data, ntw_labs, ntw_components, icn_idx, mri_map_shape=(53,63,52), k=2, batch_size=32, shuffle=True\n",
    "\n",
    "params = {'ntw_labs': ntw_labs,\n",
    "          'ntw_components': ntw_components,\n",
    "          'icn_idx': icn_idx,\n",
    "          'mri_map_shape': (53,63,52),\n",
    "          'k': 2,\n",
    "          'batch_size': 16,\n",
    "          'shuffle': False}\n",
    "\n",
    "training_generator = DataGenerator(train, **params)\n",
    "validation_generator = DataGenerator(val, **params)\n",
    "test_generator = DataGenerator(test, **params)"
   ]
  },
  {
   "cell_type": "code",
   "execution_count": 17,
   "metadata": {},
   "outputs": [],
   "source": [
    "X, y = training_generator.__getitem__(0)"
   ]
  },
  {
   "cell_type": "code",
   "execution_count": 18,
   "metadata": {},
   "outputs": [
    {
     "data": {
      "text/plain": [
       "(16, 32, 37, 32, 424)"
      ]
     },
     "execution_count": 18,
     "metadata": {},
     "output_type": "execute_result"
    }
   ],
   "source": [
    "X.shape"
   ]
  },
  {
   "cell_type": "code",
   "execution_count": 19,
   "metadata": {},
   "outputs": [],
   "source": [
    "# (5, 26, 31, 26, 424)"
   ]
  },
  {
   "cell_type": "code",
   "execution_count": 20,
   "metadata": {},
   "outputs": [
    {
     "data": {
      "text/plain": [
       "(16,)"
      ]
     },
     "execution_count": 20,
     "metadata": {},
     "output_type": "execute_result"
    }
   ],
   "source": [
    "y.shape"
   ]
  },
  {
   "cell_type": "code",
   "execution_count": 22,
   "metadata": {},
   "outputs": [
    {
     "name": "stdout",
     "output_type": "stream",
     "text": [
      "Epoch 1/10\n",
      "264/264 [==============================] - 4945s 19s/step - loss: 199.8308 - rmse: 14.1362 - mse: 199.8308 - mae: 11.1435 - val_loss: 217.4760 - val_rmse: 14.7471 - val_mse: 217.4760 - val_mae: 11.8250\n",
      "Epoch 2/10\n",
      "264/264 [==============================] - 5022s 19s/step - loss: 128.7542 - rmse: 11.3470 - mse: 128.7542 - mae: 9.0571 - val_loss: 280.2736 - val_rmse: 16.7414 - val_mse: 280.2736 - val_mae: 13.7635\n",
      "Epoch 3/10\n",
      "264/264 [==============================] - 4920s 19s/step - loss: 93.6189 - rmse: 9.6757 - mse: 93.6189 - mae: 7.7321 - val_loss: 180.5029 - val_rmse: 13.4351 - val_mse: 180.5029 - val_mae: 10.8046\n",
      "Epoch 4/10\n",
      "264/264 [==============================] - 4917s 19s/step - loss: 53.6527 - rmse: 7.3248 - mse: 53.6527 - mae: 5.8331 - val_loss: 150.6460 - val_rmse: 12.2738 - val_mse: 150.6460 - val_mae: 9.7900\n",
      "Epoch 5/10\n",
      "264/264 [==============================] - 4910s 19s/step - loss: 34.6454 - rmse: 5.8860 - mse: 34.6454 - mae: 4.6778 - val_loss: 152.9998 - val_rmse: 12.3693 - val_mse: 152.9998 - val_mae: 9.9118\n",
      "Epoch 6/10\n",
      "264/264 [==============================] - 4903s 19s/step - loss: 24.6923 - rmse: 4.9691 - mse: 24.6923 - mae: 3.9360 - val_loss: 151.3414 - val_rmse: 12.3021 - val_mse: 151.3414 - val_mae: 9.8298\n",
      "Epoch 7/10\n",
      "264/264 [==============================] - 4907s 19s/step - loss: 14.9863 - rmse: 3.8712 - mse: 14.9863 - mae: 3.0987 - val_loss: 164.9320 - val_rmse: 12.8426 - val_mse: 164.9320 - val_mae: 10.3584\n",
      "Epoch 8/10\n",
      "264/264 [==============================] - 4907s 19s/step - loss: 16.6194 - rmse: 4.0767 - mse: 16.6194 - mae: 3.2952 - val_loss: 215.0788 - val_rmse: 14.6656 - val_mse: 215.0788 - val_mae: 11.8670\n",
      "Epoch 9/10\n",
      "264/264 [==============================] - 4901s 19s/step - loss: 11.9255 - rmse: 3.4533 - mse: 11.9255 - mae: 2.7794 - val_loss: 181.5310 - val_rmse: 13.4733 - val_mse: 181.5310 - val_mae: 10.8463\n",
      "Epoch 10/10\n",
      "264/264 [==============================] - 4899s 19s/step - loss: 10.6918 - rmse: 3.2698 - mse: 10.6918 - mae: 2.6237 - val_loss: 159.2097 - val_rmse: 12.6178 - val_mse: 159.2097 - val_mae: 10.1316\n"
     ]
    }
   ],
   "source": [
    "with tf.device('/GPU:0'):\n",
    "    hist = model.fit(training_generator,\n",
    "                     validation_data=validation_generator,\n",
    "                     epochs=10,\n",
    "                     verbose=1)"
   ]
  },
  {
   "cell_type": "code",
   "execution_count": 138,
   "metadata": {},
   "outputs": [
    {
     "data": {
      "text/plain": [
       "<tf.Tensor: shape=(5, 1), dtype=float32, numpy=\n",
       "array([[0.59722805],\n",
       "       [0.49749357],\n",
       "       [0.54568213],\n",
       "       [0.74830353],\n",
       "       [0.3717606 ]], dtype=float32)>"
      ]
     },
     "execution_count": 138,
     "metadata": {},
     "output_type": "execute_result"
    }
   ],
   "source": [
    "predictions = model(X)\n",
    "predictions[:5]"
   ]
  },
  {
   "cell_type": "code",
   "execution_count": null,
   "metadata": {},
   "outputs": [],
   "source": []
  },
  {
   "cell_type": "code",
   "execution_count": null,
   "metadata": {},
   "outputs": [],
   "source": []
  },
  {
   "cell_type": "code",
   "execution_count": null,
   "metadata": {},
   "outputs": [],
   "source": []
  },
  {
   "cell_type": "code",
   "execution_count": null,
   "metadata": {},
   "outputs": [],
   "source": []
  },
  {
   "cell_type": "code",
   "execution_count": 25,
   "metadata": {},
   "outputs": [
    {
     "name": "stdout",
     "output_type": "stream",
     "text": [
      "36/36 [==============================] - 518s 14s/step - loss: 55.8103 - rmse: 7.4706 - mse: 55.8103 - mae: 5.3568\n"
     ]
    }
   ],
   "source": [
    "with tf.device('/GPU:0'):\n",
    "    results = model.evaluate(test_generator, verbose=1)"
   ]
  },
  {
   "cell_type": "code",
   "execution_count": 27,
   "metadata": {},
   "outputs": [
    {
     "data": {
      "text/plain": [
       "Text(0.5, 1.0, 'Metric')"
      ]
     },
     "execution_count": 27,
     "metadata": {},
     "output_type": "execute_result"
    },
    {
     "data": {
      "image/png": "[encoded data removed]",
      "text/plain": [
       "<Figure size 1152x1152 with 4 Axes>"
      ]
     },
     "metadata": {
      "needs_background": "light"
     },
     "output_type": "display_data"
    }
   ],
   "source": [
    "    fig = plt.figure()\n",
    "    fig.set_size_inches(16,16)\n",
    "\n",
    "    ax=fig.add_subplot(3,2,1)\n",
    "    ax.plot(hist.history['rmse'])\n",
    "    ax.plot(hist.history['mse'])\n",
    "    ax.legend(['Metric', 'Loss'])\n",
    "    ax.set_title('Train')\n",
    "\n",
    "    ax=fig.add_subplot(3,2,2)\n",
    "    ax.plot(hist.history['val_rmse'])\n",
    "    ax.plot(hist.history['val_mse'])\n",
    "    ax.legend(['Metric', 'Loss'])\n",
    "    ax.set_title('Test')\n",
    "\n",
    "    ax=fig.add_subplot(3,2,3)\n",
    "    ax.plot(hist.history['mse'])\n",
    "    ax.plot(hist.history['val_mse'])\n",
    "    ax.legend(['Train', 'Test'])\n",
    "    ax.set_title('Loss')\n",
    "\n",
    "    ax=fig.add_subplot(3,2,4)\n",
    "    ax.plot(hist.history['rmse'])\n",
    "    ax.plot(hist.history['val_rmse'])\n",
    "    ax.legend(['Train', 'Test'])\n",
    "    ax.set_title('Metric')"
   ]
  },
  {
   "cell_type": "code",
   "execution_count": null,
   "metadata": {},
   "outputs": [],
   "source": []
  }
 ],
 "metadata": {
  "kernelspec": {
   "display_name": "Python 3",
   "language": "python",
   "name": "python3"
  },
  "language_info": {
   "codemirror_mode": {
    "name": "ipython",
    "version": 3
   },
   "file_extension": ".py",
   "mimetype": "text/x-python",
   "name": "python",
   "nbconvert_exporter": "python",
   "pygments_lexer": "ipython3",
   "version": "3.8.1"
  }
 },
 "nbformat": 4,
 "nbformat_minor": 4
}
