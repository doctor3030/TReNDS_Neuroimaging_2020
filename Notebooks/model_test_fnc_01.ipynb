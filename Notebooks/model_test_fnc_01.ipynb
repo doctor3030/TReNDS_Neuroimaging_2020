{
 "cells": [
  {
   "cell_type": "code",
   "execution_count": 1,
   "metadata": {
    "scrolled": true
   },
   "outputs": [
    {
     "name": "stderr",
     "output_type": "stream",
     "text": [
      "Using TensorFlow backend.\n"
     ]
    }
   ],
   "source": [
    "%config IPCompleter.greedy=True\n",
    "from IPython.display import IFrame\n",
    "\n",
    "import pandas as pd\n",
    "import numpy as np\n",
    "import string\n",
    "import math\n",
    "\n",
    "import scipy.stats as sts\n",
    "\n",
    "import matplotlib.pyplot as plt\n",
    "import matplotlib.gridspec as gridspec\n",
    "import seaborn as sns\n",
    "\n",
    "from sklearn import preprocessing as prep\n",
    "import sklearn.metrics as metrics\n",
    "import sklearn.model_selection as model_selection\n",
    "from sklearn import discriminant_analysis as disan\n",
    "from sklearn import calibration as calib\n",
    "from sklearn import linear_model as lm\n",
    "from sklearn import svm\n",
    "from sklearn import gaussian_process as gaup\n",
    "from sklearn import mixture as mix\n",
    "from sklearn import tree\n",
    "from sklearn import ensemble as ens\n",
    "\n",
    "import tensorflow as tf\n",
    "from tensorflow import keras\n",
    "\n",
    "# from keras import models as kermdls\n",
    "# from keras import layers as kerlrs\n",
    "# from keras import metrics as kmetrics\n",
    "\n",
    "from hyperas import optim\n",
    "from hyperas.distributions import choice, uniform\n",
    "from hyperopt import Trials, STATUS_OK, tpe\n",
    "\n",
    "import pickle\n",
    "\n",
    "import nilearn as nl\n",
    "from nilearn import plotting, image\n",
    "from nilearn import datasets\n",
    "import nibabel as nb\n",
    "import h5py\n",
    "\n",
    "import os\n",
    "\n",
    "import time"
   ]
  },
  {
   "cell_type": "code",
   "execution_count": 2,
   "metadata": {},
   "outputs": [
    {
     "data": {
      "text/plain": [
       "True"
      ]
     },
     "execution_count": 2,
     "metadata": {},
     "output_type": "execute_result"
    }
   ],
   "source": [
    "tf.test.is_built_with_cuda()"
   ]
  },
  {
   "cell_type": "code",
   "execution_count": 3,
   "metadata": {},
   "outputs": [
    {
     "data": {
      "text/plain": [
       "[PhysicalDevice(name='/physical_device:CPU:0', device_type='CPU'),\n",
       " PhysicalDevice(name='/physical_device:XLA_CPU:0', device_type='XLA_CPU'),\n",
       " PhysicalDevice(name='/physical_device:GPU:0', device_type='GPU'),\n",
       " PhysicalDevice(name='/physical_device:XLA_GPU:0', device_type='XLA_GPU')]"
      ]
     },
     "execution_count": 3,
     "metadata": {},
     "output_type": "execute_result"
    }
   ],
   "source": [
    "tf.config.list_physical_devices()"
   ]
  },
  {
   "cell_type": "code",
   "execution_count": 4,
   "metadata": {},
   "outputs": [
    {
     "name": "stdout",
     "output_type": "stream",
     "text": [
      "[name: \"/device:CPU:0\"\n",
      "device_type: \"CPU\"\n",
      "memory_limit: 268435456\n",
      "locality {\n",
      "}\n",
      "incarnation: 11632602256252016554\n",
      ", name: \"/device:XLA_CPU:0\"\n",
      "device_type: \"XLA_CPU\"\n",
      "memory_limit: 17179869184\n",
      "locality {\n",
      "}\n",
      "incarnation: 5232043662195033775\n",
      "physical_device_desc: \"device: XLA_CPU device\"\n",
      ", name: \"/device:GPU:0\"\n",
      "device_type: \"GPU\"\n",
      "memory_limit: 6589725830\n",
      "locality {\n",
      "  bus_id: 1\n",
      "  links {\n",
      "  }\n",
      "}\n",
      "incarnation: 17714913775788822418\n",
      "physical_device_desc: \"device: 0, name: GeForce GTX 1070 Ti, pci bus id: 0000:01:00.0, compute capability: 6.1\"\n",
      ", name: \"/device:XLA_GPU:0\"\n",
      "device_type: \"XLA_GPU\"\n",
      "memory_limit: 17179869184\n",
      "locality {\n",
      "}\n",
      "incarnation: 15082769008613538800\n",
      "physical_device_desc: \"device: XLA_GPU device\"\n",
      "]\n"
     ]
    }
   ],
   "source": [
    "from tensorflow.python.client import device_lib \n",
    "print(device_lib.list_local_devices())"
   ]
  },
  {
   "cell_type": "code",
   "execution_count": 5,
   "metadata": {},
   "outputs": [],
   "source": [
    "TEST_IDS = [map_id.split('.')[0] for map_id in sorted(os.listdir('00_Data/fMRI_test'))]\n",
    "TRAIN_IDS = [map_id.split('.')[0] for map_id in sorted(os.listdir('00_Data/fMRI_train'))]"
   ]
  },
  {
   "cell_type": "code",
   "execution_count": 6,
   "metadata": {},
   "outputs": [
    {
     "data": {
      "text/html": [
       "<div>\n",
       "<style scoped>\n",
       "    .dataframe tbody tr th:only-of-type {\n",
       "        vertical-align: middle;\n",
       "    }\n",
       "\n",
       "    .dataframe tbody tr th {\n",
       "        vertical-align: top;\n",
       "    }\n",
       "\n",
       "    .dataframe thead th {\n",
       "        text-align: right;\n",
       "    }\n",
       "</style>\n",
       "<table border=\"1\" class=\"dataframe\">\n",
       "  <thead>\n",
       "    <tr style=\"text-align: right;\">\n",
       "      <th></th>\n",
       "      <th>Id</th>\n",
       "      <th>age</th>\n",
       "      <th>domain1_var1</th>\n",
       "      <th>domain1_var2</th>\n",
       "      <th>domain2_var1</th>\n",
       "      <th>domain2_var2</th>\n",
       "    </tr>\n",
       "  </thead>\n",
       "  <tbody>\n",
       "    <tr>\n",
       "      <th>0</th>\n",
       "      <td>10001</td>\n",
       "      <td>57.436077</td>\n",
       "      <td>30.571975</td>\n",
       "      <td>62.553736</td>\n",
       "      <td>53.325130</td>\n",
       "      <td>51.427998</td>\n",
       "    </tr>\n",
       "    <tr>\n",
       "      <th>1</th>\n",
       "      <td>10002</td>\n",
       "      <td>59.580851</td>\n",
       "      <td>50.969456</td>\n",
       "      <td>67.470628</td>\n",
       "      <td>60.651856</td>\n",
       "      <td>58.311361</td>\n",
       "    </tr>\n",
       "    <tr>\n",
       "      <th>2</th>\n",
       "      <td>10004</td>\n",
       "      <td>71.413018</td>\n",
       "      <td>53.152498</td>\n",
       "      <td>58.012103</td>\n",
       "      <td>52.418389</td>\n",
       "      <td>62.536641</td>\n",
       "    </tr>\n",
       "    <tr>\n",
       "      <th>3</th>\n",
       "      <td>10005</td>\n",
       "      <td>66.532630</td>\n",
       "      <td>NaN</td>\n",
       "      <td>NaN</td>\n",
       "      <td>52.108977</td>\n",
       "      <td>69.993075</td>\n",
       "    </tr>\n",
       "    <tr>\n",
       "      <th>4</th>\n",
       "      <td>10007</td>\n",
       "      <td>38.617381</td>\n",
       "      <td>49.197021</td>\n",
       "      <td>65.674285</td>\n",
       "      <td>40.151376</td>\n",
       "      <td>34.096421</td>\n",
       "    </tr>\n",
       "    <tr>\n",
       "      <th>...</th>\n",
       "      <td>...</td>\n",
       "      <td>...</td>\n",
       "      <td>...</td>\n",
       "      <td>...</td>\n",
       "      <td>...</td>\n",
       "      <td>...</td>\n",
       "    </tr>\n",
       "    <tr>\n",
       "      <th>5872</th>\n",
       "      <td>21746</td>\n",
       "      <td>14.257265</td>\n",
       "      <td>21.358872</td>\n",
       "      <td>61.165998</td>\n",
       "      <td>51.778483</td>\n",
       "      <td>54.640179</td>\n",
       "    </tr>\n",
       "    <tr>\n",
       "      <th>5873</th>\n",
       "      <td>21747</td>\n",
       "      <td>55.456978</td>\n",
       "      <td>68.169675</td>\n",
       "      <td>29.907995</td>\n",
       "      <td>55.349257</td>\n",
       "      <td>54.019517</td>\n",
       "    </tr>\n",
       "    <tr>\n",
       "      <th>5874</th>\n",
       "      <td>21750</td>\n",
       "      <td>48.948756</td>\n",
       "      <td>55.114811</td>\n",
       "      <td>60.878271</td>\n",
       "      <td>38.617246</td>\n",
       "      <td>50.679885</td>\n",
       "    </tr>\n",
       "    <tr>\n",
       "      <th>5875</th>\n",
       "      <td>21752</td>\n",
       "      <td>66.532630</td>\n",
       "      <td>59.844808</td>\n",
       "      <td>72.303110</td>\n",
       "      <td>55.458281</td>\n",
       "      <td>46.870235</td>\n",
       "    </tr>\n",
       "    <tr>\n",
       "      <th>5876</th>\n",
       "      <td>21754</td>\n",
       "      <td>68.820928</td>\n",
       "      <td>56.594193</td>\n",
       "      <td>34.605868</td>\n",
       "      <td>49.922535</td>\n",
       "      <td>50.383078</td>\n",
       "    </tr>\n",
       "  </tbody>\n",
       "</table>\n",
       "<p>5877 rows × 6 columns</p>\n",
       "</div>"
      ],
      "text/plain": [
       "         Id        age  domain1_var1  domain1_var2  domain2_var1  domain2_var2\n",
       "0     10001  57.436077     30.571975     62.553736     53.325130     51.427998\n",
       "1     10002  59.580851     50.969456     67.470628     60.651856     58.311361\n",
       "2     10004  71.413018     53.152498     58.012103     52.418389     62.536641\n",
       "3     10005  66.532630           NaN           NaN     52.108977     69.993075\n",
       "4     10007  38.617381     49.197021     65.674285     40.151376     34.096421\n",
       "...     ...        ...           ...           ...           ...           ...\n",
       "5872  21746  14.257265     21.358872     61.165998     51.778483     54.640179\n",
       "5873  21747  55.456978     68.169675     29.907995     55.349257     54.019517\n",
       "5874  21750  48.948756     55.114811     60.878271     38.617246     50.679885\n",
       "5875  21752  66.532630     59.844808     72.303110     55.458281     46.870235\n",
       "5876  21754  68.820928     56.594193     34.605868     49.922535     50.383078\n",
       "\n",
       "[5877 rows x 6 columns]"
      ]
     },
     "execution_count": 6,
     "metadata": {},
     "output_type": "execute_result"
    }
   ],
   "source": [
    "data = pd.read_csv('00_Data/train_scores.csv')\n",
    "data"
   ]
  },
  {
   "cell_type": "code",
   "execution_count": 7,
   "metadata": {},
   "outputs": [
    {
     "data": {
      "text/plain": [
       "Id                0\n",
       "age               0\n",
       "domain1_var1    438\n",
       "domain1_var2    438\n",
       "domain2_var1     39\n",
       "domain2_var2     39\n",
       "dtype: int64"
      ]
     },
     "execution_count": 7,
     "metadata": {},
     "output_type": "execute_result"
    }
   ],
   "source": [
    "data.isnull().sum()"
   ]
  },
  {
   "cell_type": "code",
   "execution_count": 8,
   "metadata": {},
   "outputs": [],
   "source": [
    "data = data.dropna()"
   ]
  },
  {
   "cell_type": "code",
   "execution_count": 9,
   "metadata": {},
   "outputs": [
    {
     "name": "stdout",
     "output_type": "stream",
     "text": [
      "Dataset length:  5434\n"
     ]
    }
   ],
   "source": [
    "print('Dataset length: ', len(data.index))"
   ]
  },
  {
   "cell_type": "code",
   "execution_count": 10,
   "metadata": {},
   "outputs": [],
   "source": [
    "def get_inputs_fnc(idx, labels):\n",
    "    df = pd.read_csv('00_Data/fnc_csv/{0}.csv'.format(idx), index_col=0)\n",
    "    X = np.array(df.values).reshape(-1)\n",
    "    return X, labels"
   ]
  },
  {
   "cell_type": "code",
   "execution_count": 11,
   "metadata": {},
   "outputs": [],
   "source": [
    "def map_decorator(func):\n",
    "    def wrapper(idx, labels):\n",
    "        # Use a tf.py_function to prevent auto-graph from compiling the method\n",
    "        return tf.py_function(\n",
    "            func,\n",
    "            inp=(idx, labels),\n",
    "            Tout=(tf.float64, tf.float64))\n",
    "    return wrapper"
   ]
  },
  {
   "cell_type": "code",
   "execution_count": 12,
   "metadata": {},
   "outputs": [],
   "source": [
    "def get_dataset(data, batch_size):\n",
    "    data = tf.data.Dataset.from_tensor_slices((data['Id'].values, \n",
    "                                               data[['age', 'domain1_var1', 'domain1_var2', 'domain2_var1', 'domain2_var2']].values))\n",
    "    data = data.shuffle(buffer_size=5500, seed=30, reshuffle_each_iteration=True)\n",
    "    data = data.map(map_decorator(get_inputs_fnc), \n",
    "                     num_parallel_calls=tf.data.experimental.AUTOTUNE, \n",
    "                     deterministic=True)\n",
    "    data = data.batch(batch_size, drop_remainder=True)\n",
    "    data = data.prefetch(tf.data.experimental.AUTOTUNE)\n",
    "    return data"
   ]
  },
  {
   "cell_type": "code",
   "execution_count": 13,
   "metadata": {},
   "outputs": [],
   "source": [
    "train, test = model_selection.train_test_split(data, test_size=0.3, shuffle=True, random_state=30)\n",
    "train, val = model_selection.train_test_split(train, test_size=0.2, shuffle=True, random_state=30)"
   ]
  },
  {
   "cell_type": "code",
   "execution_count": 14,
   "metadata": {},
   "outputs": [],
   "source": [
    "batch_size = 64\n",
    "\n",
    "ds_train = get_dataset(train, batch_size)\n",
    "ds_val = get_dataset(val, batch_size)\n",
    "ds_test = get_dataset(test, batch_size)"
   ]
  },
  {
   "cell_type": "code",
   "execution_count": 15,
   "metadata": {},
   "outputs": [],
   "source": [
    "INPUT_SHAPE_fnc = (1378,)"
   ]
  },
  {
   "cell_type": "code",
   "execution_count": 38,
   "metadata": {},
   "outputs": [],
   "source": [
    "inputs_fnc = keras.layers.Input(shape=INPUT_SHAPE_fnc)\n",
    "\n",
    "# hidden layer\n",
    "x = keras.layers.Dense(512,\n",
    "                           kernel_initializer=keras.initializers.he_normal(seed=30),\n",
    "                           bias_initializer=keras.initializers.Constant(5.))(inputs_fnc)\n",
    "x = tf.keras.layers.PReLU(alpha_initializer=keras.initializers.Constant(0.5))(x)\n",
    "x = keras.layers.Dropout(rate=0.3, seed=30)(x)\n",
    "\n",
    "x = keras.layers.Dense(512,\n",
    "                           kernel_initializer=keras.initializers.he_normal(seed=30),\n",
    "                           bias_initializer=keras.initializers.Constant(5.))(x)\n",
    "x = tf.keras.layers.PReLU(alpha_initializer=keras.initializers.Constant(0.5))(x)\n",
    "x = keras.layers.Dropout(rate=0.3, seed=30)(x)\n",
    "\n",
    "# output\n",
    "outputs = keras.layers.Dense(5, activation='linear')(x)"
   ]
  },
  {
   "cell_type": "code",
   "execution_count": 39,
   "metadata": {},
   "outputs": [],
   "source": [
    "model = keras.Model(inputs=inputs_fnc, outputs=outputs, name='test_model')"
   ]
  },
  {
   "cell_type": "code",
   "execution_count": 40,
   "metadata": {},
   "outputs": [],
   "source": [
    "optim = keras.optimizers.Adam(lr=0.000002,\n",
    "                                 beta_1=0.99,\n",
    "                                 beta_2=0.999,\n",
    "                                 amsgrad=False)\n",
    "        \n",
    "METRICS = [keras.metrics.RootMeanSquaredError(name='rmse'),\n",
    "           keras.metrics.MeanSquaredError(name='mse'),\n",
    "           keras.metrics.MeanAbsoluteError(name='mae')]"
   ]
  },
  {
   "cell_type": "code",
   "execution_count": 41,
   "metadata": {},
   "outputs": [],
   "source": [
    "def weighted_mae(y_true, y_pred):\n",
    "#     tf.print(y_true)\n",
    "    W = tf.constant([[0.3, 0.175, 0.175, 0.175, 0.175]])\n",
    "#     tf.print(W / tf.math.reduce_mean(y_true, axis=0))\n",
    "    return tf.math.reduce_mean(tf.linalg.matmul(tf.math.abs(y_pred - y_true), tf.transpose(W / tf.math.reduce_mean(y_true, axis=0))), axis=0)"
   ]
  },
  {
   "cell_type": "code",
   "execution_count": 42,
   "metadata": {},
   "outputs": [],
   "source": [
    "model.compile(loss=weighted_mae, metrics=METRICS, optimizer=optim)"
   ]
  },
  {
   "cell_type": "code",
   "execution_count": 43,
   "metadata": {},
   "outputs": [],
   "source": [
    "# Define the checkpoint directory to store the checkpoints\n",
    "# Name of the checkpoint files\n",
    "checkpoint_prefix = os.path.join('./99_Training_checkpoints/fnc', \"ckpt_{epoch}\")"
   ]
  },
  {
   "cell_type": "code",
   "execution_count": 44,
   "metadata": {},
   "outputs": [],
   "source": [
    "callbacks = [tf.keras.callbacks.TensorBoard(log_dir='./99_Logs/fnc'),\n",
    "             tf.keras.callbacks.ModelCheckpoint(filepath=checkpoint_prefix,\n",
    "                                                save_weights_only=False),\n",
    "             tf.keras.callbacks.ReduceLROnPlateau(monitor='val_loss', \n",
    "                                                  factor=0.7, \n",
    "                                                  patience=2, \n",
    "                                                  verbose=1, \n",
    "                                                  mode='min',\n",
    "                                                  min_delta=0.01, \n",
    "                                                  cooldown=5, \n",
    "                                                  min_lr=0.00000001),\n",
    "             tf.keras.callbacks.EarlyStopping(monitor='val_loss', \n",
    "                                              min_delta=0.001, \n",
    "                                              patience=10, \n",
    "                                              verbose=1, \n",
    "                                              mode='min',\n",
    "                                              baseline=None, \n",
    "                                              restore_best_weights=True)]"
   ]
  },
  {
   "cell_type": "code",
   "execution_count": 45,
   "metadata": {},
   "outputs": [],
   "source": [
    "# def decay(epoch):\n",
    "#     if epoch < 2:\n",
    "#         return 0.01\n",
    "#     elif epoch >= 2 and epoch < 10:\n",
    "#         return 0.005\n",
    "#     else:\n",
    "#         return 1e-4"
   ]
  },
  {
   "cell_type": "code",
   "execution_count": 46,
   "metadata": {},
   "outputs": [],
   "source": [
    "# callbacks = [tf.keras.callbacks.LearningRateScheduler(decay)]"
   ]
  },
  {
   "cell_type": "code",
   "execution_count": 26,
   "metadata": {},
   "outputs": [
    {
     "name": "stdout",
     "output_type": "stream",
     "text": [
      "Epoch 1/300\n",
      "47/47 [==============================] - ETA: 0s - loss: 1.0196 - rmse: 56.4216 - mse: 3183.4001 - mae: 52.9378WARNING:tensorflow:From c:\\00_data\\python38\\lib\\site-packages\\tensorflow\\python\\ops\\resource_variable_ops.py:1813: calling BaseResourceVariable.__init__ (from tensorflow.python.ops.resource_variable_ops) with constraint is deprecated and will be removed in a future version.\n",
      "Instructions for updating:\n",
      "If using Keras pass *_constraint arguments to layers.\n",
      "INFO:tensorflow:Assets written to: ./99_Training_checkpoints/fnc\\ckpt_1\\assets\n",
      "47/47 [==============================] - 8s 180ms/step - loss: 1.0196 - rmse: 56.4216 - mse: 3183.4001 - mae: 52.9378 - val_loss: 0.9890 - val_rmse: 53.8878 - val_mse: 2903.8938 - val_mae: 51.2633 - lr: 2.0000e-06\n",
      "Epoch 2/300\n",
      "47/47 [==============================] - ETA: 0s - loss: 0.9853 - rmse: 54.8048 - mse: 3003.5664 - mae: 51.2649INFO:tensorflow:Assets written to: ./99_Training_checkpoints/fnc\\ckpt_2\\assets\n",
      "47/47 [==============================] - 9s 181ms/step - loss: 0.9853 - rmse: 54.8048 - mse: 3003.5664 - mae: 51.2649 - val_loss: 0.9531 - val_rmse: 52.3203 - val_mse: 2737.4084 - val_mae: 49.6157 - lr: 2.0000e-06\n",
      "Epoch 3/300\n",
      "47/47 [==============================] - ETA: 0s - loss: 0.9503 - rmse: 53.1990 - mse: 2830.1360 - mae: 49.5575INFO:tensorflow:Assets written to: ./99_Training_checkpoints/fnc\\ckpt_3\\assets\n",
      "47/47 [==============================] - 8s 178ms/step - loss: 0.9503 - rmse: 53.1990 - mse: 2830.1360 - mae: 49.5575 - val_loss: 0.9170 - val_rmse: 50.6841 - val_mse: 2568.8799 - val_mae: 47.8486 - lr: 2.0000e-06\n",
      "Epoch 4/300\n",
      "47/47 [==============================] - ETA: 0s - loss: 0.9162 - rmse: 51.7599 - mse: 2679.0815 - mae: 47.9854INFO:tensorflow:Assets written to: ./99_Training_checkpoints/fnc\\ckpt_4\\assets\n",
      "47/47 [==============================] - 9s 194ms/step - loss: 0.9162 - rmse: 51.7599 - mse: 2679.0815 - mae: 47.9854 - val_loss: 0.8818 - val_rmse: 49.2086 - val_mse: 2421.4824 - val_mae: 46.2690 - lr: 2.0000e-06\n",
      "Epoch 5/300\n",
      "47/47 [==============================] - ETA: 0s - loss: 0.8807 - rmse: 50.1382 - mse: 2513.8379 - mae: 46.2688INFO:tensorflow:Assets written to: ./99_Training_checkpoints/fnc\\ckpt_5\\assets\n",
      "47/47 [==============================] - 9s 183ms/step - loss: 0.8807 - rmse: 50.1382 - mse: 2513.8379 - mae: 46.2688 - val_loss: 0.8463 - val_rmse: 47.6002 - val_mse: 2265.7764 - val_mae: 44.5355 - lr: 2.0000e-06\n",
      "Epoch 6/300\n",
      "47/47 [==============================] - ETA: 0s - loss: 0.8475 - rmse: 48.7463 - mse: 2376.2012 - mae: 44.7224INFO:tensorflow:Assets written to: ./99_Training_checkpoints/fnc\\ckpt_6\\assets\n",
      "47/47 [==============================] - 9s 188ms/step - loss: 0.8475 - rmse: 48.7463 - mse: 2376.2012 - mae: 44.7224 - val_loss: 0.8107 - val_rmse: 46.0624 - val_mse: 2121.7490 - val_mae: 42.8606 - lr: 2.0000e-06\n",
      "Epoch 7/300\n",
      "47/47 [==============================] - ETA: 0s - loss: 0.8107 - rmse: 47.1392 - mse: 2222.1045 - mae: 42.9670INFO:tensorflow:Assets written to: ./99_Training_checkpoints/fnc\\ckpt_7\\assets\n",
      "47/47 [==============================] - 9s 182ms/step - loss: 0.8107 - rmse: 47.1392 - mse: 2222.1045 - mae: 42.9670 - val_loss: 0.7763 - val_rmse: 44.6198 - val_mse: 1990.9258 - val_mae: 41.3131 - lr: 2.0000e-06\n",
      "Epoch 8/300\n",
      "47/47 [==============================] - ETA: 0s - loss: 0.7795 - rmse: 45.6101 - mse: 2080.2830 - mae: 41.3836INFO:tensorflow:Assets written to: ./99_Training_checkpoints/fnc\\ckpt_8\\assets\n",
      "47/47 [==============================] - 8s 177ms/step - loss: 0.7795 - rmse: 45.6101 - mse: 2080.2830 - mae: 41.3836 - val_loss: 0.7411 - val_rmse: 42.9808 - val_mse: 1847.3461 - val_mae: 39.5632 - lr: 2.0000e-06\n",
      "Epoch 9/300\n",
      "47/47 [==============================] - ETA: 0s - loss: 0.7485 - rmse: 44.2465 - mse: 1957.7494 - mae: 39.8889INFO:tensorflow:Assets written to: ./99_Training_checkpoints/fnc\\ckpt_9\\assets\n",
      "47/47 [==============================] - 8s 177ms/step - loss: 0.7485 - rmse: 44.2465 - mse: 1957.7494 - mae: 39.8889 - val_loss: 0.7063 - val_rmse: 41.4838 - val_mse: 1720.9089 - val_mae: 37.9099 - lr: 2.0000e-06\n",
      "Epoch 10/300\n",
      "47/47 [==============================] - ETA: 0s - loss: 0.7176 - rmse: 42.8899 - mse: 1839.5426 - mae: 38.4546INFO:tensorflow:Assets written to: ./99_Training_checkpoints/fnc\\ckpt_10\\assets\n",
      "47/47 [==============================] - 8s 180ms/step - loss: 0.7176 - rmse: 42.8899 - mse: 1839.5426 - mae: 38.4546 - val_loss: 0.6726 - val_rmse: 39.9668 - val_mse: 1597.3439 - val_mae: 36.2814 - lr: 2.0000e-06\n",
      "Epoch 11/300\n",
      "47/47 [==============================] - ETA: 0s - loss: 0.6828 - rmse: 41.3371 - mse: 1708.7568 - mae: 36.7692INFO:tensorflow:Assets written to: ./99_Training_checkpoints/fnc\\ckpt_11\\assets\n",
      "47/47 [==============================] - 9s 189ms/step - loss: 0.6828 - rmse: 41.3371 - mse: 1708.7568 - mae: 36.7692 - val_loss: 0.6408 - val_rmse: 38.5685 - val_mse: 1487.5275 - val_mae: 34.7872 - lr: 2.0000e-06\n",
      "Epoch 12/300\n",
      "47/47 [==============================] - ETA: 0s - loss: 0.6526 - rmse: 39.8694 - mse: 1589.5703 - mae: 35.2667- ETA: 3s - loss: 0.6574 - rmse: 40.1320 - INFO:tensorflow:Assets written to: ./99_Training_checkpoints/fnc\\ckpt_12\\assets\n",
      "47/47 [==============================] - 8s 179ms/step - loss: 0.6526 - rmse: 39.8694 - mse: 1589.5703 - mae: 35.2667 - val_loss: 0.6077 - val_rmse: 36.9708 - val_mse: 1366.8400 - val_mae: 33.0904 - lr: 2.0000e-06\n",
      "Epoch 13/300\n",
      "47/47 [==============================] - ETA: 0s - loss: 0.6243 - rmse: 38.5564 - mse: 1486.5973 - mae: 33.8727INFO:tensorflow:Assets written to: ./99_Training_checkpoints/fnc\\ckpt_13\\assets\n",
      "47/47 [==============================] - 9s 182ms/step - loss: 0.6243 - rmse: 38.5564 - mse: 1486.5973 - mae: 33.8727 - val_loss: 0.5765 - val_rmse: 35.5314 - val_mse: 1262.4771 - val_mae: 31.5553 - lr: 2.0000e-06\n",
      "Epoch 14/300\n",
      "47/47 [==============================] - ETA: 0s - loss: 0.5944 - rmse: 36.9649 - mse: 1366.4069 - mae: 32.3113INFO:tensorflow:Assets written to: ./99_Training_checkpoints/fnc\\ckpt_14\\assets\n",
      "47/47 [==============================] - 9s 182ms/step - loss: 0.5944 - rmse: 36.9649 - mse: 1366.4069 - mae: 32.3113 - val_loss: 0.5474 - val_rmse: 34.1111 - val_mse: 1163.5645 - val_mae: 30.1286 - lr: 2.0000e-06\n",
      "Epoch 15/300\n",
      "47/47 [==============================] - ETA: 0s - loss: 0.5663 - rmse: 35.4651 - mse: 1257.7765 - mae: 30.8134INFO:tensorflow:Assets written to: ./99_Training_checkpoints/fnc\\ckpt_15\\assets\n",
      "47/47 [==============================] - 8s 178ms/step - loss: 0.5663 - rmse: 35.4651 - mse: 1257.7765 - mae: 30.8134 - val_loss: 0.5193 - val_rmse: 32.5793 - val_mse: 1061.4131 - val_mae: 28.6394 - lr: 2.0000e-06\n",
      "Epoch 16/300\n",
      "47/47 [==============================] - ETA: 0s - loss: 0.5419 - rmse: 34.2110 - mse: 1170.3926 - mae: 29.5474INFO:tensorflow:Assets written to: ./99_Training_checkpoints/fnc\\ckpt_16\\assets\n",
      "47/47 [==============================] - 9s 188ms/step - loss: 0.5419 - rmse: 34.2110 - mse: 1170.3926 - mae: 29.5474 - val_loss: 0.4929 - val_rmse: 31.1346 - val_mse: 969.3653 - val_mae: 27.2407 - lr: 2.0000e-06\n",
      "Epoch 17/300\n",
      "47/47 [==============================] - ETA: 0s - loss: 0.5191 - rmse: 33.0256 - mse: 1090.6923 - mae: 28.3197INFO:tensorflow:Assets written to: ./99_Training_checkpoints/fnc\\ckpt_17\\assets\n",
      "47/47 [==============================] - 9s 193ms/step - loss: 0.5191 - rmse: 33.0256 - mse: 1090.6923 - mae: 28.3197 - val_loss: 0.4664 - val_rmse: 29.6508 - val_mse: 879.1715 - val_mae: 25.7794 - lr: 2.0000e-06\n",
      "Epoch 18/300\n",
      "47/47 [==============================] - ETA: 0s - loss: 0.4967 - rmse: 31.6075 - mse: 999.0322 - mae: 27.0522 INFO:tensorflow:Assets written to: ./99_Training_checkpoints/fnc\\ckpt_18\\assets\n",
      "47/47 [==============================] - 9s 182ms/step - loss: 0.4967 - rmse: 31.6075 - mse: 999.0322 - mae: 27.0522 - val_loss: 0.4406 - val_rmse: 28.1932 - val_mse: 794.8574 - val_mae: 24.3899 - lr: 2.0000e-06\n",
      "Epoch 19/300\n",
      "47/47 [==============================] - ETA: 0s - loss: 0.4737 - rmse: 30.3501 - mse: 921.1257 - mae: 25.8129INFO:tensorflow:Assets written to: ./99_Training_checkpoints/fnc\\ckpt_19\\assets\n",
      "47/47 [==============================] - 9s 182ms/step - loss: 0.4737 - rmse: 30.3501 - mse: 921.1257 - mae: 25.8129 - val_loss: 0.4184 - val_rmse: 26.8416 - val_mse: 720.4741 - val_mae: 23.1461 - lr: 2.0000e-06\n",
      "Epoch 20/300\n",
      "47/47 [==============================] - ETA: 0s - loss: 0.4482 - rmse: 28.9403 - mse: 837.5416 - mae: 24.4079INFO:tensorflow:Assets written to: ./99_Training_checkpoints/fnc\\ckpt_20\\assets\n",
      "47/47 [==============================] - 8s 179ms/step - loss: 0.4482 - rmse: 28.9403 - mse: 837.5416 - mae: 24.4079 - val_loss: 0.3942 - val_rmse: 25.2655 - val_mse: 638.3445 - val_mae: 21.7114 - lr: 2.0000e-06\n",
      "Epoch 21/300\n",
      "47/47 [==============================] - ETA: 0s - loss: 0.4284 - rmse: 27.6104 - mse: 762.3354 - mae: 23.1934INFO:tensorflow:Assets written to: ./99_Training_checkpoints/fnc\\ckpt_21\\assets\n",
      "47/47 [==============================] - 8s 178ms/step - loss: 0.4284 - rmse: 27.6104 - mse: 762.3354 - mae: 23.1934 - val_loss: 0.3724 - val_rmse: 23.9738 - val_mse: 574.7408 - val_mae: 20.4921 - lr: 2.0000e-06\n",
      "Epoch 22/300\n",
      "47/47 [==============================] - ETA: 0s - loss: 0.4053 - rmse: 26.1728 - mse: 685.0158 - mae: 21.9169INFO:tensorflow:Assets written to: ./99_Training_checkpoints/fnc\\ckpt_22\\assets\n",
      "47/47 [==============================] - 8s 178ms/step - loss: 0.4053 - rmse: 26.1728 - mse: 685.0158 - mae: 21.9169 - val_loss: 0.3507 - val_rmse: 22.5787 - val_mse: 509.7956 - val_mae: 19.2302 - lr: 2.0000e-06\n",
      "Epoch 23/300\n",
      "47/47 [==============================] - ETA: 0s - loss: 0.3864 - rmse: 25.0704 - mse: 628.5273 - mae: 20.8224INFO:tensorflow:Assets written to: ./99_Training_checkpoints/fnc\\ckpt_23\\assets\n",
      "47/47 [==============================] - 8s 176ms/step - loss: 0.3864 - rmse: 25.0704 - mse: 628.5273 - mae: 20.8224 - val_loss: 0.3307 - val_rmse: 21.2921 - val_mse: 453.3547 - val_mae: 18.0433 - lr: 2.0000e-06\n",
      "Epoch 24/300\n",
      "47/47 [==============================] - ETA: 0s - loss: 0.3735 - rmse: 24.1956 - mse: 585.4249 - mae: 19.9895INFO:tensorflow:Assets written to: ./99_Training_checkpoints/fnc\\ckpt_24\\assets\n",
      "47/47 [==============================] - 9s 188ms/step - loss: 0.3735 - rmse: 24.1956 - mse: 585.4249 - mae: 19.9895 - val_loss: 0.3113 - val_rmse: 20.0070 - val_mse: 400.2801 - val_mae: 16.8827 - lr: 2.0000e-06\n",
      "Epoch 25/300\n",
      "47/47 [==============================] - ETA: 0s - loss: 0.3519 - rmse: 22.8868 - mse: 523.8043 - mae: 18.7918INFO:tensorflow:Assets written to: ./99_Training_checkpoints/fnc\\ckpt_25\\assets\n",
      "47/47 [==============================] - 9s 182ms/step - loss: 0.3519 - rmse: 22.8868 - mse: 523.8043 - mae: 18.7918 - val_loss: 0.2943 - val_rmse: 18.9137 - val_mse: 357.7293 - val_mae: 15.8759 - lr: 2.0000e-06\n",
      "Epoch 26/300\n",
      "47/47 [==============================] - ETA: 0s - loss: 0.3384 - rmse: 21.9471 - mse: 481.6732 - mae: 17.9625INFO:tensorflow:Assets written to: ./99_Training_checkpoints/fnc\\ckpt_26\\assets\n",
      "47/47 [==============================] - 8s 180ms/step - loss: 0.3384 - rmse: 21.9471 - mse: 481.6732 - mae: 17.9625 - val_loss: 0.2777 - val_rmse: 17.7940 - val_mse: 316.6252 - val_mae: 14.8683 - lr: 2.0000e-06\n",
      "Epoch 27/300\n",
      "47/47 [==============================] - ETA: 0s - loss: 0.3264 - rmse: 21.1709 - mse: 448.2066 - mae: 17.2452INFO:tensorflow:Assets written to: ./99_Training_checkpoints/fnc\\ckpt_27\\assets\n",
      "47/47 [==============================] - 8s 180ms/step - loss: 0.3264 - rmse: 21.1709 - mse: 448.2066 - mae: 17.2452 - val_loss: 0.2628 - val_rmse: 16.7726 - val_mse: 281.3195 - val_mae: 13.9527 - lr: 2.0000e-06\n",
      "Epoch 28/300\n",
      "47/47 [==============================] - ETA: 0s - loss: 0.3147 - rmse: 20.2842 - mse: 411.4484 - mae: 16.4903INFO:tensorflow:Assets written to: ./99_Training_checkpoints/fnc\\ckpt_28\\assets\n",
      "47/47 [==============================] - 8s 178ms/step - loss: 0.3147 - rmse: 20.2842 - mse: 411.4484 - mae: 16.4903 - val_loss: 0.2481 - val_rmse: 15.8046 - val_mse: 249.7855 - val_mae: 13.0876 - lr: 2.0000e-06\n",
      "Epoch 29/300\n",
      "47/47 [==============================] - ETA: 0s - loss: 0.3034 - rmse: 19.5433 - mse: 381.9408 - mae: 15.8191INFO:tensorflow:Assets written to: ./99_Training_checkpoints/fnc\\ckpt_29\\assets\n",
      "47/47 [==============================] - 8s 178ms/step - loss: 0.3034 - rmse: 19.5433 - mse: 381.9408 - mae: 15.8191 - val_loss: 0.2358 - val_rmse: 14.9383 - val_mse: 223.1520 - val_mae: 12.3085 - lr: 2.0000e-06\n",
      "Epoch 30/300\n",
      "47/47 [==============================] - ETA: 0s - loss: 0.2991 - rmse: 19.1694 - mse: 367.4648 - mae: 15.5142INFO:tensorflow:Assets written to: ./99_Training_checkpoints/fnc\\ckpt_30\\assets\n",
      "47/47 [==============================] - 9s 181ms/step - loss: 0.2991 - rmse: 19.1694 - mse: 367.4648 - mae: 15.5142 - val_loss: 0.2263 - val_rmse: 14.3077 - val_mse: 204.7104 - val_mae: 11.7172 - lr: 2.0000e-06\n",
      "Epoch 31/300\n",
      "47/47 [==============================] - ETA: 0s - loss: 0.2844 - rmse: 18.2907 - mse: 334.5501 - mae: 14.7209INFO:tensorflow:Assets written to: ./99_Training_checkpoints/fnc\\ckpt_31\\assets\n",
      "47/47 [==============================] - 9s 182ms/step - loss: 0.2844 - rmse: 18.2907 - mse: 334.5501 - mae: 14.7209 - val_loss: 0.2170 - val_rmse: 13.6965 - val_mse: 187.5929 - val_mae: 11.1439 - lr: 2.0000e-06\n",
      "Epoch 32/300\n",
      "47/47 [==============================] - ETA: 0s - loss: 0.2771 - rmse: 17.7499 - mse: 315.0582 - mae: 14.2785INFO:tensorflow:Assets written to: ./99_Training_checkpoints/fnc\\ckpt_32\\assets\n",
      "47/47 [==============================] - 9s 184ms/step - loss: 0.2771 - rmse: 17.7499 - mse: 315.0582 - mae: 14.2785 - val_loss: 0.2094 - val_rmse: 13.2313 - val_mse: 175.0675 - val_mae: 10.7038 - lr: 2.0000e-06\n",
      "Epoch 33/300\n",
      "47/47 [==============================] - ETA: 0s - loss: 0.2769 - rmse: 17.7550 - mse: 315.2399 - mae: 14.2189INFO:tensorflow:Assets written to: ./99_Training_checkpoints/fnc\\ckpt_33\\assets\n",
      "47/47 [==============================] - 9s 185ms/step - loss: 0.2769 - rmse: 17.7550 - mse: 315.2399 - mae: 14.2189 - val_loss: 0.2039 - val_rmse: 12.7821 - val_mse: 163.3831 - val_mae: 10.3452 - lr: 2.0000e-06\n",
      "Epoch 34/300\n",
      "47/47 [==============================] - ETA: 0s - loss: 0.2721 - rmse: 17.3574 - mse: 301.2808 - mae: 13.9192INFO:tensorflow:Assets written to: ./99_Training_checkpoints/fnc\\ckpt_34\\assets\n",
      "47/47 [==============================] - 9s 185ms/step - loss: 0.2721 - rmse: 17.3574 - mse: 301.2808 - mae: 13.9192 - val_loss: 0.1999 - val_rmse: 12.5025 - val_mse: 156.3129 - val_mae: 10.0750 - lr: 2.0000e-06\n",
      "Epoch 35/300\n",
      "47/47 [==============================] - ETA: 0s - loss: 0.2684 - rmse: 17.1572 - mse: 294.3694 - mae: 13.7453INFO:tensorflow:Assets written to: ./99_Training_checkpoints/fnc\\ckpt_35\\assets\n",
      "\n",
      "Epoch 00035: ReduceLROnPlateau reducing learning rate to 1.3999999964653397e-06.\n",
      "47/47 [==============================] - 8s 180ms/step - loss: 0.2684 - rmse: 17.1572 - mse: 294.3694 - mae: 13.7453 - val_loss: 0.1962 - val_rmse: 12.2729 - val_mse: 150.6250 - val_mae: 9.8472 - lr: 2.0000e-06\n",
      "Epoch 36/300\n",
      "47/47 [==============================] - ETA: 0s - loss: 0.2664 - rmse: 16.9319 - mse: 286.6903 - mae: 13.5828INFO:tensorflow:Assets written to: ./99_Training_checkpoints/fnc\\ckpt_36\\assets\n",
      "47/47 [==============================] - 9s 182ms/step - loss: 0.2664 - rmse: 16.9319 - mse: 286.6903 - mae: 13.5828 - val_loss: 0.1925 - val_rmse: 12.0956 - val_mse: 146.3046 - val_mae: 9.6671 - lr: 1.4000e-06\n",
      "Epoch 37/300\n",
      "47/47 [==============================] - ETA: 0s - loss: 0.2634 - rmse: 16.7408 - mse: 280.2548 - mae: 13.4351INFO:tensorflow:Assets written to: ./99_Training_checkpoints/fnc\\ckpt_37\\assets\n",
      "47/47 [==============================] - 8s 177ms/step - loss: 0.2634 - rmse: 16.7408 - mse: 280.2548 - mae: 13.4351 - val_loss: 0.1915 - val_rmse: 12.0002 - val_mse: 144.0043 - val_mae: 9.5806 - lr: 1.4000e-06\n",
      "Epoch 38/300\n",
      "47/47 [==============================] - ETA: 0s - loss: 0.2673 - rmse: 16.9811 - mse: 288.3571 - mae: 13.5875INFO:tensorflow:Assets written to: ./99_Training_checkpoints/fnc\\ckpt_38\\assets\n",
      "47/47 [==============================] - 9s 184ms/step - loss: 0.2673 - rmse: 16.9811 - mse: 288.3571 - mae: 13.5875 - val_loss: 0.1922 - val_rmse: 12.0185 - val_mse: 144.4441 - val_mae: 9.5851 - lr: 1.4000e-06\n",
      "Epoch 39/300\n",
      "47/47 [==============================] - ETA: 0s - loss: 0.2625 - rmse: 16.6639 - mse: 277.6854 - mae: 13.3300INFO:tensorflow:Assets written to: ./99_Training_checkpoints/fnc\\ckpt_39\\assets\n",
      "47/47 [==============================] - 9s 183ms/step - loss: 0.2625 - rmse: 16.6639 - mse: 277.6854 - mae: 13.3300 - val_loss: 0.1909 - val_rmse: 11.9630 - val_mse: 143.1131 - val_mae: 9.5398 - lr: 1.4000e-06\n",
      "Epoch 40/300\n",
      "47/47 [==============================] - ETA: 0s - loss: 0.2600 - rmse: 16.5243 - mse: 273.0518 - mae: 13.2182INFO:tensorflow:Assets written to: ./99_Training_checkpoints/fnc\\ckpt_40\\assets\n",
      "47/47 [==============================] - 9s 182ms/step - loss: 0.2600 - rmse: 16.5243 - mse: 273.0518 - mae: 13.2182 - val_loss: 0.1891 - val_rmse: 11.8899 - val_mse: 141.3694 - val_mae: 9.4501 - lr: 1.4000e-06\n",
      "Epoch 41/300\n",
      "47/47 [==============================] - ETA: 0s - loss: 0.2612 - rmse: 16.5834 - mse: 275.0076 - mae: 13.2702INFO:tensorflow:Assets written to: ./99_Training_checkpoints/fnc\\ckpt_41\\assets\n",
      "\n",
      "Epoch 00041: ReduceLROnPlateau reducing learning rate to 9.799999816095806e-07.\n",
      "47/47 [==============================] - 9s 183ms/step - loss: 0.2612 - rmse: 16.5834 - mse: 275.0076 - mae: 13.2702 - val_loss: 0.1894 - val_rmse: 11.8718 - val_mse: 140.9400 - val_mae: 9.4173 - lr: 1.4000e-06\n",
      "Epoch 42/300\n",
      "47/47 [==============================] - ETA: 0s - loss: 0.2612 - rmse: 16.6037 - mse: 275.6829 - mae: 13.2532INFO:tensorflow:Assets written to: ./99_Training_checkpoints/fnc\\ckpt_42\\assets\n",
      "47/47 [==============================] - 8s 180ms/step - loss: 0.2612 - rmse: 16.6037 - mse: 275.6829 - mae: 13.2532 - val_loss: 0.1864 - val_rmse: 11.7387 - val_mse: 137.7964 - val_mae: 9.3077 - lr: 9.8000e-07\n",
      "Epoch 43/300\n",
      "47/47 [==============================] - ETA: 0s - loss: 0.2609 - rmse: 16.5754 - mse: 274.7426 - mae: 13.2526INFO:tensorflow:Assets written to: ./99_Training_checkpoints/fnc\\ckpt_43\\assets\n",
      "47/47 [==============================] - 8s 179ms/step - loss: 0.2609 - rmse: 16.5754 - mse: 274.7426 - mae: 13.2526 - val_loss: 0.1886 - val_rmse: 11.8800 - val_mse: 141.1336 - val_mae: 9.4102 - lr: 9.8000e-07\n",
      "Epoch 44/300\n",
      "47/47 [==============================] - ETA: 0s - loss: 0.2595 - rmse: 16.4826 - mse: 271.6765 - mae: 13.1806INFO:tensorflow:Assets written to: ./99_Training_checkpoints/fnc\\ckpt_44\\assets\n",
      "47/47 [==============================] - 8s 179ms/step - loss: 0.2595 - rmse: 16.4826 - mse: 271.6765 - mae: 13.1806 - val_loss: 0.1876 - val_rmse: 11.7638 - val_mse: 138.3868 - val_mae: 9.3296 - lr: 9.8000e-07\n",
      "Epoch 45/300\n",
      "47/47 [==============================] - ETA: 0s - loss: 0.2596 - rmse: 16.4562 - mse: 270.8051 - mae: 13.1654INFO:tensorflow:Assets written to: ./99_Training_checkpoints/fnc\\ckpt_45\\assets\n",
      "47/47 [==============================] - 8s 175ms/step - loss: 0.2596 - rmse: 16.4562 - mse: 270.8051 - mae: 13.1654 - val_loss: 0.1879 - val_rmse: 11.7791 - val_mse: 138.7469 - val_mae: 9.3340 - lr: 9.8000e-07\n",
      "Epoch 46/300\n",
      "47/47 [==============================] - ETA: 0s - loss: 0.2571 - rmse: 16.4033 - mse: 269.0692 - mae: 13.0800INFO:tensorflow:Assets written to: ./99_Training_checkpoints/fnc\\ckpt_46\\assets\n",
      "47/47 [==============================] - 9s 182ms/step - loss: 0.2571 - rmse: 16.4033 - mse: 269.0692 - mae: 13.0800 - val_loss: 0.1890 - val_rmse: 11.9044 - val_mse: 141.7145 - val_mae: 9.4128 - lr: 9.8000e-07\n",
      "Epoch 47/300\n",
      "47/47 [==============================] - ETA: 0s - loss: 0.2571 - rmse: 16.3443 - mse: 267.1372 - mae: 13.0309INFO:tensorflow:Assets written to: ./99_Training_checkpoints/fnc\\ckpt_47\\assets\n",
      "\n",
      "Epoch 00047: ReduceLROnPlateau reducing learning rate to 6.859999871267063e-07.\n",
      "47/47 [==============================] - 8s 178ms/step - loss: 0.2571 - rmse: 16.3443 - mse: 267.1372 - mae: 13.0309 - val_loss: 0.1858 - val_rmse: 11.7537 - val_mse: 138.1484 - val_mae: 9.2651 - lr: 9.8000e-07\n",
      "Epoch 48/300\n",
      "47/47 [==============================] - ETA: 0s - loss: 0.2587 - rmse: 16.4205 - mse: 269.6345 - mae: 13.1189INFO:tensorflow:Assets written to: ./99_Training_checkpoints/fnc\\ckpt_48\\assets\n",
      "47/47 [==============================] - 8s 178ms/step - loss: 0.2587 - rmse: 16.4205 - mse: 269.6345 - mae: 13.1189 - val_loss: 0.1873 - val_rmse: 11.8016 - val_mse: 139.2776 - val_mae: 9.3248 - lr: 6.8600e-07\n",
      "Epoch 49/300\n",
      "47/47 [==============================] - ETA: 0s - loss: 0.2616 - rmse: 16.5972 - mse: 275.4659 - mae: 13.2661INFO:tensorflow:Assets written to: ./99_Training_checkpoints/fnc\\ckpt_49\\assets\n",
      "47/47 [==============================] - 8s 180ms/step - loss: 0.2616 - rmse: 16.5972 - mse: 275.4659 - mae: 13.2661 - val_loss: 0.1884 - val_rmse: 11.8459 - val_mse: 140.3244 - val_mae: 9.3456 - lr: 6.8600e-07\n",
      "Epoch 50/300\n",
      "47/47 [==============================] - ETA: 0s - loss: 0.2585 - rmse: 16.4799 - mse: 271.5863 - mae: 13.1206INFO:tensorflow:Assets written to: ./99_Training_checkpoints/fnc\\ckpt_50\\assets\n",
      "47/47 [==============================] - 8s 180ms/step - loss: 0.2585 - rmse: 16.4799 - mse: 271.5863 - mae: 13.1206 - val_loss: 0.1898 - val_rmse: 11.9218 - val_mse: 142.1298 - val_mae: 9.4087 - lr: 6.8600e-07\n",
      "Epoch 51/300\n",
      "47/47 [==============================] - ETA: 0s - loss: 0.2587 - rmse: 16.4554 - mse: 270.7817 - mae: 13.1186INFO:tensorflow:Assets written to: ./99_Training_checkpoints/fnc\\ckpt_51\\assets\n",
      "47/47 [==============================] - 9s 186ms/step - loss: 0.2587 - rmse: 16.4554 - mse: 270.7817 - mae: 13.1186 - val_loss: 0.1882 - val_rmse: 11.8473 - val_mse: 140.3575 - val_mae: 9.3418 - lr: 6.8600e-07\n",
      "Epoch 52/300\n",
      "47/47 [==============================] - ETA: 0s - loss: 0.2595 - rmse: 16.4860 - mse: 271.7873 - mae: 13.1520INFO:tensorflow:Assets written to: ./99_Training_checkpoints/fnc\\ckpt_52\\assets\n",
      "Restoring model weights from the end of the best epoch.\n",
      "47/47 [==============================] - 8s 181ms/step - loss: 0.2595 - rmse: 16.4860 - mse: 271.7873 - mae: 13.1520 - val_loss: 0.1876 - val_rmse: 11.8248 - val_mse: 139.8259 - val_mae: 9.3349 - lr: 6.8600e-07\n",
      "Epoch 00052: early stopping\n"
     ]
    }
   ],
   "source": [
    "with tf.device('/GPU:0'):\n",
    "    hist = model.fit(ds_train,\n",
    "                     validation_data=ds_val,\n",
    "                     callbacks=callbacks,\n",
    "                     epochs=300,\n",
    "                     verbose=1)"
   ]
  },
  {
   "cell_type": "code",
   "execution_count": 27,
   "metadata": {},
   "outputs": [
    {
     "name": "stdout",
     "output_type": "stream",
     "text": [
      "25/25 [==============================] - 3s 128ms/step - loss: 0.1859 - rmse: 11.7236 - mse: 137.4426 - mae: 9.3272\n"
     ]
    }
   ],
   "source": [
    "with tf.device('/GPU:0'):\n",
    "    results = model.evaluate(ds_test, verbose=1)"
   ]
  },
  {
   "cell_type": "code",
   "execution_count": 28,
   "metadata": {},
   "outputs": [
    {
     "data": {
      "text/plain": [
       "Text(0.5, 1.0, 'Metric')"
      ]
     },
     "execution_count": 28,
     "metadata": {},
     "output_type": "execute_result"
    },
    {
     "data": {
      "image/png": "[encoded data removed]",
      "text/plain": [
       "<Figure size 1152x1152 with 4 Axes>"
      ]
     },
     "metadata": {
      "needs_background": "light"
     },
     "output_type": "display_data"
    }
   ],
   "source": [
    "    fig = plt.figure()\n",
    "    fig.set_size_inches(16,16)\n",
    "\n",
    "    ax=fig.add_subplot(3,2,1)\n",
    "    ax.plot(hist.history['rmse'])\n",
    "    ax.plot(hist.history['mse'])\n",
    "    ax.legend(['Metric', 'Loss'])\n",
    "    ax.set_title('Train')\n",
    "\n",
    "    ax=fig.add_subplot(3,2,2)\n",
    "    ax.plot(hist.history['val_rmse'])\n",
    "    ax.plot(hist.history['val_mse'])\n",
    "    ax.legend(['Metric', 'Loss'])\n",
    "    ax.set_title('Test')\n",
    "\n",
    "    ax=fig.add_subplot(3,2,3)\n",
    "    ax.plot(hist.history['loss'])\n",
    "    ax.plot(hist.history['val_loss'])\n",
    "    ax.legend(['Train', 'Test'])\n",
    "    ax.set_title('Loss')\n",
    "\n",
    "    ax=fig.add_subplot(3,2,4)\n",
    "    ax.plot(hist.history['rmse'])\n",
    "    ax.plot(hist.history['val_rmse'])\n",
    "    ax.legend(['Train', 'Test'])\n",
    "    ax.set_title('Metric')"
   ]
  },
  {
   "cell_type": "code",
   "execution_count": 29,
   "metadata": {},
   "outputs": [],
   "source": [
    "X_test = pd.read_csv('00_Data/fnc.csv')"
   ]
  },
  {
   "cell_type": "code",
   "execution_count": 30,
   "metadata": {},
   "outputs": [],
   "source": [
    "X_test = X_test[X_test['Id'].isin(TEST_IDS)]"
   ]
  },
  {
   "cell_type": "code",
   "execution_count": 31,
   "metadata": {},
   "outputs": [],
   "source": [
    "X_test = X_test.to_numpy()"
   ]
  },
  {
   "cell_type": "code",
   "execution_count": 32,
   "metadata": {},
   "outputs": [],
   "source": [
    "X_test = X_test[:,1:]"
   ]
  },
  {
   "cell_type": "code",
   "execution_count": 33,
   "metadata": {},
   "outputs": [],
   "source": [
    "y_preds = model.predict(X_test)"
   ]
  },
  {
   "cell_type": "code",
   "execution_count": 34,
   "metadata": {},
   "outputs": [],
   "source": [
    "y_preds = y_preds.flatten()"
   ]
  },
  {
   "cell_type": "code",
   "execution_count": 35,
   "metadata": {},
   "outputs": [],
   "source": [
    "df_submission = []\n",
    "i = 0\n",
    "for idx in TEST_IDS:\n",
    "    df_submission.append(['{0}_age'.format(idx), y_preds[i]])\n",
    "    df_submission.append(['{0}_domain1_var1'.format(idx), y_preds[i+1]])\n",
    "    df_submission.append(['{0}_domain1_var2'.format(idx), y_preds[i+2]])\n",
    "    df_submission.append(['{0}_domain2_var1'.format(idx), y_preds[i+3]])\n",
    "    df_submission.append(['{0}_domain2_var2'.format(idx), y_preds[i+4]])\n",
    "    i += 5\n",
    "\n",
    "df_submission = pd.DataFrame(df_submission, columns=['Id', 'Predicted'])"
   ]
  },
  {
   "cell_type": "code",
   "execution_count": 36,
   "metadata": {},
   "outputs": [],
   "source": [
    "# df_submission.to_csv('submission_load_mae_01.csv', index=False)"
   ]
  },
  {
   "cell_type": "code",
   "execution_count": 37,
   "metadata": {},
   "outputs": [],
   "source": [
    "df_submission.to_csv('submission_fnc_wmae_01.csv', index=False)"
   ]
  },
  {
   "cell_type": "code",
   "execution_count": null,
   "metadata": {},
   "outputs": [],
   "source": []
  }
 ],
 "metadata": {
  "kernelspec": {
   "display_name": "Python 3",
   "language": "python",
   "name": "python3"
  },
  "language_info": {
   "codemirror_mode": {
    "name": "ipython",
    "version": 3
   },
   "file_extension": ".py",
   "mimetype": "text/x-python",
   "name": "python",
   "nbconvert_exporter": "python",
   "pygments_lexer": "ipython3",
   "version": "3.8.1"
  }
 },
 "nbformat": 4,
 "nbformat_minor": 4
}
