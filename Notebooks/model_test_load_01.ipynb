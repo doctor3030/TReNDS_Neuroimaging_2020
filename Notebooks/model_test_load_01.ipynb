{
 "cells": [
  {
   "cell_type": "code",
   "execution_count": 1,
   "metadata": {
    "scrolled": true
   },
   "outputs": [
    {
     "name": "stderr",
     "output_type": "stream",
     "text": [
      "Using TensorFlow backend.\n"
     ]
    }
   ],
   "source": [
    "%config IPCompleter.greedy=True\n",
    "from IPython.display import IFrame\n",
    "\n",
    "import pandas as pd\n",
    "import numpy as np\n",
    "import string\n",
    "import math\n",
    "\n",
    "import scipy.stats as sts\n",
    "\n",
    "import matplotlib.pyplot as plt\n",
    "import matplotlib.gridspec as gridspec\n",
    "import seaborn as sns\n",
    "\n",
    "from sklearn import preprocessing as prep\n",
    "import sklearn.metrics as metrics\n",
    "import sklearn.model_selection as model_selection\n",
    "from sklearn import discriminant_analysis as disan\n",
    "from sklearn import calibration as calib\n",
    "from sklearn import linear_model as lm\n",
    "from sklearn import svm\n",
    "from sklearn import gaussian_process as gaup\n",
    "from sklearn import mixture as mix\n",
    "from sklearn import tree\n",
    "from sklearn import ensemble as ens\n",
    "\n",
    "import tensorflow as tf\n",
    "from tensorflow import keras\n",
    "\n",
    "# from keras import models as kermdls\n",
    "# from keras import layers as kerlrs\n",
    "# from keras import metrics as kmetrics\n",
    "\n",
    "from hyperas import optim\n",
    "from hyperas.distributions import choice, uniform\n",
    "from hyperopt import Trials, STATUS_OK, tpe\n",
    "\n",
    "import pickle\n",
    "\n",
    "import nilearn as nl\n",
    "from nilearn import plotting, image\n",
    "from nilearn import datasets\n",
    "import nibabel as nb\n",
    "import h5py\n",
    "\n",
    "import os\n",
    "\n",
    "import time"
   ]
  },
  {
   "cell_type": "code",
   "execution_count": 2,
   "metadata": {},
   "outputs": [
    {
     "data": {
      "text/plain": [
       "True"
      ]
     },
     "execution_count": 2,
     "metadata": {},
     "output_type": "execute_result"
    }
   ],
   "source": [
    "tf.test.is_built_with_cuda()"
   ]
  },
  {
   "cell_type": "code",
   "execution_count": 3,
   "metadata": {},
   "outputs": [
    {
     "data": {
      "text/plain": [
       "[PhysicalDevice(name='/physical_device:CPU:0', device_type='CPU'),\n",
       " PhysicalDevice(name='/physical_device:XLA_CPU:0', device_type='XLA_CPU'),\n",
       " PhysicalDevice(name='/physical_device:GPU:0', device_type='GPU'),\n",
       " PhysicalDevice(name='/physical_device:XLA_GPU:0', device_type='XLA_GPU')]"
      ]
     },
     "execution_count": 3,
     "metadata": {},
     "output_type": "execute_result"
    }
   ],
   "source": [
    "tf.config.list_physical_devices()"
   ]
  },
  {
   "cell_type": "code",
   "execution_count": 4,
   "metadata": {},
   "outputs": [
    {
     "name": "stdout",
     "output_type": "stream",
     "text": [
      "[name: \"/device:CPU:0\"\n",
      "device_type: \"CPU\"\n",
      "memory_limit: 268435456\n",
      "locality {\n",
      "}\n",
      "incarnation: 15824613812650858401\n",
      ", name: \"/device:XLA_CPU:0\"\n",
      "device_type: \"XLA_CPU\"\n",
      "memory_limit: 17179869184\n",
      "locality {\n",
      "}\n",
      "incarnation: 5598530179831515854\n",
      "physical_device_desc: \"device: XLA_CPU device\"\n",
      ", name: \"/device:GPU:0\"\n",
      "device_type: \"GPU\"\n",
      "memory_limit: 6589725830\n",
      "locality {\n",
      "  bus_id: 1\n",
      "  links {\n",
      "  }\n",
      "}\n",
      "incarnation: 16186254183552615749\n",
      "physical_device_desc: \"device: 0, name: GeForce GTX 1070 Ti, pci bus id: 0000:01:00.0, compute capability: 6.1\"\n",
      ", name: \"/device:XLA_GPU:0\"\n",
      "device_type: \"XLA_GPU\"\n",
      "memory_limit: 17179869184\n",
      "locality {\n",
      "}\n",
      "incarnation: 15143243302553705551\n",
      "physical_device_desc: \"device: XLA_GPU device\"\n",
      "]\n"
     ]
    }
   ],
   "source": [
    "from tensorflow.python.client import device_lib \n",
    "print(device_lib.list_local_devices())"
   ]
  },
  {
   "cell_type": "code",
   "execution_count": 5,
   "metadata": {},
   "outputs": [],
   "source": [
    "TEST_IDS = [map_id.split('.')[0] for map_id in sorted(os.listdir('00_Data/fMRI_test'))]\n",
    "TRAIN_IDS = [map_id.split('.')[0] for map_id in sorted(os.listdir('00_Data/fMRI_train'))]"
   ]
  },
  {
   "cell_type": "code",
   "execution_count": 7,
   "metadata": {},
   "outputs": [
    {
     "data": {
      "text/html": [
       "<div>\n",
       "<style scoped>\n",
       "    .dataframe tbody tr th:only-of-type {\n",
       "        vertical-align: middle;\n",
       "    }\n",
       "\n",
       "    .dataframe tbody tr th {\n",
       "        vertical-align: top;\n",
       "    }\n",
       "\n",
       "    .dataframe thead th {\n",
       "        text-align: right;\n",
       "    }\n",
       "</style>\n",
       "<table border=\"1\" class=\"dataframe\">\n",
       "  <thead>\n",
       "    <tr style=\"text-align: right;\">\n",
       "      <th></th>\n",
       "      <th>Id</th>\n",
       "      <th>age</th>\n",
       "      <th>domain1_var1</th>\n",
       "      <th>domain1_var2</th>\n",
       "      <th>domain2_var1</th>\n",
       "      <th>domain2_var2</th>\n",
       "    </tr>\n",
       "  </thead>\n",
       "  <tbody>\n",
       "    <tr>\n",
       "      <th>0</th>\n",
       "      <td>10001</td>\n",
       "      <td>57.436077</td>\n",
       "      <td>30.571975</td>\n",
       "      <td>62.553736</td>\n",
       "      <td>53.325130</td>\n",
       "      <td>51.427998</td>\n",
       "    </tr>\n",
       "    <tr>\n",
       "      <th>1</th>\n",
       "      <td>10002</td>\n",
       "      <td>59.580851</td>\n",
       "      <td>50.969456</td>\n",
       "      <td>67.470628</td>\n",
       "      <td>60.651856</td>\n",
       "      <td>58.311361</td>\n",
       "    </tr>\n",
       "    <tr>\n",
       "      <th>2</th>\n",
       "      <td>10004</td>\n",
       "      <td>71.413018</td>\n",
       "      <td>53.152498</td>\n",
       "      <td>58.012103</td>\n",
       "      <td>52.418389</td>\n",
       "      <td>62.536641</td>\n",
       "    </tr>\n",
       "    <tr>\n",
       "      <th>3</th>\n",
       "      <td>10005</td>\n",
       "      <td>66.532630</td>\n",
       "      <td>NaN</td>\n",
       "      <td>NaN</td>\n",
       "      <td>52.108977</td>\n",
       "      <td>69.993075</td>\n",
       "    </tr>\n",
       "    <tr>\n",
       "      <th>4</th>\n",
       "      <td>10007</td>\n",
       "      <td>38.617381</td>\n",
       "      <td>49.197021</td>\n",
       "      <td>65.674285</td>\n",
       "      <td>40.151376</td>\n",
       "      <td>34.096421</td>\n",
       "    </tr>\n",
       "    <tr>\n",
       "      <th>...</th>\n",
       "      <td>...</td>\n",
       "      <td>...</td>\n",
       "      <td>...</td>\n",
       "      <td>...</td>\n",
       "      <td>...</td>\n",
       "      <td>...</td>\n",
       "    </tr>\n",
       "    <tr>\n",
       "      <th>5872</th>\n",
       "      <td>21746</td>\n",
       "      <td>14.257265</td>\n",
       "      <td>21.358872</td>\n",
       "      <td>61.165998</td>\n",
       "      <td>51.778483</td>\n",
       "      <td>54.640179</td>\n",
       "    </tr>\n",
       "    <tr>\n",
       "      <th>5873</th>\n",
       "      <td>21747</td>\n",
       "      <td>55.456978</td>\n",
       "      <td>68.169675</td>\n",
       "      <td>29.907995</td>\n",
       "      <td>55.349257</td>\n",
       "      <td>54.019517</td>\n",
       "    </tr>\n",
       "    <tr>\n",
       "      <th>5874</th>\n",
       "      <td>21750</td>\n",
       "      <td>48.948756</td>\n",
       "      <td>55.114811</td>\n",
       "      <td>60.878271</td>\n",
       "      <td>38.617246</td>\n",
       "      <td>50.679885</td>\n",
       "    </tr>\n",
       "    <tr>\n",
       "      <th>5875</th>\n",
       "      <td>21752</td>\n",
       "      <td>66.532630</td>\n",
       "      <td>59.844808</td>\n",
       "      <td>72.303110</td>\n",
       "      <td>55.458281</td>\n",
       "      <td>46.870235</td>\n",
       "    </tr>\n",
       "    <tr>\n",
       "      <th>5876</th>\n",
       "      <td>21754</td>\n",
       "      <td>68.820928</td>\n",
       "      <td>56.594193</td>\n",
       "      <td>34.605868</td>\n",
       "      <td>49.922535</td>\n",
       "      <td>50.383078</td>\n",
       "    </tr>\n",
       "  </tbody>\n",
       "</table>\n",
       "<p>5877 rows × 6 columns</p>\n",
       "</div>"
      ],
      "text/plain": [
       "         Id        age  domain1_var1  domain1_var2  domain2_var1  domain2_var2\n",
       "0     10001  57.436077     30.571975     62.553736     53.325130     51.427998\n",
       "1     10002  59.580851     50.969456     67.470628     60.651856     58.311361\n",
       "2     10004  71.413018     53.152498     58.012103     52.418389     62.536641\n",
       "3     10005  66.532630           NaN           NaN     52.108977     69.993075\n",
       "4     10007  38.617381     49.197021     65.674285     40.151376     34.096421\n",
       "...     ...        ...           ...           ...           ...           ...\n",
       "5872  21746  14.257265     21.358872     61.165998     51.778483     54.640179\n",
       "5873  21747  55.456978     68.169675     29.907995     55.349257     54.019517\n",
       "5874  21750  48.948756     55.114811     60.878271     38.617246     50.679885\n",
       "5875  21752  66.532630     59.844808     72.303110     55.458281     46.870235\n",
       "5876  21754  68.820928     56.594193     34.605868     49.922535     50.383078\n",
       "\n",
       "[5877 rows x 6 columns]"
      ]
     },
     "execution_count": 7,
     "metadata": {},
     "output_type": "execute_result"
    }
   ],
   "source": [
    "data = pd.read_csv('00_Data/train_scores.csv')\n",
    "data"
   ]
  },
  {
   "cell_type": "code",
   "execution_count": 8,
   "metadata": {},
   "outputs": [
    {
     "data": {
      "text/plain": [
       "Id                0\n",
       "age               0\n",
       "domain1_var1    438\n",
       "domain1_var2    438\n",
       "domain2_var1     39\n",
       "domain2_var2     39\n",
       "dtype: int64"
      ]
     },
     "execution_count": 8,
     "metadata": {},
     "output_type": "execute_result"
    }
   ],
   "source": [
    "data.isnull().sum()"
   ]
  },
  {
   "cell_type": "code",
   "execution_count": 9,
   "metadata": {},
   "outputs": [],
   "source": [
    "# load = pd.read_csv('00_Data/loading.csv')\n",
    "# for row in load.iterrows():\n",
    "#     idx = int(row[1][0])\n",
    "#     row = row[1][1:]\n",
    "# #     print(row)\n",
    "#     row.to_csv('00_Data/loading_csv/{0}.csv'.format(idx))"
   ]
  },
  {
   "cell_type": "code",
   "execution_count": 10,
   "metadata": {},
   "outputs": [],
   "source": [
    "data = data.dropna()"
   ]
  },
  {
   "cell_type": "code",
   "execution_count": 11,
   "metadata": {},
   "outputs": [
    {
     "name": "stdout",
     "output_type": "stream",
     "text": [
      "Dataset length:  5434\n"
     ]
    }
   ],
   "source": [
    "print('Dataset length: ', len(data.index))"
   ]
  },
  {
   "cell_type": "code",
   "execution_count": 12,
   "metadata": {},
   "outputs": [],
   "source": [
    "def get_inputs_loading(idx, labels):\n",
    "    df = pd.read_csv('00_Data/loading_csv/{0}.csv'.format(idx), index_col=0)\n",
    "    X = np.array(df.values).reshape(-1)\n",
    "    return X, labels"
   ]
  },
  {
   "cell_type": "code",
   "execution_count": 13,
   "metadata": {},
   "outputs": [],
   "source": [
    "def map_decorator(func):\n",
    "    def wrapper(idx, labels):\n",
    "        # Use a tf.py_function to prevent auto-graph from compiling the method\n",
    "        return tf.py_function(\n",
    "            func,\n",
    "            inp=(idx, labels),\n",
    "            Tout=(tf.float64, tf.float64))\n",
    "    return wrapper"
   ]
  },
  {
   "cell_type": "code",
   "execution_count": 14,
   "metadata": {},
   "outputs": [],
   "source": [
    "def get_dataset(data, batch_size):\n",
    "    data = tf.data.Dataset.from_tensor_slices((data['Id'].values, \n",
    "                                               data[['age', 'domain1_var1', 'domain1_var2', 'domain2_var1', 'domain2_var2']].values))\n",
    "    data = data.shuffle(buffer_size=5500, seed=30, reshuffle_each_iteration=True)\n",
    "    data = data.map(map_decorator(get_inputs_loading), \n",
    "                     num_parallel_calls=tf.data.experimental.AUTOTUNE, \n",
    "                     deterministic=True)\n",
    "#     data = data.cache(filename='99_Cache/cache')\n",
    "    data = data.batch(batch_size, drop_remainder=True)\n",
    "    data = data.prefetch(tf.data.experimental.AUTOTUNE)\n",
    "    return data"
   ]
  },
  {
   "cell_type": "code",
   "execution_count": 15,
   "metadata": {},
   "outputs": [],
   "source": [
    "train, test = model_selection.train_test_split(data, test_size=0.3, shuffle=True, random_state=30)\n",
    "train, val = model_selection.train_test_split(train, test_size=0.2, shuffle=True, random_state=30)"
   ]
  },
  {
   "cell_type": "code",
   "execution_count": 16,
   "metadata": {},
   "outputs": [],
   "source": [
    "batch_size = 64\n",
    "\n",
    "ds_train = get_dataset(train, batch_size)\n",
    "ds_val = get_dataset(val, batch_size)\n",
    "ds_test = get_dataset(test, batch_size)"
   ]
  },
  {
   "cell_type": "code",
   "execution_count": 17,
   "metadata": {},
   "outputs": [],
   "source": [
    "INPUT_SHAPE_loading = (26,)"
   ]
  },
  {
   "cell_type": "code",
   "execution_count": 18,
   "metadata": {},
   "outputs": [],
   "source": [
    "inputs_loading = keras.layers.Input(shape=INPUT_SHAPE_loading)\n",
    "\n",
    "# hidden layers\n",
    "y = keras.layers.Dense(256,\n",
    "                           kernel_initializer=keras.initializers.he_normal(seed=30),\n",
    "                           bias_initializer=keras.initializers.Constant(5.))(inputs_loading)\n",
    "y = tf.keras.layers.PReLU(alpha_initializer=keras.initializers.Constant(0.5))(y)\n",
    "y = keras.layers.Dropout(rate=0.2, seed=30)(y)\n",
    "\n",
    "y = keras.layers.Dense(512,\n",
    "                           kernel_initializer=keras.initializers.he_normal(seed=30),\n",
    "                           bias_initializer=keras.initializers.Constant(5.))(y)\n",
    "y = tf.keras.layers.PReLU(alpha_initializer=keras.initializers.Constant(0.5))(y)\n",
    "y = keras.layers.Dropout(rate=0.1, seed=30)(y)\n",
    "\n",
    "# output\n",
    "outputs = keras.layers.Dense(5, activation='linear')(y)"
   ]
  },
  {
   "cell_type": "code",
   "execution_count": 19,
   "metadata": {},
   "outputs": [],
   "source": [
    "model = keras.Model(inputs=inputs, outputs=outputs, name='test_model')"
   ]
  },
  {
   "cell_type": "code",
   "execution_count": 20,
   "metadata": {},
   "outputs": [],
   "source": [
    "optim = keras.optimizers.Adam(lr=0.000002,\n",
    "                                 beta_1=0.99,\n",
    "                                 beta_2=0.999,\n",
    "                                 amsgrad=False)\n",
    "        \n",
    "METRICS = [keras.metrics.RootMeanSquaredError(name='rmse'),\n",
    "           keras.metrics.MeanSquaredError(name='mse'),\n",
    "           keras.metrics.MeanAbsoluteError(name='mae')]"
   ]
  },
  {
   "cell_type": "code",
   "execution_count": 22,
   "metadata": {},
   "outputs": [],
   "source": [
    "def weighted_mae(y_true, y_pred):\n",
    "#     tf.print(y_true)\n",
    "    W = tf.constant([[0.3, 0.175, 0.175, 0.175, 0.175]])\n",
    "#     tf.print(W / tf.math.reduce_mean(y_true, axis=0))\n",
    "    return tf.math.reduce_mean(tf.linalg.matmul(tf.math.abs(y_pred - y_true), tf.transpose(W / tf.math.reduce_mean(y_true, axis=0))), axis=0)"
   ]
  },
  {
   "cell_type": "code",
   "execution_count": 23,
   "metadata": {},
   "outputs": [],
   "source": [
    "model.compile(loss=weighted_mae, metrics=METRICS, optimizer=optim)"
   ]
  },
  {
   "cell_type": "code",
   "execution_count": 24,
   "metadata": {},
   "outputs": [],
   "source": [
    "# Define the checkpoint directory to store the checkpoints\n",
    "# Name of the checkpoint files\n",
    "checkpoint_prefix = os.path.join('./99_Training_checkpoints/loading', \"ckpt_{epoch}\")"
   ]
  },
  {
   "cell_type": "code",
   "execution_count": 25,
   "metadata": {},
   "outputs": [],
   "source": [
    "callbacks = [tf.keras.callbacks.TensorBoard(log_dir='./99_Logs/loading'),\n",
    "             tf.keras.callbacks.ModelCheckpoint(filepath=checkpoint_prefix,\n",
    "                                                save_weights_only=False),\n",
    "             tf.keras.callbacks.ReduceLROnPlateau(monitor='val_loss', \n",
    "                                                  factor=0.7, \n",
    "                                                  patience=2, \n",
    "                                                  verbose=1, \n",
    "                                                  mode='min',\n",
    "                                                  min_delta=0.01, \n",
    "                                                  cooldown=5, \n",
    "                                                  min_lr=0.00000001),\n",
    "             tf.keras.callbacks.EarlyStopping(monitor='val_loss', \n",
    "                                              min_delta=0.001, \n",
    "                                              patience=10, \n",
    "                                              verbose=1, \n",
    "                                              mode='min',\n",
    "                                              baseline=None, \n",
    "                                              restore_best_weights=True)]"
   ]
  },
  {
   "cell_type": "code",
   "execution_count": 26,
   "metadata": {},
   "outputs": [],
   "source": [
    "# def decay(epoch):\n",
    "#     if epoch < 2:\n",
    "#         return 0.01\n",
    "#     elif epoch >= 2 and epoch < 10:\n",
    "#         return 0.005\n",
    "#     else:\n",
    "#         return 1e-4"
   ]
  },
  {
   "cell_type": "code",
   "execution_count": 27,
   "metadata": {},
   "outputs": [],
   "source": [
    "# callbacks = [tf.keras.callbacks.LearningRateScheduler(decay)]"
   ]
  },
  {
   "cell_type": "code",
   "execution_count": 28,
   "metadata": {},
   "outputs": [
    {
     "name": "stdout",
     "output_type": "stream",
     "text": [
      "Epoch 1/300\n",
      "47/47 [==============================] - ETA: 0s - loss: 0.9713 - rmse: 50.9859 - mse: 2599.5613 - mae: 48.7560WARNING:tensorflow:From c:\\00_data\\python38\\lib\\site-packages\\tensorflow\\python\\ops\\resource_variable_ops.py:1813: calling BaseResourceVariable.__init__ (from tensorflow.python.ops.resource_variable_ops) with constraint is deprecated and will be removed in a future version.\n",
      "Instructions for updating:\n",
      "If using Keras pass *_constraint arguments to layers.\n",
      "INFO:tensorflow:Assets written to: ./99_Training_checkpoints/loading\\ckpt_1\\assets\n",
      "47/47 [==============================] - 7s 155ms/step - loss: 0.9713 - rmse: 50.9859 - mse: 2599.5613 - mae: 48.7560 - val_loss: 0.9541 - val_rmse: 49.6038 - val_mse: 2460.5337 - val_mae: 47.8035 - lr: 2.0000e-06\n",
      "Epoch 2/300\n",
      "47/47 [==============================] - ETA: 0s - loss: 0.9386 - rmse: 49.4409 - mse: 2444.3989 - mae: 47.1788INFO:tensorflow:Assets written to: ./99_Training_checkpoints/loading\\ckpt_2\\assets\n",
      "47/47 [==============================] - 7s 140ms/step - loss: 0.9386 - rmse: 49.4409 - mse: 2444.3989 - mae: 47.1788 - val_loss: 0.9223 - val_rmse: 47.9870 - val_mse: 2302.7549 - val_mae: 46.1435 - lr: 2.0000e-06\n",
      "Epoch 3/300\n",
      "47/47 [==============================] - ETA: 0s - loss: 0.9092 - rmse: 48.0744 - mse: 2311.1448 - mae: 45.7686- ETA: 2s - loss: 0.9194 - rmse: 48.5316INFO:tensorflow:Assets written to: ./99_Training_checkpoints/loading\\ckpt_3\\assets\n",
      "47/47 [==============================] - 7s 140ms/step - loss: 0.9092 - rmse: 48.0744 - mse: 2311.1448 - mae: 45.7686 - val_loss: 0.8901 - val_rmse: 46.5065 - val_mse: 2162.8572 - val_mae: 44.5984 - lr: 2.0000e-06\n",
      "Epoch 4/300\n",
      "47/47 [==============================] - ETA: 0s - loss: 0.8795 - rmse: 46.6867 - mse: 2179.6492 - mae: 44.3422INFO:tensorflow:Assets written to: ./99_Training_checkpoints/loading\\ckpt_4\\assets\n",
      "47/47 [==============================] - 7s 150ms/step - loss: 0.8795 - rmse: 46.6867 - mse: 2179.6492 - mae: 44.3422 - val_loss: 0.8581 - val_rmse: 45.0858 - val_mse: 2032.7258 - val_mae: 43.1316 - lr: 2.0000e-06\n",
      "Epoch 5/300\n",
      "47/47 [==============================] - ETA: 0s - loss: 0.8461 - rmse: 45.1867 - mse: 2041.8407 - mae: 42.7492- ETA: 1s - loss: 0.8499 - rmse: 45.3567 - mse: 2057.2268 - mae: 42.9 - ETA: 0s - loss: 0.8491 - rmse: 45.3505 - mse: 2056.6677 - mae:INFO:tensorflow:Assets written to: ./99_Training_checkpoints/loading\\ckpt_5\\assets\n",
      "47/47 [==============================] - 7s 147ms/step - loss: 0.8461 - rmse: 45.1867 - mse: 2041.8407 - mae: 42.7492 - val_loss: 0.8262 - val_rmse: 43.5430 - val_mse: 1895.9929 - val_mae: 41.5361 - lr: 2.0000e-06\n",
      "Epoch 6/300\n",
      "47/47 [==============================] - ETA: 0s - loss: 0.8153 - rmse: 43.7602 - mse: 1914.9540 - mae: 41.2311INFO:tensorflow:Assets written to: ./99_Training_checkpoints/loading\\ckpt_6\\assets\n",
      "47/47 [==============================] - 7s 152ms/step - loss: 0.8153 - rmse: 43.7602 - mse: 1914.9540 - mae: 41.2311 - val_loss: 0.7946 - val_rmse: 42.1921 - val_mse: 1780.1765 - val_mae: 40.1166 - lr: 2.0000e-06\n",
      "Epoch 7/300\n",
      "47/47 [==============================] - ETA: 0s - loss: 0.7852 - rmse: 42.3857 - mse: 1796.5472 - mae: 39.8016INFO:tensorflow:Assets written to: ./99_Training_checkpoints/loading\\ckpt_7\\assets\n",
      "47/47 [==============================] - 7s 152ms/step - loss: 0.7852 - rmse: 42.3857 - mse: 1796.5472 - mae: 39.8016 - val_loss: 0.7628 - val_rmse: 40.7066 - val_mse: 1657.0234 - val_mae: 38.5510 - lr: 2.0000e-06\n",
      "Epoch 8/300\n",
      "47/47 [==============================] - ETA: 0s - loss: 0.7517 - rmse: 40.9226 - mse: 1674.6598 - mae: 38.2222INFO:tensorflow:Assets written to: ./99_Training_checkpoints/loading\\ckpt_8\\assets\n",
      "47/47 [==============================] - 7s 146ms/step - loss: 0.7517 - rmse: 40.9226 - mse: 1674.6598 - mae: 38.2222 - val_loss: 0.7311 - val_rmse: 39.2675 - val_mse: 1541.9391 - val_mae: 37.0359 - lr: 2.0000e-06\n",
      "Epoch 9/300\n",
      "47/47 [==============================] - ETA: 0s - loss: 0.7216 - rmse: 39.5695 - mse: 1565.7454 - mae: 36.7608- ETA: 2s - loss: 0.7301 - rmse: 40.0224 - mse: 160INFO:tensorflow:Assets written to: ./99_Training_checkpoints/loading\\ckpt_9\\assets\n",
      "47/47 [==============================] - 7s 142ms/step - loss: 0.7216 - rmse: 39.5695 - mse: 1565.7454 - mae: 36.7608 - val_loss: 0.7001 - val_rmse: 37.9616 - val_mse: 1441.0804 - val_mae: 35.6425 - lr: 2.0000e-06\n",
      "Epoch 10/300\n",
      "47/47 [==============================] - ETA: 0s - loss: 0.6916 - rmse: 38.1716 - mse: 1457.0688 - mae: 35.3271INFO:tensorflow:Assets written to: ./99_Training_checkpoints/loading\\ckpt_10\\assets\n",
      "47/47 [==============================] - 7s 143ms/step - loss: 0.6916 - rmse: 38.1716 - mse: 1457.0688 - mae: 35.3271 - val_loss: 0.6678 - val_rmse: 36.4335 - val_mse: 1327.3983 - val_mae: 34.0301 - lr: 2.0000e-06\n",
      "Epoch 11/300\n",
      "47/47 [==============================] - ETA: 0s - loss: 0.6613 - rmse: 36.8248 - mse: 1356.0626 - mae: 33.8653INFO:tensorflow:Assets written to: ./99_Training_checkpoints/loading\\ckpt_11\\assets\n",
      "47/47 [==============================] - 7s 142ms/step - loss: 0.6613 - rmse: 36.8248 - mse: 1356.0626 - mae: 33.8653 - val_loss: 0.6359 - val_rmse: 35.0415 - val_mse: 1227.9097 - val_mae: 32.5114 - lr: 2.0000e-06\n",
      "Epoch 12/300\n",
      "47/47 [==============================] - ETA: 0s - loss: 0.6310 - rmse: 35.4686 - mse: 1258.0212 - mae: 32.4094INFO:tensorflow:Assets written to: ./99_Training_checkpoints/loading\\ckpt_12\\assets\n",
      "47/47 [==============================] - 7s 143ms/step - loss: 0.6310 - rmse: 35.4686 - mse: 1258.0212 - mae: 32.4094 - val_loss: 0.6045 - val_rmse: 33.6506 - val_mse: 1132.3656 - val_mae: 31.0065 - lr: 2.0000e-06\n",
      "Epoch 13/300\n",
      "47/47 [==============================] - ETA: 0s - loss: 0.6005 - rmse: 34.1101 - mse: 1163.5006 - mae: 30.9500- ETA: 2s - loss: 0.6113 - rmse: 34.5606 - mse: 11 - ETA: 0s - loss: 0.6019 - rmse: 34.1763 - mse: 1168.0206 - mae: 31INFO:tensorflow:Assets written to: ./99_Training_checkpoints/loading\\ckpt_13\\assets\n",
      "47/47 [==============================] - 7s 142ms/step - loss: 0.6005 - rmse: 34.1101 - mse: 1163.5006 - mae: 30.9500 - val_loss: 0.5747 - val_rmse: 32.3595 - val_mse: 1047.1388 - val_mae: 29.6236 - lr: 2.0000e-06\n",
      "Epoch 14/300\n",
      "47/47 [==============================] - ETA: 0s - loss: 0.5710 - rmse: 32.8086 - mse: 1076.4041 - mae: 29.5320- ETA: 3s - loss: 0.5829 - rmse:INFO:tensorflow:Assets written to: ./99_Training_checkpoints/loading\\ckpt_14\\assets\n",
      "47/47 [==============================] - 7s 141ms/step - loss: 0.5710 - rmse: 32.8086 - mse: 1076.4041 - mae: 29.5320 - val_loss: 0.5430 - val_rmse: 30.8977 - val_mse: 954.6679 - val_mae: 28.0375 - lr: 2.0000e-06\n",
      "Epoch 15/300\n",
      "47/47 [==============================] - ETA: 0s - loss: 0.5417 - rmse: 31.4800 - mse: 990.9922 - mae: 28.0908 - ETA: 2s - loss: 0.5475 - rmse: 3INFO:tensorflow:Assets written to: ./99_Training_checkpoints/loading\\ckpt_15\\assets\n",
      "47/47 [==============================] - 7s 142ms/step - loss: 0.5417 - rmse: 31.4800 - mse: 990.9922 - mae: 28.0908 - val_loss: 0.5131 - val_rmse: 29.6124 - val_mse: 876.8956 - val_mae: 26.6216 - lr: 2.0000e-06\n",
      "Epoch 16/300\n",
      "47/47 [==============================] - ETA: 0s - loss: 0.5138 - rmse: 30.2110 - mse: 912.7051 - mae: 26.7135INFO:tensorflow:Assets written to: ./99_Training_checkpoints/loading\\ckpt_16\\assets\n",
      "47/47 [==============================] - 7s 150ms/step - loss: 0.5138 - rmse: 30.2110 - mse: 912.7051 - mae: 26.7135 - val_loss: 0.4848 - val_rmse: 28.3860 - val_mse: 805.7659 - val_mae: 25.3035 - lr: 2.0000e-06\n",
      "Epoch 17/300\n",
      "47/47 [==============================] - ETA: 0s - loss: 0.4865 - rmse: 28.9128 - mse: 835.9476 - mae: 25.4000 ETA: 1s - loss: 0.4915 - rmse: 29.1270 - mse:INFO:tensorflow:Assets written to: ./99_Training_checkpoints/loading\\ckpt_17\\assets\n",
      "47/47 [==============================] - 7s 144ms/step - loss: 0.4865 - rmse: 28.9128 - mse: 835.9476 - mae: 25.4000 - val_loss: 0.4566 - val_rmse: 27.0861 - val_mse: 733.6580 - val_mae: 23.9217 - lr: 2.0000e-06\n",
      "Epoch 18/300\n",
      "47/47 [==============================] - ETA: 0s - loss: 0.4600 - rmse: 27.7291 - mse: 768.9030 - mae: 24.0888 ETA: 1s - loss: 0.4639 - rmse: 27.9008 - INFO:tensorflow:Assets written to: ./99_Training_checkpoints/loading\\ckpt_18\\assets\n",
      "47/47 [==============================] - 7s 143ms/step - loss: 0.4600 - rmse: 27.7291 - mse: 768.9030 - mae: 24.0888 - val_loss: 0.4306 - val_rmse: 25.8530 - val_mse: 668.3759 - val_mae: 22.6393 - lr: 2.0000e-06\n",
      "Epoch 19/300\n",
      "47/47 [==============================] - ETA: 0s - loss: 0.4320 - rmse: 26.3777 - mse: 695.7835 - mae: 22.6817INFO:tensorflow:Assets written to: ./99_Training_checkpoints/loading\\ckpt_19\\assets\n",
      "47/47 [==============================] - 7s 141ms/step - loss: 0.4320 - rmse: 26.3777 - mse: 695.7835 - mae: 22.6817 - val_loss: 0.4038 - val_rmse: 24.6094 - val_mse: 605.6243 - val_mae: 21.2780 - lr: 2.0000e-06\n",
      "Epoch 20/300\n",
      "47/47 [==============================] - ETA: 0s - loss: 0.4120 - rmse: 25.4419 - mse: 647.2906 - mae: 21.6856INFO:tensorflow:Assets written to: ./99_Training_checkpoints/loading\\ckpt_20\\assets\n",
      "47/47 [==============================] - 7s 141ms/step - loss: 0.4120 - rmse: 25.4419 - mse: 647.2906 - mae: 21.6856 - val_loss: 0.3792 - val_rmse: 23.3861 - val_mse: 546.9075 - val_mae: 20.0320 - lr: 2.0000e-06\n",
      "Epoch 21/300\n",
      "47/47 [==============================] - ETA: 0s - loss: 0.3875 - rmse: 24.2165 - mse: 586.4402 - mae: 20.4417 ETA: 2s - loss: 0.3970 - rmse: 24.7294 - mse: 611.5419  - ETA: 2s - loss: 0.3942 - INFO:tensorflow:Assets written to: ./99_Training_checkpoints/loading\\ckpt_21\\assets\n",
      "47/47 [==============================] - 7s 142ms/step - loss: 0.3875 - rmse: 24.2165 - mse: 586.4402 - mae: 20.4417 - val_loss: 0.3589 - val_rmse: 22.3303 - val_mse: 498.6443 - val_mae: 18.9917 - lr: 2.0000e-06\n",
      "Epoch 22/300\n",
      "47/47 [==============================] - ETA: 0s - loss: 0.3669 - rmse: 23.0978 - mse: 533.5074 - mae: 19.3705 ETA: 0s - loss: 0.3678 - rmse: 23.1334 - mse: 535.1541 - maINFO:tensorflow:Assets written to: ./99_Training_checkpoints/loading\\ckpt_22\\assets\n",
      "47/47 [==============================] - 7s 143ms/step - loss: 0.3669 - rmse: 23.0978 - mse: 533.5074 - mae: 19.3705 - val_loss: 0.3362 - val_rmse: 21.0626 - val_mse: 443.6351 - val_mae: 17.7379 - lr: 2.0000e-06\n",
      "Epoch 23/300\n",
      "47/47 [==============================] - ETA: 0s - loss: 0.3490 - rmse: 22.1347 - mse: 489.9468 - mae: 18.4211INFO:tensorflow:Assets written to: ./99_Training_checkpoints/loading\\ckpt_23\\assets\n",
      "47/47 [==============================] - 7s 141ms/step - loss: 0.3490 - rmse: 22.1347 - mse: 489.9468 - mae: 18.4211 - val_loss: 0.3175 - val_rmse: 20.1478 - val_mse: 405.9330 - val_mae: 16.7903 - lr: 2.0000e-06\n",
      "Epoch 24/300\n",
      "47/47 [==============================] - ETA: 0s - loss: 0.3296 - rmse: 21.0511 - mse: 443.1493 - mae: 17.3932 ETA: 1s - loss: 0.3311 - rmse: 21.1931 - mse: 449.1487 - mae: - ETA: 1s - loss: 0.3316 - rmse: 21.1INFO:tensorflow:Assets written to: ./99_Training_checkpoints/loading\\ckpt_24\\assets\n",
      "47/47 [==============================] - 7s 144ms/step - loss: 0.3296 - rmse: 21.0511 - mse: 443.1493 - mae: 17.3932 - val_loss: 0.2995 - val_rmse: 19.0703 - val_mse: 363.6767 - val_mae: 15.8002 - lr: 2.0000e-06\n",
      "Epoch 25/300\n",
      "47/47 [==============================] - ETA: 0s - loss: 0.3158 - rmse: 20.2364 - mse: 409.5137 - mae: 16.6089INFO:tensorflow:Assets written to: ./99_Training_checkpoints/loading\\ckpt_25\\assets\n",
      "47/47 [==============================] - 7s 148ms/step - loss: 0.3158 - rmse: 20.2364 - mse: 409.5137 - mae: 16.6089 - val_loss: 0.2830 - val_rmse: 18.0989 - val_mse: 327.5708 - val_mae: 14.8694 - lr: 2.0000e-06\n",
      "Epoch 26/300\n",
      "47/47 [==============================] - ETA: 0s - loss: 0.2969 - rmse: 19.1323 - mse: 366.0452 - mae: 15.6057 ETA: 1s - loss: 0.2987 - rmse: 19.2175 - mse:INFO:tensorflow:Assets written to: ./99_Training_checkpoints/loading\\ckpt_26\\assets\n",
      "47/47 [==============================] - 7s 142ms/step - loss: 0.2969 - rmse: 19.1323 - mse: 366.0452 - mae: 15.6057 - val_loss: 0.2685 - val_rmse: 17.1866 - val_mse: 295.3792 - val_mae: 14.0584 - lr: 2.0000e-06\n",
      "Epoch 27/300\n",
      "47/47 [==============================] - ETA: 0s - loss: 0.2861 - rmse: 18.4272 - mse: 339.5611 - mae: 15.0033 ETA: 0s - loss: 0.2874 - rmse: 18.5102 - mse: 342.6274 - mae: 15.07 - ETA: 0s - loss: 0.2875 - rmse: 18.5142 - mse: 342.7766 - mae: 15. - ETA: 0s - loss: 0.2873 - rmse: 18.4927 - mse: 341.9816 - INFO:tensorflow:Assets written to: ./99_Training_checkpoints/loading\\ckpt_27\\assets\n",
      "47/47 [==============================] - 7s 144ms/step - loss: 0.2861 - rmse: 18.4272 - mse: 339.5611 - mae: 15.0033 - val_loss: 0.2562 - val_rmse: 16.4096 - val_mse: 269.2736 - val_mae: 13.3656 - lr: 2.0000e-06\n",
      "Epoch 28/300\n",
      "47/47 [==============================] - ETA: 0s - loss: 0.2737 - rmse: 17.5979 - mse: 309.6860 - mae: 14.2698INFO:tensorflow:Assets written to: ./99_Training_checkpoints/loading\\ckpt_28\\assets\n",
      "47/47 [==============================] - 6s 137ms/step - loss: 0.2737 - rmse: 17.5979 - mse: 309.6860 - mae: 14.2698 - val_loss: 0.2447 - val_rmse: 15.6589 - val_mse: 245.2026 - val_mae: 12.7090 - lr: 2.0000e-06\n",
      "Epoch 29/300\n",
      "47/47 [==============================] - ETA: 0s - loss: 0.2642 - rmse: 16.9736 - mse: 288.1020 - mae: 13.7468 ETA: 2s - loss: 0INFO:tensorflow:Assets written to: ./99_Training_checkpoints/loading\\ckpt_29\\assets\n",
      "47/47 [==============================] - 7s 140ms/step - loss: 0.2642 - rmse: 16.9736 - mse: 288.1020 - mae: 13.7468 - val_loss: 0.2341 - val_rmse: 14.9087 - val_mse: 222.2694 - val_mae: 12.0800 - lr: 2.0000e-06\n",
      "Epoch 30/300\n",
      "47/47 [==============================] - ETA: 0s - loss: 0.2531 - rmse: 16.2764 - mse: 264.9207 - mae: 13.1005INFO:tensorflow:Assets written to: ./99_Training_checkpoints/loading\\ckpt_30\\assets\n",
      "47/47 [==============================] - 7s 140ms/step - loss: 0.2531 - rmse: 16.2764 - mse: 264.9207 - mae: 13.1005 - val_loss: 0.2239 - val_rmse: 14.2209 - val_mse: 202.2348 - val_mae: 11.5172 - lr: 2.0000e-06\n",
      "Epoch 31/300\n",
      "47/47 [==============================] - ETA: 0s - loss: 0.2462 - rmse: 15.7307 - mse: 247.4563 - mae: 12.6777 ETA: 3s - loss: 0.2538 - rmse - ETA: 1s - loss: 0.2496 - rmINFO:tensorflow:Assets written to: ./99_Training_checkpoints/loading\\ckpt_31\\assets\n",
      "47/47 [==============================] - 7s 138ms/step - loss: 0.2462 - rmse: 15.7307 - mse: 247.4563 - mae: 12.6777 - val_loss: 0.2156 - val_rmse: 13.6083 - val_mse: 185.1866 - val_mae: 11.0017 - lr: 2.0000e-06\n",
      "Epoch 32/300\n",
      "47/47 [==============================] - ETA: 0s - loss: 0.2410 - rmse: 15.2816 - mse: 233.5279 - mae: 12.3499 ETA: 3s - loss: 0.2393 - rmse: 15.2720 - mse: 233.2 - ETA: 2s - loss: 0.2402 - rmse: 15.3 - ETA: 1s - loss: 0.2412 - rmse: 15.2781 - mse: 2 - ETA: 0s - loss: 0.2407 - rmse: 15.2636 - mse: 232.9785 - mae: 12.INFO:tensorflow:Assets written to: ./99_Training_checkpoints/loading\\ckpt_32\\assets\n",
      "47/47 [==============================] - 7s 139ms/step - loss: 0.2410 - rmse: 15.2816 - mse: 233.5279 - mae: 12.3499 - val_loss: 0.2102 - val_rmse: 13.2143 - val_mse: 174.6181 - val_mae: 10.6805 - lr: 2.0000e-06\n",
      "Epoch 33/300\n",
      "47/47 [==============================] - ETA: 0s - loss: 0.2332 - rmse: 14.8539 - mse: 220.6379 - mae: 11.9327 ETA: 0s - loss: 0.2337 - rmse: 14.8746 - mse: 221.2528 - maINFO:tensorflow:Assets written to: ./99_Training_checkpoints/loading\\ckpt_33\\assets\n",
      "47/47 [==============================] - 7s 141ms/step - loss: 0.2332 - rmse: 14.8539 - mse: 220.6379 - mae: 11.9327 - val_loss: 0.2043 - val_rmse: 12.8240 - val_mse: 164.4538 - val_mae: 10.3325 - lr: 2.0000e-06\n",
      "Epoch 34/300\n",
      "47/47 [==============================] - ETA: 0s - loss: 0.2283 - rmse: 14.4755 - mse: 209.5401 - mae: 11.6372 ETA: 2s - loss: 0.2271 - rmse: 14.3768 - mse: 206.6926 - mae: - ETA: 1s - loss: 0.2271 - rmse: INFO:tensorflow:Assets written to: ./99_Training_checkpoints/loading\\ckpt_34\\assets\n",
      "47/47 [==============================] - 7s 145ms/step - loss: 0.2283 - rmse: 14.4755 - mse: 209.5401 - mae: 11.6372 - val_loss: 0.1990 - val_rmse: 12.5072 - val_mse: 156.4301 - val_mae: 10.0379 - lr: 2.0000e-06\n",
      "Epoch 35/300\n",
      "47/47 [==============================] - ETA: 0s - loss: 0.2232 - rmse: 14.1644 - mse: 200.6290 - mae: 11.3475INFO:tensorflow:Assets written to: ./99_Training_checkpoints/loading\\ckpt_35\\assets\n",
      "47/47 [==============================] - 7s 144ms/step - loss: 0.2232 - rmse: 14.1644 - mse: 200.6290 - mae: 11.3475 - val_loss: 0.1954 - val_rmse: 12.1958 - val_mse: 148.7386 - val_mae: 9.8023 - lr: 2.0000e-06\n",
      "Epoch 36/300\n",
      "47/47 [==============================] - ETA: 0s - loss: 0.2204 - rmse: 13.9383 - mse: 194.2762 - mae: 11.1974INFO:tensorflow:Assets written to: ./99_Training_checkpoints/loading\\ckpt_36\\assets\n",
      "\n",
      "Epoch 00036: ReduceLROnPlateau reducing learning rate to 1.3999999964653397e-06.\n",
      "47/47 [==============================] - 7s 147ms/step - loss: 0.2204 - rmse: 13.9383 - mse: 194.2762 - mae: 11.1974 - val_loss: 0.1928 - val_rmse: 12.0258 - val_mse: 144.6193 - val_mae: 9.6299 - lr: 2.0000e-06\n",
      "Epoch 37/300\n",
      "47/47 [==============================] - ETA: 0s - loss: 0.2178 - rmse: 13.8085 - mse: 190.6756 - mae: 11.0510INFO:tensorflow:Assets written to: ./99_Training_checkpoints/loading\\ckpt_37\\assets\n",
      "47/47 [==============================] - 7s 145ms/step - loss: 0.2178 - rmse: 13.8085 - mse: 190.6756 - mae: 11.0510 - val_loss: 0.1914 - val_rmse: 11.9421 - val_mse: 142.6149 - val_mae: 9.5439 - lr: 1.4000e-06\n",
      "Epoch 38/300\n",
      "47/47 [==============================] - ETA: 0s - loss: 0.2156 - rmse: 13.6213 - mse: 185.5391 - mae: 10.9061INFO:tensorflow:Assets written to: ./99_Training_checkpoints/loading\\ckpt_38\\assets\n",
      "47/47 [==============================] - 7s 144ms/step - loss: 0.2156 - rmse: 13.6213 - mse: 185.5391 - mae: 10.9061 - val_loss: 0.1880 - val_rmse: 11.7926 - val_mse: 139.0662 - val_mae: 9.3862 - lr: 1.4000e-06\n",
      "Epoch 39/300\n",
      "47/47 [==============================] - ETA: 0s - loss: 0.2133 - rmse: 13.5340 - mse: 183.1702 - mae: 10.7912 ETA: 1s - loss: 0.2148 - rmse: 13.5809 - mse: 184.4412 - mae: 1 - ETA: 1s - loss: 0.2137 - rmse: 13.551INFO:tensorflow:Assets written to: ./99_Training_checkpoints/loading\\ckpt_39\\assets\n",
      "47/47 [==============================] - 7s 139ms/step - loss: 0.2133 - rmse: 13.5340 - mse: 183.1702 - mae: 10.7912 - val_loss: 0.1877 - val_rmse: 11.7439 - val_mse: 137.9182 - val_mae: 9.3548 - lr: 1.4000e-06\n",
      "Epoch 40/300\n",
      "47/47 [==============================] - ETA: 0s - loss: 0.2146 - rmse: 13.5647 - mse: 184.0006 - mae: 10.8223INFO:tensorflow:Assets written to: ./99_Training_checkpoints/loading\\ckpt_40\\assets\n",
      "47/47 [==============================] - 7s 146ms/step - loss: 0.2146 - rmse: 13.5647 - mse: 184.0006 - mae: 10.8223 - val_loss: 0.1887 - val_rmse: 11.7886 - val_mse: 138.9707 - val_mae: 9.3772 - lr: 1.4000e-06\n",
      "Epoch 41/300\n",
      "47/47 [==============================] - ETA: 0s - loss: 0.2135 - rmse: 13.5345 - mse: 183.1817 - mae: 10.7846 ETA: 1s - loss: 0.2145 - rmse: 13.5911 - msINFO:tensorflow:Assets written to: ./99_Training_checkpoints/loading\\ckpt_41\\assets\n",
      "47/47 [==============================] - 7s 142ms/step - loss: 0.2135 - rmse: 13.5345 - mse: 183.1817 - mae: 10.7846 - val_loss: 0.1880 - val_rmse: 11.7771 - val_mse: 138.7003 - val_mae: 9.3733 - lr: 1.4000e-06\n",
      "Epoch 42/300\n",
      "47/47 [==============================] - ETA: 0s - loss: 0.2139 - rmse: 13.5326 - mse: 183.1318 - mae: 10.7861INFO:tensorflow:Assets written to: ./99_Training_checkpoints/loading\\ckpt_42\\assets\n",
      "\n",
      "Epoch 00042: ReduceLROnPlateau reducing learning rate to 9.799999816095806e-07.\n",
      "47/47 [==============================] - 7s 147ms/step - loss: 0.2139 - rmse: 13.5326 - mse: 183.1318 - mae: 10.7861 - val_loss: 0.1860 - val_rmse: 11.6908 - val_mse: 136.6749 - val_mae: 9.2689 - lr: 1.4000e-06\n",
      "Epoch 43/300\n",
      "47/47 [==============================] - ETA: 0s - loss: 0.2117 - rmse: 13.3870 - mse: 179.2115 - mae: 10.6741INFO:tensorflow:Assets written to: ./99_Training_checkpoints/loading\\ckpt_43\\assets\n",
      "47/47 [==============================] - 7s 145ms/step - loss: 0.2117 - rmse: 13.3870 - mse: 179.2115 - mae: 10.6741 - val_loss: 0.1870 - val_rmse: 11.7144 - val_mse: 137.2262 - val_mae: 9.2824 - lr: 9.8000e-07\n",
      "Epoch 44/300\n",
      "47/47 [==============================] - ETA: 0s - loss: 0.2136 - rmse: 13.5153 - mse: 182.6633 - mae: 10.7963 ETA: 0s - loss: 0.2135 - rmse: 13.5348 - mse: 183.1897 - mae:INFO:tensorflow:Assets written to: ./99_Training_checkpoints/loading\\ckpt_44\\assets\n",
      "47/47 [==============================] - 6s 137ms/step - loss: 0.2136 - rmse: 13.5153 - mse: 182.6633 - mae: 10.7963 - val_loss: 0.1841 - val_rmse: 11.5976 - val_mse: 134.5048 - val_mae: 9.1796 - lr: 9.8000e-07\n",
      "Epoch 45/300\n",
      "47/47 [==============================] - ETA: 0s - loss: 0.2131 - rmse: 13.4895 - mse: 181.9675 - mae: 10.7356 ETA: 0s - loss: 0.2139 - rmse: 13.5094 - mse: 182.5032 - INFO:tensorflow:Assets written to: ./99_Training_checkpoints/loading\\ckpt_45\\assets\n",
      "47/47 [==============================] - 7s 144ms/step - loss: 0.2131 - rmse: 13.4895 - mse: 181.9675 - mae: 10.7356 - val_loss: 0.1862 - val_rmse: 11.7319 - val_mse: 137.6381 - val_mae: 9.2774 - lr: 9.8000e-07\n",
      "Epoch 46/300\n",
      "47/47 [==============================] - ETA: 0s - loss: 0.2118 - rmse: 13.4867 - mse: 181.8900 - mae: 10.6825 ETA: 3s - loss: 0.2114 - rmse: 13.4089 - mse: 179.7980 -  - ETA: 2s - lINFO:tensorflow:Assets written to: ./99_Training_checkpoints/loading\\ckpt_46\\assets\n",
      "47/47 [==============================] - 7s 147ms/step - loss: 0.2118 - rmse: 13.4867 - mse: 181.8900 - mae: 10.6825 - val_loss: 0.1853 - val_rmse: 11.6176 - val_mse: 134.9676 - val_mae: 9.2005 - lr: 9.8000e-07\n",
      "Epoch 47/300\n",
      "47/47 [==============================] - ETA: 0s - loss: 0.2106 - rmse: 13.4183 - mse: 180.0516 - mae: 10.6623 ETA: 2s - loss:INFO:tensorflow:Assets written to: ./99_Training_checkpoints/loading\\ckpt_47\\assets\n",
      "47/47 [==============================] - 7s 143ms/step - loss: 0.2106 - rmse: 13.4183 - mse: 180.0516 - mae: 10.6623 - val_loss: 0.1858 - val_rmse: 11.6440 - val_mse: 135.5830 - val_mae: 9.2179 - lr: 9.8000e-07\n",
      "Epoch 48/300\n",
      "47/47 [==============================] - ETA: 0s - loss: 0.2132 - rmse: 13.4844 - mse: 181.8276 - mae: 10.7462 ETA: 0s - loss: 0.2144 - rmse: 13.5624 - mse: 183.9394 INFO:tensorflow:Assets written to: ./99_Training_checkpoints/loading\\ckpt_48\\assets\n",
      "\n",
      "Epoch 00048: ReduceLROnPlateau reducing learning rate to 6.859999871267063e-07.\n",
      "47/47 [==============================] - 7s 141ms/step - loss: 0.2132 - rmse: 13.4844 - mse: 181.8276 - mae: 10.7462 - val_loss: 0.1869 - val_rmse: 11.7724 - val_mse: 138.5903 - val_mae: 9.2937 - lr: 9.8000e-07\n",
      "Epoch 49/300\n",
      "47/47 [==============================] - ETA: 0s - loss: 0.2133 - rmse: 13.5014 - mse: 182.2868 - mae: 10.7601 ETA: 0s - loss: 0.2136 - rmse: 13.4951 - mse: 182.1180 - maINFO:tensorflow:Assets written to: ./99_Training_checkpoints/loading\\ckpt_49\\assets\n",
      "47/47 [==============================] - 7s 142ms/step - loss: 0.2133 - rmse: 13.5014 - mse: 182.2868 - mae: 10.7601 - val_loss: 0.1840 - val_rmse: 11.6323 - val_mse: 135.3105 - val_mae: 9.1616 - lr: 6.8600e-07\n",
      "Epoch 50/300\n",
      "47/47 [==============================] - ETA: 0s - loss: 0.2112 - rmse: 13.4092 - mse: 179.8061 - mae: 10.67 - ETA: 0s - loss: 0.2113 - rmse: 13.4136 - mse: 179.9234 - mae: 10.6700INFO:tensorflow:Assets written to: ./99_Training_checkpoints/loading\\ckpt_50\\assets\n",
      "47/47 [==============================] - 7s 146ms/step - loss: 0.2113 - rmse: 13.4136 - mse: 179.9234 - mae: 10.6700 - val_loss: 0.1852 - val_rmse: 11.6757 - val_mse: 136.3229 - val_mae: 9.2116 - lr: 6.8600e-07\n",
      "Epoch 51/300\n",
      "47/47 [==============================] - ETA: 0s - loss: 0.2114 - rmse: 13.3991 - mse: 179.5349 - mae: 10.6556 ETA: 1s - loss: 0.2116 - rmse: 13.4168 - mse: 180.010 - ETA: 0s - loss: 0.2113 - rmse: 13.4002 - mse: 179.5650 - mae: 10.65 - ETA: 0s - loss: 0.2112 - rmse: 13.3947 - mse: 179.4182 - mae: 10.INFO:tensorflow:Assets written to: ./99_Training_checkpoints/loading\\ckpt_51\\assets\n",
      "47/47 [==============================] - 7s 141ms/step - loss: 0.2114 - rmse: 13.3991 - mse: 179.5349 - mae: 10.6556 - val_loss: 0.1865 - val_rmse: 11.7328 - val_mse: 137.6575 - val_mae: 9.2474 - lr: 6.8600e-07\n",
      "Epoch 52/300\n",
      "47/47 [==============================] - ETA: 0s - loss: 0.2107 - rmse: 13.3824 - mse: 179.0898 - mae: 10.6262INFO:tensorflow:Assets written to: ./99_Training_checkpoints/loading\\ckpt_52\\assets\n",
      "47/47 [==============================] - 7s 142ms/step - loss: 0.2107 - rmse: 13.3824 - mse: 179.0898 - mae: 10.6262 - val_loss: 0.1878 - val_rmse: 11.7989 - val_mse: 139.2135 - val_mae: 9.2956 - lr: 6.8600e-07\n",
      "Epoch 53/300\n",
      "47/47 [==============================] - ETA: 0s - loss: 0.2104 - rmse: 13.3682 - mse: 178.7077 - mae: 10.6126 ETA: 0s - loss: 0.2105 - rmse: 13.3718 - mse: 178.8056 - mae: 10.INFO:tensorflow:Assets written to: ./99_Training_checkpoints/loading\\ckpt_53\\assets\n",
      "47/47 [==============================] - 7s 139ms/step - loss: 0.2104 - rmse: 13.3682 - mse: 178.7077 - mae: 10.6126 - val_loss: 0.1865 - val_rmse: 11.7382 - val_mse: 137.7865 - val_mae: 9.2516 - lr: 6.8600e-07\n",
      "Epoch 54/300\n",
      "47/47 [==============================] - ETA: 0s - loss: 0.2111 - rmse: 13.3708 - mse: 178.7775 - mae: 10.6438INFO:tensorflow:Assets written to: ./99_Training_checkpoints/loading\\ckpt_54\\assets\n",
      "\n",
      "Epoch 00054: ReduceLROnPlateau reducing learning rate to 4.801999750725371e-07.\n",
      "Restoring model weights from the end of the best epoch.\n",
      "47/47 [==============================] - 7s 144ms/step - loss: 0.2111 - rmse: 13.3708 - mse: 178.7775 - mae: 10.6438 - val_loss: 0.1857 - val_rmse: 11.7115 - val_mse: 137.1596 - val_mae: 9.2311 - lr: 6.8600e-07\n",
      "Epoch 00054: early stopping\n"
     ]
    }
   ],
   "source": [
    "with tf.device('/GPU:0'):\n",
    "    hist = model.fit(ds_train,\n",
    "                     validation_data=ds_val,\n",
    "                     callbacks=callbacks,\n",
    "                     epochs=300,\n",
    "                     verbose=1)"
   ]
  },
  {
   "cell_type": "code",
   "execution_count": 29,
   "metadata": {},
   "outputs": [
    {
     "name": "stdout",
     "output_type": "stream",
     "text": [
      "25/25 [==============================] - 2s 93ms/step - loss: 0.1841 - rmse: 11.6099 - mse: 134.7896 - mae: 9.2182\n"
     ]
    }
   ],
   "source": [
    "with tf.device('/GPU:0'):\n",
    "    results = model.evaluate(ds_test, verbose=1)"
   ]
  },
  {
   "cell_type": "code",
   "execution_count": 30,
   "metadata": {},
   "outputs": [
    {
     "data": {
      "text/plain": [
       "Text(0.5, 1.0, 'Metric')"
      ]
     },
     "execution_count": 30,
     "metadata": {},
     "output_type": "execute_result"
    },
    {
     "data": {
      "image/png": "[encoded data removed]",
      "text/plain": [
       "<Figure size 1152x1152 with 4 Axes>"
      ]
     },
     "metadata": {
      "needs_background": "light"
     },
     "output_type": "display_data"
    }
   ],
   "source": [
    "    fig = plt.figure()\n",
    "    fig.set_size_inches(16,16)\n",
    "\n",
    "    ax=fig.add_subplot(3,2,1)\n",
    "    ax.plot(hist.history['rmse'])\n",
    "    ax.plot(hist.history['mse'])\n",
    "    ax.legend(['Metric', 'Loss'])\n",
    "    ax.set_title('Train')\n",
    "\n",
    "    ax=fig.add_subplot(3,2,2)\n",
    "    ax.plot(hist.history['val_rmse'])\n",
    "    ax.plot(hist.history['val_mse'])\n",
    "    ax.legend(['Metric', 'Loss'])\n",
    "    ax.set_title('Test')\n",
    "\n",
    "    ax=fig.add_subplot(3,2,3)\n",
    "    ax.plot(hist.history['loss'])\n",
    "    ax.plot(hist.history['val_loss'])\n",
    "    ax.legend(['Train', 'Test'])\n",
    "    ax.set_title('Loss')\n",
    "\n",
    "    ax=fig.add_subplot(3,2,4)\n",
    "    ax.plot(hist.history['rmse'])\n",
    "    ax.plot(hist.history['val_rmse'])\n",
    "    ax.legend(['Train', 'Test'])\n",
    "    ax.set_title('Metric')"
   ]
  },
  {
   "cell_type": "code",
   "execution_count": 31,
   "metadata": {},
   "outputs": [],
   "source": [
    "X_test = pd.read_csv('00_Data/loading.csv')"
   ]
  },
  {
   "cell_type": "code",
   "execution_count": 32,
   "metadata": {},
   "outputs": [],
   "source": [
    "X_test = X_test[X_test['Id'].isin(TEST_IDS)]"
   ]
  },
  {
   "cell_type": "code",
   "execution_count": 33,
   "metadata": {},
   "outputs": [],
   "source": [
    "X_test = X_test.to_numpy()"
   ]
  },
  {
   "cell_type": "code",
   "execution_count": 34,
   "metadata": {},
   "outputs": [],
   "source": [
    "X_test = X_test[:,1:]"
   ]
  },
  {
   "cell_type": "code",
   "execution_count": 35,
   "metadata": {},
   "outputs": [],
   "source": [
    "y_preds = model.predict(X_test)"
   ]
  },
  {
   "cell_type": "code",
   "execution_count": 36,
   "metadata": {},
   "outputs": [],
   "source": [
    "y_preds = y_preds.flatten()"
   ]
  },
  {
   "cell_type": "code",
   "execution_count": 38,
   "metadata": {},
   "outputs": [],
   "source": [
    "df_submission = []\n",
    "i = 0\n",
    "for idx in TEST_IDS:\n",
    "    df_submission.append(['{0}_age'.format(idx), y_preds[i]])\n",
    "    df_submission.append(['{0}_domain1_var1'.format(idx), y_preds[i+1]])\n",
    "    df_submission.append(['{0}_domain1_var2'.format(idx), y_preds[i+2]])\n",
    "    df_submission.append(['{0}_domain2_var1'.format(idx), y_preds[i+3]])\n",
    "    df_submission.append(['{0}_domain2_var2'.format(idx), y_preds[i+4]])\n",
    "    i += 5\n",
    "\n",
    "df_submission = pd.DataFrame(df_submission, columns=['Id', 'Predicted'])"
   ]
  },
  {
   "cell_type": "code",
   "execution_count": 39,
   "metadata": {},
   "outputs": [],
   "source": [
    "# df_submission.to_csv('submission_load_mae_01.csv', index=False)"
   ]
  },
  {
   "cell_type": "code",
   "execution_count": 40,
   "metadata": {},
   "outputs": [],
   "source": [
    "df_submission.to_csv('submission_load_wmae_01.csv', index=False)"
   ]
  },
  {
   "cell_type": "code",
   "execution_count": null,
   "metadata": {},
   "outputs": [],
   "source": []
  }
 ],
 "metadata": {
  "kernelspec": {
   "display_name": "Python 3",
   "language": "python",
   "name": "python3"
  },
  "language_info": {
   "codemirror_mode": {
    "name": "ipython",
    "version": 3
   },
   "file_extension": ".py",
   "mimetype": "text/x-python",
   "name": "python",
   "nbconvert_exporter": "python",
   "pygments_lexer": "ipython3",
   "version": "3.8.1"
  }
 },
 "nbformat": 4,
 "nbformat_minor": 4
}
